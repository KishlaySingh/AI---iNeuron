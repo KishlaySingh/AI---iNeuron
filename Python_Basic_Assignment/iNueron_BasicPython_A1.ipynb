{
 "cells": [
  {
   "cell_type": "markdown",
   "id": "charitable-contest",
   "metadata": {},
   "source": [
    "1. What are the differences between operators and values in the following?\n",
    "*\n",
    "'hello'\n",
    "-87.8\n",
    "-\n",
    "/\n",
    "+\n",
    "6\n",
    "\n",
    "Ans:\n",
    "- an operator is a symbol that performs an operation\n",
    "- values is  all about   which get stored in the   variables"
   ]
  },
  {
   "cell_type": "markdown",
   "id": "federal-movement",
   "metadata": {},
   "source": [
    "2. What is the difference between string and variable?\n",
    "spam\n",
    "'spam'\n",
    "\n",
    "Ans:\n",
    "\n",
    "A Variable is a store of information, and a String is a type of information you would store in a Variable. A String is usually words, enclosed with \"\" Eg String x =\"Welcome to SoloLearn\" X is the Variable, and we declared it as a String, use the single = to assign the text to it"
   ]
  },
  {
   "cell_type": "markdown",
   "id": "extended-reunion",
   "metadata": {},
   "source": [
    "3. Describe three different data forms.\n",
    "\n",
    "Ans:\n",
    "\n",
    "- Floating-Point Numbers -->\n",
    "    The float type in Python designates a floating-point number. float values are specified with a decimal point\n",
    "- Complex Numbers -->\n",
    "    Complex numbers are specified as <real part>+<imaginary part>j\n",
    "- Strings -->\n",
    "    Strings are sequences of character data. The string type in Python is called str.String literals may be delimited using   either single or double quotes. All the characters between the opening delimiter and matching closing delimiter are part of the string:\n"
   ]
  },
  {
   "cell_type": "markdown",
   "id": "extensive-loading",
   "metadata": {},
   "source": [
    "4. What makes up an expression? What are the functions of all expressions?\n",
    "\n",
    "Ans:\n",
    "\n",
    "An expression is a combination of values, variables, operators, and calls to functions. Expressions need to be evaluated. If you ask Python to print an expression, the interpreter evaluates the expression and displays the result\n",
    "\n"
   ]
  },
  {
   "cell_type": "markdown",
   "id": "congressional-translation",
   "metadata": {},
   "source": [
    "5. In this chapter, assignment statements such as spam = 10 were added. What's the difference between a declaration and an expression?\n",
    "\n",
    "Ans:\n",
    "\n",
    "An expression evaluates to a value. A statement does something. Statements represent an action or command e.g print statements, assignment statements. Expression is a combination of variables, operations and values that yields a result value"
   ]
  },
  {
   "cell_type": "code",
   "execution_count": 1,
   "id": "graphic-pasta",
   "metadata": {},
   "outputs": [
    {
     "name": "stdout",
     "output_type": "stream",
     "text": [
      "22\n"
     ]
    }
   ],
   "source": [
    "#6. After running the following code, what does the variable bacon contain?\n",
    "bacon = 22\n",
    "bacon + 1\n",
    "\n",
    "print(bacon) #22\n",
    "\n"
   ]
  },
  {
   "cell_type": "code",
   "execution_count": 2,
   "id": "chronic-jenny",
   "metadata": {},
   "outputs": [
    {
     "name": "stdout",
     "output_type": "stream",
     "text": [
      "spamspamspam\n",
      "spamspamspam\n"
     ]
    }
   ],
   "source": [
    "#7. What should the values of the following two terms be?\n",
    "\n",
    "print('spam' + 'spamspam')\n",
    "print('spam' * 3)\n"
   ]
  },
  {
   "cell_type": "markdown",
   "id": "b26537f0",
   "metadata": {},
   "source": [
    "8. Why is it that eggs is a true variable name but 100 is not?\n",
    "\n",
    "Ans:\n",
    "    \n",
    "100 is not a true variable name because variable name cannot start with a number"
   ]
  },
  {
   "cell_type": "markdown",
   "id": "5a9b00c8",
   "metadata": {},
   "source": [
    "9. Which of the following three functions may be used to convert a value to an integer, a floating-point number, or a string?\n",
    "\n",
    "Incomplete question"
   ]
  },
  {
   "cell_type": "code",
   "execution_count": 6,
   "id": "d2c0cdda",
   "metadata": {},
   "outputs": [
    {
     "data": {
      "text/plain": [
       "'I have eaten 99 burritos.'"
      ]
     },
     "execution_count": 6,
     "metadata": {},
     "output_type": "execute_result"
    }
   ],
   "source": [
    " # 10. What is the error caused by this expression? What would you do about it?\n",
    "\n",
    "# 'I have eaten ' + 99 + ' burritos.'\n",
    "\n",
    "# Expresson will throw error as can only concatenate str (not \"int\") to str. We can type cast number to string\n",
    "# 'I have eaten ' + str(99) + ' burritos.'\n"
   ]
  },
  {
   "cell_type": "code",
   "execution_count": null,
   "id": "45491bd9",
   "metadata": {},
   "outputs": [],
   "source": []
  }
 ],
 "metadata": {
  "kernelspec": {
   "display_name": "Python 3",
   "language": "python",
   "name": "python3"
  },
  "language_info": {
   "codemirror_mode": {
    "name": "ipython",
    "version": 3
   },
   "file_extension": ".py",
   "mimetype": "text/x-python",
   "name": "python",
   "nbconvert_exporter": "python",
   "pygments_lexer": "ipython3",
   "version": "3.7.3"
  }
 },
 "nbformat": 4,
 "nbformat_minor": 5
}
