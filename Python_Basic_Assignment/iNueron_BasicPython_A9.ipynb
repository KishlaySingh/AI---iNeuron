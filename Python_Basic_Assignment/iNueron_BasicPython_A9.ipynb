{
 "cells": [
  {
   "cell_type": "markdown",
   "id": "36438ae2",
   "metadata": {},
   "source": [
    "1. To what does a relative path refer?\n",
    "\n",
    "Ans:\n",
    "A relative path, which is relative to the program’s current working directory"
   ]
  },
  {
   "cell_type": "markdown",
   "id": "4d6bc494",
   "metadata": {},
   "source": [
    "2. What does an absolute path start with your operating system?\n",
    "\n",
    "ANs:\n",
    "\n",
    "Absolute file paths are notated by a leading forward slash or drive label."
   ]
  },
  {
   "cell_type": "markdown",
   "id": "92eda6b3",
   "metadata": {},
   "source": [
    "3. What do the functions os.getcwd() and os.chdir() do?\n",
    "\n",
    "Ans:\n",
    "\n",
    "os.getcwd() - Retrieve the current working directory\n",
    "\n",
    "os.chdir() - change the current working directory to specified path"
   ]
  },
  {
   "cell_type": "markdown",
   "id": "908e24a4",
   "metadata": {},
   "source": [
    "4. What are the . and .. folders?\n",
    "\n",
    "Ans:\n",
    "\n",
    ". = the current directory\n",
    ".. = the parent directory"
   ]
  },
  {
   "cell_type": "markdown",
   "id": "a83a3f11",
   "metadata": {},
   "source": [
    "5. In C:\\bacon\\eggs\\spam.txt, which part is the dir name, and which part is the base name?\n",
    "\n",
    "Ans:\n",
    "\n",
    "C:\\bacon\\eggs is the dir name, while spam.txt is the base name"
   ]
  },
  {
   "cell_type": "markdown",
   "id": "00e6baab",
   "metadata": {},
   "source": [
    "6. What are the three “mode” arguments that can be passed to the open() function?\n",
    "\n",
    "ANs:\n",
    "\n",
    "The string 'r' for read mode, 'w' for write mode, and 'a' for append mode"
   ]
  },
  {
   "cell_type": "markdown",
   "id": "9a898875",
   "metadata": {},
   "source": [
    "7. What happens if an existing file is opened in write mode?\n",
    "\n",
    "Ans:\n",
    "\n",
    "An existing file opened in write mode is erased and completely overwritten\n"
   ]
  },
  {
   "cell_type": "markdown",
   "id": "ee3f55b3",
   "metadata": {},
   "source": [
    "8. How do you tell the difference between read() and readlines()?\n",
    "\n",
    "Ans:\n",
    "\n",
    "the read() method returns the file's entire contents as a single string value. The readlines() method returns a list of strings, where each string is a line from the file's contents.\n",
    "\n"
   ]
  },
  {
   "cell_type": "markdown",
   "id": "70bb99d1",
   "metadata": {},
   "source": [
    "9. What data structure does a shelf value resemble?\n",
    "\n",
    "Ans:\n",
    "\n",
    "A shelf value resembles a dictionary value; it has keys and values, along with keys() and values() methods that work similarly to the dictionary methods of the same names.\n",
    "\n"
   ]
  },
  {
   "cell_type": "code",
   "execution_count": null,
   "id": "abc09265",
   "metadata": {},
   "outputs": [],
   "source": []
  }
 ],
 "metadata": {
  "kernelspec": {
   "display_name": "Python 3",
   "language": "python",
   "name": "python3"
  },
  "language_info": {
   "codemirror_mode": {
    "name": "ipython",
    "version": 3
   },
   "file_extension": ".py",
   "mimetype": "text/x-python",
   "name": "python",
   "nbconvert_exporter": "python",
   "pygments_lexer": "ipython3",
   "version": "3.7.3"
  }
 },
 "nbformat": 4,
 "nbformat_minor": 5
}
