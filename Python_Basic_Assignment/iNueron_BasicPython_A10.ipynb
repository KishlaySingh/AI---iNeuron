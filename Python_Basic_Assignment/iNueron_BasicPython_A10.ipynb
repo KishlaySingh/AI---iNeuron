{
 "cells": [
  {
   "cell_type": "markdown",
   "id": "ef298285",
   "metadata": {},
   "source": [
    "1. How do you distinguish between shutil.copy() and shutil.copytree()?\n",
    "\n",
    "Ans:\n",
    "\n",
    "While shutil. copy() will copy a single file, shutil. copytree() will copy an entire folder and every folder and file contained in it."
   ]
  },
  {
   "cell_type": "markdown",
   "id": "7e82be41",
   "metadata": {},
   "source": [
    "2. What function is used to rename files??\n",
    "\n",
    "Ans:\n",
    "\n",
    "os. rename()"
   ]
  },
  {
   "cell_type": "markdown",
   "id": "721a9032",
   "metadata": {},
   "source": [
    "3. What is the difference between the delete functions in the send2trash and shutil modules?\n",
    "\n",
    "ANs:\n",
    "\n",
    "Shutil modules function irreversibly deletes files and folders whereas send2trash will send folders and files to your computer’s trash or recycle bin instead of permanently deleting them"
   ]
  },
  {
   "cell_type": "markdown",
   "id": "b67e054b",
   "metadata": {},
   "source": [
    "4.ZipFile objects have a close() method just like File objects’ close() method. What ZipFile method is\n",
    "equivalent to File objects’ open() method?\n",
    "\n",
    "Ans:\n",
    "\n",
    "ZipFile.Open()"
   ]
  },
  {
   "cell_type": "code",
   "execution_count": 2,
   "id": "f76d7293",
   "metadata": {},
   "outputs": [],
   "source": [
    "# 5. Create a programme that searches a folder tree for files with a certain file extension (such as .pdf\n",
    "# or .jpg). Copy these files from whatever location they are in to a new folder.\n",
    "\n",
    "import os, shutil\n"
   ]
  },
  {
   "cell_type": "code",
   "execution_count": 23,
   "id": "a40e3294",
   "metadata": {},
   "outputs": [],
   "source": [
    "extension = ['.pdf','.txt']\n",
    "srcFolder = r'C:\\Users\\kishl\\OneDrive\\Desktop\\Module'\n",
    "destFolder = r'C:\\Users\\kishl\\OneDrive\\Desktop\\Dest Module'"
   ]
  },
  {
   "cell_type": "code",
   "execution_count": 33,
   "id": "ae479c52",
   "metadata": {},
   "outputs": [],
   "source": [
    "def selectiveCopy(extensions,srcFolder,destFolder):\n",
    "    srcFolder = os.path.abspath(srcFolder)\n",
    "    print(srcFolder)\n",
    "    destFolder = os.path.abspath(destFolder)\n",
    "    print(destFolder)\n",
    "    for foldername,subfoldername,filenames in os.walk(srcFolder):\n",
    "        print(foldername,subfoldername,filenames)\n",
    "        for filename in filenames:\n",
    "            name, extension = os.path.splitext(filename)\n",
    "            print(name, extension)\n",
    "            if extension in extensions:\n",
    "                fileAbsPath = foldername+os.path.sep+filename\n",
    "                print('copying',fileAbsPath,'to',destFolder)\n",
    "                shutil.copy(fileAbsPath,destFolder)\n",
    "    "
   ]
  },
  {
   "cell_type": "code",
   "execution_count": 34,
   "id": "896969f2",
   "metadata": {},
   "outputs": [
    {
     "name": "stdout",
     "output_type": "stream",
     "text": [
      "C:\\Users\\kishl\\OneDrive\\Desktop\\Module\n",
      "C:\\Users\\kishl\\OneDrive\\Desktop\\Dest Module\n",
      "C:\\Users\\kishl\\OneDrive\\Desktop\\Module ['Debug'] ['DEIPKXXXXK-DEMAND-AH9836282-03042021.pdf']\n",
      "DEIPKXXXXK-DEMAND-AH9836282-03042021 .pdf\n",
      "copying C:\\Users\\kishl\\OneDrive\\Desktop\\Module\\DEIPKXXXXK-DEMAND-AH9836282-03042021.pdf to C:\\Users\\kishl\\OneDrive\\Desktop\\Dest Module\n",
      "C:\\Users\\kishl\\OneDrive\\Desktop\\Module\\Debug ['logging'] ['DEIPKXXXXK-DEMAND-AH9836282-03042021.pdf', 'GIT Steps.txt']\n",
      "DEIPKXXXXK-DEMAND-AH9836282-03042021 .pdf\n",
      "copying C:\\Users\\kishl\\OneDrive\\Desktop\\Module\\Debug\\DEIPKXXXXK-DEMAND-AH9836282-03042021.pdf to C:\\Users\\kishl\\OneDrive\\Desktop\\Dest Module\n",
      "GIT Steps .txt\n",
      "copying C:\\Users\\kishl\\OneDrive\\Desktop\\Module\\Debug\\GIT Steps.txt to C:\\Users\\kishl\\OneDrive\\Desktop\\Dest Module\n",
      "C:\\Users\\kishl\\OneDrive\\Desktop\\Module\\Debug\\logging [] ['DEIPKXXXXK-DEMAND-AH9836282-03042021.pdf', 'GIT Steps.txt', 'Log.log']\n",
      "DEIPKXXXXK-DEMAND-AH9836282-03042021 .pdf\n",
      "copying C:\\Users\\kishl\\OneDrive\\Desktop\\Module\\Debug\\logging\\DEIPKXXXXK-DEMAND-AH9836282-03042021.pdf to C:\\Users\\kishl\\OneDrive\\Desktop\\Dest Module\n",
      "GIT Steps .txt\n",
      "copying C:\\Users\\kishl\\OneDrive\\Desktop\\Module\\Debug\\logging\\GIT Steps.txt to C:\\Users\\kishl\\OneDrive\\Desktop\\Dest Module\n",
      "Log .log\n"
     ]
    }
   ],
   "source": [
    "selectiveCopy(extension,srcFolder,destFolder)"
   ]
  }
 ],
 "metadata": {
  "kernelspec": {
   "display_name": "Python 3",
   "language": "python",
   "name": "python3"
  },
  "language_info": {
   "codemirror_mode": {
    "name": "ipython",
    "version": 3
   },
   "file_extension": ".py",
   "mimetype": "text/x-python",
   "name": "python",
   "nbconvert_exporter": "python",
   "pygments_lexer": "ipython3",
   "version": "3.7.3"
  }
 },
 "nbformat": 4,
 "nbformat_minor": 5
}
