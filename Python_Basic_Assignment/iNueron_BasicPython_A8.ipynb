{
 "cells": [
  {
   "cell_type": "markdown",
   "id": "ad7f15c0",
   "metadata": {},
   "source": [
    "1. Is the Python Standard Library included with PyInputPlus?\n",
    "\n",
    "Ans: \n",
    "No"
   ]
  },
  {
   "cell_type": "markdown",
   "id": "c7f8345d",
   "metadata": {},
   "source": [
    "2. Why is PyInputPlus commonly imported with import pyinputplus as pypi?\n",
    "\n",
    "ANs:\n",
    "\n",
    "pypi is a alias name."
   ]
  },
  {
   "cell_type": "markdown",
   "id": "c02a4a14",
   "metadata": {},
   "source": [
    "3. How do you distinguish between inputInt() and inputFloat()?\n",
    "\n",
    "Ans:\n",
    "\n",
    "inputInt() - Accepts an integer number. Also has min/max/greaterThan/lessThan parameters. Returns an int, not a str.\n",
    "inputFloat() - Accepts a floating-point number. Also has min/max/greaterThan/lessThan parameters. Returns a float, not a str."
   ]
  },
  {
   "cell_type": "markdown",
   "id": "de437d5a",
   "metadata": {},
   "source": [
    "4. Using PyInputPlus, how do you ensure that the user enters a whole number between 0 and 99?\n",
    "\n",
    "Ans:\n",
    "\n",
    "By using inputInt() and providing min and max value\n",
    "\n",
    "inputInt(min=0,max=99)"
   ]
  },
  {
   "cell_type": "markdown",
   "id": "902c0af0",
   "metadata": {},
   "source": [
    "5. What is transferred to the keyword arguments allowRegexes and blockRegexes?\n",
    "\n",
    "Ans:\n",
    "\n",
    "blockRegexes:\n",
    "specify a list of regular expression strings that a PyInputPlus function won’t accept by using the blockRegexes keyword argument\n",
    "\n",
    "allowRegexes:\n",
    "We can set a list of regex strings to the allowRegexes parameter to the PyInputPlus functions."
   ]
  },
  {
   "cell_type": "markdown",
   "id": "f1e08ddd",
   "metadata": {},
   "source": [
    "6. If a blank input is entered three times, what does inputStr(limit=3) do?\n",
    "\n",
    "Ans:\n",
    "\n",
    "Throw error with RetryLimitException"
   ]
  },
  {
   "cell_type": "markdown",
   "id": "7ea85e5c",
   "metadata": {},
   "source": [
    "7. If blank input is entered three times, what does inputStr(limit=3, default='hello') do?\n",
    "\n",
    "Ans:\n",
    "\n",
    "hello will be printed"
   ]
  },
  {
   "cell_type": "code",
   "execution_count": null,
   "id": "180a69b1",
   "metadata": {},
   "outputs": [],
   "source": []
  }
 ],
 "metadata": {
  "kernelspec": {
   "display_name": "Python 3",
   "language": "python",
   "name": "python3"
  },
  "language_info": {
   "codemirror_mode": {
    "name": "ipython",
    "version": 3
   },
   "file_extension": ".py",
   "mimetype": "text/x-python",
   "name": "python",
   "nbconvert_exporter": "python",
   "pygments_lexer": "ipython3",
   "version": "3.7.3"
  }
 },
 "nbformat": 4,
 "nbformat_minor": 5
}
