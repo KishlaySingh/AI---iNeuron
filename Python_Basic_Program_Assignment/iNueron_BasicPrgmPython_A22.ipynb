{
 "cells": [
  {
   "cell_type": "code",
   "execution_count": 1,
   "id": "1d318b4e",
   "metadata": {},
   "outputs": [
    {
     "name": "stdout",
     "output_type": "stream",
     "text": [
      "[3, 6, 9]\n",
      "[8]\n",
      "[]\n"
     ]
    }
   ],
   "source": [
    "# Question1\n",
    "# Create a function that takes three parameters where:\n",
    "#  x is the start of the range (inclusive).\n",
    "#  y is the end of the range (inclusive).\n",
    "#  n is the divisor to be checked against.\n",
    "# Return an ordered list with numbers in the range that are divisible by the third parameter n.\n",
    "# Return an empty list if there are no numbers that are divisible by n.\n",
    "# Examples\n",
    "# list_operation(1, 10, 3) ➞ [3, 6, 9]\n",
    "# list_operation(7, 9, 2) ➞ [8]\n",
    "# list_operation(15, 20, 7) ➞ []\n",
    "\n",
    "def findDivisible(x,y,n):\n",
    "    return [i for i in range(x,y+1) if i%n==0]\n",
    "\n",
    "print(findDivisible(1,10,3))\n",
    "print(findDivisible(7,9,2))\n",
    "print(findDivisible(15,20,7))"
   ]
  },
  {
   "cell_type": "code",
   "execution_count": 19,
   "id": "e8e7a0b5",
   "metadata": {},
   "outputs": [
    {
     "name": "stdout",
     "output_type": "stream",
     "text": [
      "True\n",
      "False\n",
      "True\n",
      "False\n"
     ]
    }
   ],
   "source": [
    "# Question2\n",
    "# Create a function that takes in two lists and returns True if the second list follows the first list\n",
    "# by one element, and False otherwise. In other words, determine if the second list is the first\n",
    "# list shifted to the right by 1.\n",
    "# Examples\n",
    "# simon_says([1, 2], [5, 1]) ➞ True\n",
    "# simon_says([1, 2], [5, 5]) ➞ False\n",
    "# simon_says([1, 2, 3, 4, 5], [0, 1, 2, 3, 4]) ➞ True\n",
    "# simon_says([1, 2, 3, 4, 5], [5, 5, 1, 2, 3]) ➞ False\n",
    "# Notes\n",
    "#  Both input lists will be of the same length, and will have a minimum length of 2.\n",
    "#  The values of the 0-indexed element in the second list and the n-1th indexed element\n",
    "# in the first list do not matter.\n",
    "\n",
    "def common_data(list1, list2):    \n",
    "    result = True\n",
    "    if len(list1)==len(list2) and len(list1)>1 and len(list2)>1:\n",
    "        for i in range(0,len(list1)-1):\n",
    "            if list1[i] != list2[i+1]:\n",
    "                result = False\n",
    "    return result\n",
    "\n",
    "print(common_data([1, 2], [5, 1]))\n",
    "print(common_data([1, 2], [5, 5]))\n",
    "print(common_data([1, 2, 3, 4, 5], [0, 1, 2, 3, 4]))\n",
    "print(common_data([1, 2, 3, 4, 5], [5, 5, 1, 2, 3]))"
   ]
  },
  {
   "cell_type": "code",
   "execution_count": 23,
   "id": "e08d2666",
   "metadata": {},
   "outputs": [
    {
     "name": "stdout",
     "output_type": "stream",
     "text": [
      "AMS\n",
      "CHLN\n",
      "CJMPRR\n"
     ]
    }
   ],
   "source": [
    "# Question3\n",
    "# A group of friends have decided to start a secret society. The name will be the first letter of\n",
    "# each of their names, sorted in alphabetical order.\n",
    "# Create a function that takes in a list of names and returns the name of the secret society.\n",
    "# Examples\n",
    "# society_name([&quot;Adam&quot;, &quot;Sarah&quot;, &quot;Malcolm&quot;]) ➞ &quot;AMS&quot;\n",
    "# society_name([&quot;Harry&quot;, &quot;Newt&quot;, &quot;Luna&quot;, &quot;Cho&quot;]) ➞ &quot;CHLN&quot;\n",
    "# society_name([&quot;Phoebe&quot;, &quot;Chandler&quot;, &quot;Rachel&quot;, &quot;Ross&quot;, &quot;Monica&quot;, &quot;Joey&quot;])\n",
    "\n",
    "def society_name(inp):\n",
    "    return ''.join(sorted([i[0] for i in inp]))\n",
    "\n",
    "print(society_name(['Adam','Sarah','Malcolm']))\n",
    "print(society_name(['Harry','Newt','Luna','Cho']))\n",
    "print(society_name(['Phoebe','Chandler','Rachel','Ross','Monica','Joey']))\n"
   ]
  },
  {
   "cell_type": "code",
   "execution_count": 32,
   "id": "ae221b5f",
   "metadata": {},
   "outputs": [
    {
     "name": "stdout",
     "output_type": "stream",
     "text": [
      "True\n",
      "False\n",
      "False\n"
     ]
    }
   ],
   "source": [
    "# Question4\n",
    "# An isogram is a word that has no duplicate letters. Create a function that takes a string and\n",
    "# returns either True or False depending on whether or not it&#39;s an &quot;isogram&quot;.\n",
    "# Examples\n",
    "# is_isogram(&quot;Algorism&quot;) ➞ True\n",
    "# is_isogram(&quot;PasSword&quot;) ➞ False\n",
    "# # Not case sensitive.\n",
    "# is_isogram(&quot;Consecutive&quot;) ➞ False\n",
    "# Notes\n",
    "#  Ignore letter case (should not be case sensitive).\n",
    "#  All test cases contain valid one word strings.\n",
    "\n",
    "def is_isogram(inp):\n",
    "    if len(inp) ==len(set(inp.lower())):\n",
    "        return True\n",
    "    else:\n",
    "        return False\n",
    "    \n",
    "print(is_isogram('Algorism'))\n",
    "print(is_isogram('PasSword'))\n",
    "print(is_isogram('Consecutive'))"
   ]
  },
  {
   "cell_type": "code",
   "execution_count": 36,
   "id": "9681a95d",
   "metadata": {},
   "outputs": [
    {
     "name": "stdout",
     "output_type": "stream",
     "text": [
      "True\n",
      "False\n",
      "True\n",
      "True\n"
     ]
    }
   ],
   "source": [
    "# Question5\n",
    "# Create a function that takes a string and returns True or False, depending on whether the\n",
    "# characters are in order or not.\n",
    "# Examples\n",
    "# is_in_order(&quot;abc&quot;) ➞ True\n",
    "# is_in_order(&quot;edabit&quot;) ➞ False\n",
    "# is_in_order(&quot;123&quot;) ➞ True\n",
    "# is_in_order(&quot;xyzz&quot;) ➞ True\n",
    "# Notes\n",
    "# You don&#39;t have to handle empty strings.\n",
    "\n",
    "def is_in_oder(inp): \n",
    "    n = len(inp)\n",
    "    for i in range(1, n):\n",
    "        if (inp[i] < inp[i - 1]) :\n",
    "            return False\n",
    "    return True\n",
    "\n",
    "print(is_in_oder('abc'))\n",
    "print(is_in_oder('edabit'))\n",
    "print(is_in_oder('123'))\n",
    "print(is_in_oder('xyzz'))"
   ]
  }
 ],
 "metadata": {
  "kernelspec": {
   "display_name": "Python 3",
   "language": "python",
   "name": "python3"
  },
  "language_info": {
   "codemirror_mode": {
    "name": "ipython",
    "version": 3
   },
   "file_extension": ".py",
   "mimetype": "text/x-python",
   "name": "python",
   "nbconvert_exporter": "python",
   "pygments_lexer": "ipython3",
   "version": "3.7.3"
  }
 },
 "nbformat": 4,
 "nbformat_minor": 5
}
