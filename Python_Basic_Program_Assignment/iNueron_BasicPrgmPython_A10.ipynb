{
 "cells": [
  {
   "cell_type": "code",
   "execution_count": 2,
   "id": "9467142a",
   "metadata": {},
   "outputs": [
    {
     "name": "stdout",
     "output_type": "stream",
     "text": [
      "Sum of all elements in given list:  74\n"
     ]
    }
   ],
   "source": [
    "# 1. Write a Python program to find sum of elements in list?\n",
    "total = 0\n",
    " \n",
    "# creating a list\n",
    "list1 = [11, 5, 17, 18, 23]\n",
    "\n",
    "for ele in range(0, len(list1)):\n",
    "    total = total + list1[ele]\n",
    " \n",
    "# printing total value\n",
    "print(\"Sum of all elements in given list: \", total)\n"
   ]
  },
  {
   "cell_type": "code",
   "execution_count": 3,
   "id": "6fc26590",
   "metadata": {},
   "outputs": [
    {
     "name": "stdout",
     "output_type": "stream",
     "text": [
      "6\n"
     ]
    }
   ],
   "source": [
    "# 2. Write a Python program to Multiply all numbers in the list?\n",
    "\n",
    "def multiplyList(myList) :\n",
    "     \n",
    "    # Multiply elements one by one\n",
    "    result = 1\n",
    "    for x in myList:\n",
    "         result = result * x\n",
    "    return result\n",
    "     \n",
    "list1 = [1, 2, 3]\n",
    "print(multiplyList(list1))\n"
   ]
  },
  {
   "cell_type": "code",
   "execution_count": 8,
   "id": "4f8abda9",
   "metadata": {},
   "outputs": [
    {
     "name": "stdout",
     "output_type": "stream",
     "text": [
      "Smallest element is: 4\n"
     ]
    }
   ],
   "source": [
    "# 3. Write a Python program to find smallest number in a list?\n",
    "list1 = [10, 20, 4, 45, 99]\n",
    " \n",
    "# sorting the list\n",
    "list1.sort()\n",
    " \n",
    "# printing the first element\n",
    "print(\"Smallest element is:\", *list1[:1])"
   ]
  },
  {
   "cell_type": "code",
   "execution_count": 11,
   "id": "53be512b",
   "metadata": {},
   "outputs": [
    {
     "name": "stdout",
     "output_type": "stream",
     "text": [
      "largest element is: 99\n"
     ]
    }
   ],
   "source": [
    "# 4. Write a Python program to find largest number in a list?\n",
    "\n",
    "list1 = [10, 20, 4, 45, 99]\n",
    " \n",
    "# sorting the list\n",
    "list1.sort()\n",
    " \n",
    "# printing the last element\n",
    "print(\"largest element is:\", *list1[-1:])"
   ]
  },
  {
   "cell_type": "code",
   "execution_count": 12,
   "id": "fee8a591",
   "metadata": {},
   "outputs": [
    {
     "name": "stdout",
     "output_type": "stream",
     "text": [
      "Second largest element is: 45\n"
     ]
    }
   ],
   "source": [
    "# 5. Write a Python program to find second largest number in a list?\n",
    "list1 = [10, 20, 4, 45, 99]\n",
    " \n",
    "# sorting the list\n",
    "list1.sort()\n",
    " \n",
    "# printing the second last element\n",
    "print(\"Second largest element is:\", list1[-2])"
   ]
  },
  {
   "cell_type": "code",
   "execution_count": 13,
   "id": "e18079a7",
   "metadata": {},
   "outputs": [
    {
     "name": "stdout",
     "output_type": "stream",
     "text": [
      "[298, 900, 1000, 3579]\n"
     ]
    }
   ],
   "source": [
    "# 6. Write a Python program to find N largest elements from a list?\n",
    "\n",
    "l = [1000,298,3579,100,200,-45,900]\n",
    "n = 4\n",
    "  \n",
    "l.sort()\n",
    "print(l[-n:])"
   ]
  },
  {
   "cell_type": "code",
   "execution_count": 14,
   "id": "39429633",
   "metadata": {},
   "outputs": [
    {
     "name": "stdout",
     "output_type": "stream",
     "text": [
      "[0, 2, 4, 6, 8]\n"
     ]
    }
   ],
   "source": [
    "# 7. Write a Python program to print even numbers in a list?\n",
    "print([i for i in range(10) if i%2==0])"
   ]
  },
  {
   "cell_type": "code",
   "execution_count": 15,
   "id": "e84b9d79",
   "metadata": {},
   "outputs": [
    {
     "name": "stdout",
     "output_type": "stream",
     "text": [
      "[1, 3, 5, 7, 9]\n"
     ]
    }
   ],
   "source": [
    "# 8. Write a Python program to print odd numbers in a List?\n",
    "print([i for i in range(10) if i%2!=0])"
   ]
  },
  {
   "cell_type": "code",
   "execution_count": 16,
   "id": "a8fe198e",
   "metadata": {},
   "outputs": [
    {
     "name": "stdout",
     "output_type": "stream",
     "text": [
      "[5, 6, 3, 9]\n"
     ]
    }
   ],
   "source": [
    "# 9. Write a Python program to Remove empty List from List?\n",
    "test_list = [5, 6, [], 3, [], [], 9]\n",
    "  \n",
    "print([ele for ele in test_list if ele != []])"
   ]
  },
  {
   "cell_type": "code",
   "execution_count": 17,
   "id": "c1d55e2d",
   "metadata": {},
   "outputs": [
    {
     "name": "stdout",
     "output_type": "stream",
     "text": [
      "Original List: [4, 8, 2, 10, 15, 18]\n",
      "After Cloning: [4, 8, 2, 10, 15, 18]\n"
     ]
    }
   ],
   "source": [
    "# 10. Write a Python program to Cloning or Copying a list?\n",
    "def Cloning(li1):\n",
    "    li_copy = li1[:]\n",
    "    return li_copy\n",
    "\n",
    "li1 = [4, 8, 2, 10, 15, 18]\n",
    "li2 = Cloning(li1)\n",
    "print(\"Original List:\", li1)\n",
    "print(\"After Cloning:\", li2)"
   ]
  },
  {
   "cell_type": "code",
   "execution_count": 19,
   "id": "305c293f",
   "metadata": {},
   "outputs": [
    {
     "name": "stdout",
     "output_type": "stream",
     "text": [
      "5\n"
     ]
    }
   ],
   "source": [
    "# 11. Write a Python program to Count occurrences of an element in a list?\n",
    "\n",
    "lst = [8, 6, 8, 10, 8, 20, 10, 8, 8]\n",
    "x = 8\n",
    "\n",
    "print(lst.count(x))"
   ]
  },
  {
   "cell_type": "code",
   "execution_count": null,
   "id": "cdffd24c",
   "metadata": {},
   "outputs": [],
   "source": []
  }
 ],
 "metadata": {
  "kernelspec": {
   "display_name": "Python 3",
   "language": "python",
   "name": "python3"
  },
  "language_info": {
   "codemirror_mode": {
    "name": "ipython",
    "version": 3
   },
   "file_extension": ".py",
   "mimetype": "text/x-python",
   "name": "python",
   "nbconvert_exporter": "python",
   "pygments_lexer": "ipython3",
   "version": "3.7.3"
  }
 },
 "nbformat": 4,
 "nbformat_minor": 5
}
