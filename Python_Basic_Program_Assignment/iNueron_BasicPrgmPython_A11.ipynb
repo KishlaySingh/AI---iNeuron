{
 "cells": [
  {
   "cell_type": "code",
   "execution_count": 2,
   "id": "143750d6",
   "metadata": {},
   "outputs": [
    {
     "name": "stdout",
     "output_type": "stream",
     "text": [
      "All words which are greater than given length  5 are  ['python', 'programming', 'iNeuron']\n"
     ]
    }
   ],
   "source": [
    "# 1. Write a Python program to find words which are greater than given length k?\n",
    "a= 'learn python programming at iNeuron'\n",
    "k=5\n",
    "largerStrings = []\n",
    "words = a.split(\" \")\n",
    "for word in words:\n",
    "\tif len(word) > k:\n",
    "\t\tlargerStrings.append(word)\n",
    "\t\t\n",
    "# printing values\n",
    "print(\"All words which are greater than given length \", k, \"are \", largerStrings)"
   ]
  },
  {
   "cell_type": "code",
   "execution_count": 4,
   "id": "0c82e791",
   "metadata": {},
   "outputs": [
    {
     "name": "stdout",
     "output_type": "stream",
     "text": [
      "lean python programming at iNeuron\n"
     ]
    }
   ],
   "source": [
    "# 2. Write a Python program for removing i-th character from a string?\n",
    "\n",
    "def remove(string, i): \n",
    "\n",
    "    a = string[ : i] \n",
    "    b = string[i + 1:]\n",
    "    return a + b\n",
    "\n",
    "a= 'learn python programming at iNeuron'\n",
    "k=3\n",
    "print(remove(a,k))"
   ]
  },
  {
   "cell_type": "code",
   "execution_count": 5,
   "id": "a306fdd9",
   "metadata": {},
   "outputs": [
    {
     "name": "stdout",
     "output_type": "stream",
     "text": [
      "['learn', 'python', 'programming', 'at', 'iNeuron']\n",
      "learn-python-programming-at-iNeuron\n"
     ]
    }
   ],
   "source": [
    "# 3. Write a Python program to split and join a string?\n",
    "\n",
    "def split_string(string):\n",
    "  \n",
    "    # Split the string based on space delimiter\n",
    "    list_string = string.split(' ')      \n",
    "    return list_string\n",
    "  \n",
    "def join_string(list_string):\n",
    "  \n",
    "    # Join the string based on '-' delimiter\n",
    "    string = '-'.join(list_string)    \n",
    "    return string\n",
    "  \n",
    "string = 'learn python programming at iNeuron'\n",
    "list_string = split_string(string)\n",
    "print(list_string)\n",
    "\n",
    " # Join list of strings into one\n",
    "new_string = join_string(list_string)\n",
    "print(new_string)"
   ]
  },
  {
   "cell_type": "code",
   "execution_count": 6,
   "id": "50a6bdab",
   "metadata": {},
   "outputs": [
    {
     "name": "stdout",
     "output_type": "stream",
     "text": [
      "Yes\n"
     ]
    }
   ],
   "source": [
    "# 4. Write a Python to check if a given string is binary string or not?\n",
    "\n",
    "def check(string) :\n",
    "  \n",
    "    p = set(string)  \n",
    "    # declare set of '0', '1' .\n",
    "    s = {'0', '1'}\n",
    "    if s == p or p == {'0'} or p == {'1'}:\n",
    "        print(\"Yes\")\n",
    "    else :\n",
    "        print(\"No\")\n",
    "   \n",
    "string = \"101010000111\"\n",
    "check(string)"
   ]
  },
  {
   "cell_type": "code",
   "execution_count": 7,
   "id": "030c8550",
   "metadata": {},
   "outputs": [
    {
     "name": "stdout",
     "output_type": "stream",
     "text": [
      "['Learning', 'from']\n"
     ]
    }
   ],
   "source": [
    "# 5. Write a Python program to find uncommon words from two Strings?\n",
    "\n",
    "A = \"Geeks for Geeks\" \n",
    "B = \"Learning from Geeks for Geeks\"\n",
    "un_comm = [i for i in \"\".join(B).split() if i not in \"\".join(A).split()]\n",
    "print(un_comm)"
   ]
  },
  {
   "cell_type": "code",
   "execution_count": 8,
   "id": "e67c6c9c",
   "metadata": {},
   "outputs": [
    {
     "name": "stdout",
     "output_type": "stream",
     "text": [
      "n\n"
     ]
    }
   ],
   "source": [
    "# 6. Write a Python to find all duplicate characters in string?\n",
    "\n",
    "string = \"ineuron\"\n",
    "duplicates = []\n",
    "for char in string:\n",
    "   if string.count(char) > 1:\n",
    "       if char not in duplicates:\n",
    "           duplicates.append(char)\n",
    "print(*duplicates)"
   ]
  },
  {
   "cell_type": "code",
   "execution_count": 11,
   "id": "e9934195",
   "metadata": {},
   "outputs": [
    {
     "name": "stdout",
     "output_type": "stream",
     "text": [
      "String contains Special Characters.\n"
     ]
    }
   ],
   "source": [
    "# 7. Write a Python Program to check if a string contains any special character?\n",
    "import re\n",
    "def check_splcharacter(test):\n",
    "    string_check= re.compile('[@_!#$%^&*()<>?/\\|}{~:]')\n",
    "    if(string_check.search(test) == None):\n",
    "        print(\"String does not contain Special Characters.\") \n",
    "    else: \n",
    "        print(\"String contains Special Characters.\")\n",
    "\n",
    "test = \"inue&%rony\"\n",
    "check_splcharacter(test)"
   ]
  },
  {
   "cell_type": "code",
   "execution_count": null,
   "id": "664ec9ae",
   "metadata": {},
   "outputs": [],
   "source": []
  }
 ],
 "metadata": {
  "kernelspec": {
   "display_name": "Python 3",
   "language": "python",
   "name": "python3"
  },
  "language_info": {
   "codemirror_mode": {
    "name": "ipython",
    "version": 3
   },
   "file_extension": ".py",
   "mimetype": "text/x-python",
   "name": "python",
   "nbconvert_exporter": "python",
   "pygments_lexer": "ipython3",
   "version": "3.7.3"
  }
 },
 "nbformat": 4,
 "nbformat_minor": 5
}
