{
 "cells": [
  {
   "cell_type": "code",
   "execution_count": 3,
   "id": "6a549dc3",
   "metadata": {},
   "outputs": [
    {
     "name": "stdout",
     "output_type": "stream",
     "text": [
      "[1, 2, 3, 4]\n",
      "[0, 1729]\n",
      "[]\n"
     ]
    }
   ],
   "source": [
    "# Question1\n",
    "# Create a function that takes a list of strings and integers, and filters out the list so that it\n",
    "# returns a list of integers only.\n",
    "# Examples\n",
    "# filter_list([1, 2, 3, &quot;a&quot;, &quot;b&quot;, 4]) ➞ [1, 2, 3, 4]\n",
    "# filter_list([&quot;A&quot;, 0, &quot;Edabit&quot;, 1729, &quot;Python&quot;, &quot;1729&quot;]) ➞ [0, 1729]\n",
    "# filter_list([&quot;Nothing&quot;, &quot;here&quot;]) ➞ []\n",
    "\n",
    "def filterList(inp):\n",
    "    return [i for i in inp if type(i)==int]\n",
    "\n",
    "print(filterList([1,2,3,'a','b',4]))\n",
    "print(filterList(['A',0,'E',1729,'Python','1729']))\n",
    "print(filterList(['Nothing','here']))"
   ]
  },
  {
   "cell_type": "code",
   "execution_count": 12,
   "id": "85a26d3e",
   "metadata": {},
   "outputs": [
    {
     "name": "stdout",
     "output_type": "stream",
     "text": [
      "[0, 1, 2, 3, 4]\n",
      "[1, 3, 5, 7, 9]\n",
      "[5, 5, 5, 5, 5]\n"
     ]
    }
   ],
   "source": [
    "# Question2\n",
    "# Given a list of numbers, create a function which returns the list but with each element&#39;s\n",
    "# index in the list added to itself. This means you add 0 to the number at index 0, add 1 to the\n",
    "# number at index 1, etc...\n",
    "# Examples\n",
    "# add_indexes([0, 0, 0, 0, 0]) ➞ [0, 1, 2, 3, 4]\n",
    "# add_indexes([1, 2, 3, 4, 5]) ➞ [1, 3, 5, 7, 9]\n",
    "# add_indexes([5, 4, 3, 2, 1]) ➞ [5, 5, 5, 5, 5]\n",
    "\n",
    "def addIndexToElement(inp):\n",
    "    return [i[0]+i[1] for i in enumerate(inp)]\n",
    "\n",
    "print(addIndexToElement([0, 0, 0, 0, 0]))\n",
    "print(addIndexToElement([1, 2, 3, 4, 5]))\n",
    "print(addIndexToElement([5, 4, 3, 2, 1]))"
   ]
  },
  {
   "cell_type": "code",
   "execution_count": 27,
   "id": "a9fa4828",
   "metadata": {},
   "outputs": [
    {
     "name": "stdout",
     "output_type": "stream",
     "text": [
      "12.57\n",
      "565.49\n",
      "0.0\n"
     ]
    }
   ],
   "source": [
    "\n",
    "# Create a function that takes the height and radius of a cone as arguments and returns the\n",
    "# volume of the cone rounded to the nearest hundredth. See the resources tab for the formula.\n",
    "import math\n",
    "def volumeOfCone(h,r):\n",
    "    return round((1.0/3) * math.pi * r * r * h,2)\n",
    "    \n",
    "print(volumeOfCone(3,2))\n",
    "print(volumeOfCone(15,6))\n",
    "print(volumeOfCone(18,0))"
   ]
  },
  {
   "cell_type": "code",
   "execution_count": 32,
   "id": "177202a2",
   "metadata": {},
   "outputs": [
    {
     "name": "stdout",
     "output_type": "stream",
     "text": [
      "1\n",
      "21\n",
      "23220\n"
     ]
    }
   ],
   "source": [
    "# Question4\n",
    "# This Triangular Number Sequence is generated from a pattern of dots that form a triangle.\n",
    "# The first 5 numbers of the sequence, or dots, are:\n",
    "# 1, 3, 6, 10, 15\n",
    "# This means that the first triangle has just one dot, the second one has three dots, the third one\n",
    "# has 6 dots and so on.\n",
    "# Write a function that gives the number of dots with its corresponding triangle number of the\n",
    "# sequence.\n",
    "\n",
    "def findDots(n):\n",
    "    return format(n*(n+1)/2,'.0f')\n",
    "\n",
    "\n",
    "print(findDots(1))\n",
    "print(findDots(6))\n",
    "print(findDots(215))"
   ]
  },
  {
   "cell_type": "code",
   "execution_count": 36,
   "id": "cd322622",
   "metadata": {},
   "outputs": [
    {
     "name": "stdout",
     "output_type": "stream",
     "text": [
      "5\n",
      "10\n",
      "7\n"
     ]
    }
   ],
   "source": [
    "# Question5\n",
    "# Create a function that takes a list of numbers between 1 and 10 (excluding one number) and\n",
    "# returns the missing number.\n",
    "# Examples\n",
    "# missing_num([1, 2, 3, 4, 6, 7, 8, 9, 10]) ➞ 5\n",
    "# missing_num([7, 2, 3, 6, 5, 9, 1, 4, 8]) ➞ 10\n",
    "# missing_num([10, 5, 1, 2, 4, 6, 8, 3, 9]) ➞ 7\n",
    "\n",
    "def findMissingNo(inp):\n",
    "    a = len(inp)+1\n",
    "    total = a*(a+1)/2\n",
    "    return format(total-sum(inp),'.0f')\n",
    "    \n",
    "\n",
    "print(findMissingNo([1, 2, 3, 4, 6, 7, 8, 9, 10]))\n",
    "print(findMissingNo([7, 2, 3, 6, 5, 9, 1, 4, 8]))\n",
    "print(findMissingNo([10, 5, 1, 2, 4, 6, 8, 3, 9]))"
   ]
  },
  {
   "cell_type": "code",
   "execution_count": null,
   "id": "acdca8eb",
   "metadata": {},
   "outputs": [],
   "source": []
  }
 ],
 "metadata": {
  "kernelspec": {
   "display_name": "Python 3",
   "language": "python",
   "name": "python3"
  },
  "language_info": {
   "codemirror_mode": {
    "name": "ipython",
    "version": 3
   },
   "file_extension": ".py",
   "mimetype": "text/x-python",
   "name": "python",
   "nbconvert_exporter": "python",
   "pygments_lexer": "ipython3",
   "version": "3.7.3"
  }
 },
 "nbformat": 4,
 "nbformat_minor": 5
}
