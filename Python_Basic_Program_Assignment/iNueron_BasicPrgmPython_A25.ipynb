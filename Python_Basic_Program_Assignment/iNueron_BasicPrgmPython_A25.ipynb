{
 "cells": [
  {
   "cell_type": "code",
   "execution_count": 49,
   "id": "d72f247a",
   "metadata": {},
   "outputs": [
    {
     "name": "stdout",
     "output_type": "stream",
     "text": [
      "2\n",
      "3\n",
      "0\n",
      "2\n"
     ]
    }
   ],
   "source": [
    "# Question1\n",
    "# Create a function that takes three integer arguments (a, b, c) and returns the amount of\n",
    "# integers which are of equal value.\n",
    "# Examples\n",
    "# equal(3, 4, 3) ➞ 2\n",
    "# equal(1, 1, 1) ➞ 3\n",
    "# equal(3, 4, 1) ➞ 0\n",
    "\n",
    "def equal(a,b,c):\n",
    "    res= max({i:[a,b,c].count(i) for i in [a,b,c]}.values())\n",
    "    if res>1:\n",
    "        return res\n",
    "    else:\n",
    "        return 0\n",
    "\n",
    "print(equal(3,4,3))\n",
    "print(equal(1, 1, 1))\n",
    "print(equal(3, 4, 1))\n",
    "print(equal(3, 1, 1))"
   ]
  },
  {
   "cell_type": "code",
   "execution_count": 25,
   "id": "22099820",
   "metadata": {},
   "outputs": [
    {
     "name": "stdout",
     "output_type": "stream",
     "text": [
      "[('B', 1), ('C', 3), ('D', 1)]\n",
      "[('dislikes', 3), ('followers', 10), ('likes', 2)]\n"
     ]
    }
   ],
   "source": [
    "# Question2\n",
    "# Write a function that converts a dictionary into a list of keys-values tuples.\n",
    "# Examples\n",
    "# dict_to_list({\n",
    "# &quot;D&quot;: 1,\n",
    "# &quot;B&quot;: 2,\n",
    "# &quot;C&quot;: 3\n",
    "# }) ➞ [(&quot;B&quot;, 2), (&quot;C&quot;, 3), (&quot;D&quot;, 1)]\n",
    "# dict_to_list({\n",
    "# &quot;likes&quot;: 2,\n",
    "# &quot;dislikes&quot;: 3,\n",
    "# &quot;followers&quot;: 10\n",
    "# }) ➞ [(&quot;dislikes&quot;, 3), (&quot;followers&quot;, 10), (&quot;likes&quot;, 2)]\n",
    "\n",
    "def dict_to_list(inp):\n",
    "    return sorted(list(inp.items()))\n",
    "\n",
    "print(dict_to_list({'D':1,'B':1,'C':3}))\n",
    "print(dict_to_list({'likes':2,'dislikes':3,'followers':10}))"
   ]
  },
  {
   "cell_type": "code",
   "execution_count": 27,
   "id": "5852ddd5",
   "metadata": {},
   "outputs": [
    {
     "name": "stdout",
     "output_type": "stream",
     "text": [
      "{'p': 'P', 's': 'S'}\n"
     ]
    }
   ],
   "source": [
    "# Question3\n",
    "# Write a function that creates a dictionary with each (key, value) pair being the (lower case,\n",
    "# upper case) versions of a letter, respectively.\n",
    "# Examples\n",
    "# mapping([&quot;p&quot;, &quot;s&quot;]) ➞ { &quot;p&quot;: &quot;P&quot;, &quot;s&quot;: &quot;S&quot; }\n",
    "\n",
    "def mapping(inp):\n",
    "    result = {}\n",
    "    for i in inp:\n",
    "        result[i]=i.upper()\n",
    "    return result\n",
    "\n",
    "print(mapping(['p','s']))\n",
    "        \n",
    "\n",
    "        "
   ]
  },
  {
   "cell_type": "code",
   "execution_count": 38,
   "id": "9fe2a8df",
   "metadata": {},
   "outputs": [
    {
     "name": "stdout",
     "output_type": "stream",
     "text": [
      "upplus und bununus\n",
      "chooso cossorolo\n",
      "steffed jelepene peppers\n"
     ]
    }
   ],
   "source": [
    "# Question4\n",
    "# Write a function, that replaces all vowels in a string with a specified vowel.\n",
    "# Examples\n",
    "# vow_replace(&quot;apples and bananas&quot;, &quot;u&quot;) ➞ &quot;upplus und bununus&quot;\n",
    "# vow_replace(&quot;cheese casserole&quot;, &quot;o&quot;) ➞ &quot;chooso cossorolo&quot;\n",
    "# vow_replace(&quot;stuffed jalapeno poppers&quot;, &quot;e&quot;) ➞ &quot;steffed jelepene peppers&quot;\n",
    "\n",
    "def vow_replace(inp,k):\n",
    "    vowels = 'AEIOUaeiou'\n",
    "    for ele in vowels:    \n",
    "        inp = inp.replace(ele, k)\n",
    "    return inp\n",
    "\n",
    "print(vow_replace('apples and bananas','u'))\n",
    "print(vow_replace('cheese casserole','o'))\n",
    "print(vow_replace('stuffed jalapeno poppers','e'))"
   ]
  },
  {
   "cell_type": "code",
   "execution_count": 43,
   "id": "1513b2d6",
   "metadata": {},
   "outputs": [
    {
     "name": "stdout",
     "output_type": "stream",
     "text": [
      "To Be oR NoT To Be!\n",
      "THe LiTTLe meRmaiD\n",
      "oH wHaT a BeauTiFuL moRNiNg.\n"
     ]
    }
   ],
   "source": [
    "# Question5\n",
    "# Create a function that takes a string as input and capitalizes a letter if its ASCII code is even\n",
    "# and returns its lower case version if its ASCII code is odd.\n",
    "# Examples\n",
    "# ascii_capitalize(&quot;to be or not to be!&quot;) ➞ &quot;To Be oR NoT To Be!&quot;\n",
    "# ascii_capitalize(&quot;THE LITTLE MERMAID&quot;) ➞ &quot;THe LiTTLe meRmaiD&quot;\n",
    "# ascii_capitalize(&quot;Oh what a beautiful morning.&quot;) ➞ &quot;oH wHaT a BeauTiFuL\n",
    "# moRNiNg.&quot;\n",
    "\n",
    "def ascii_capitalize(inp):\n",
    "    return ''.join([i.upper() if ord(i)%2==0 else i.lower() for i in inp])\n",
    "\n",
    "print(ascii_capitalize('to be or not to be!'))\n",
    "print(ascii_capitalize('THE LITTLE MERMAID'))\n",
    "print(ascii_capitalize('Oh what a beautiful morning.'))"
   ]
  },
  {
   "cell_type": "code",
   "execution_count": null,
   "id": "1f150edc",
   "metadata": {},
   "outputs": [],
   "source": []
  }
 ],
 "metadata": {
  "kernelspec": {
   "display_name": "Python 3",
   "language": "python",
   "name": "python3"
  },
  "language_info": {
   "codemirror_mode": {
    "name": "ipython",
    "version": 3
   },
   "file_extension": ".py",
   "mimetype": "text/x-python",
   "name": "python",
   "nbconvert_exporter": "python",
   "pygments_lexer": "ipython3",
   "version": "3.7.3"
  }
 },
 "nbformat": 4,
 "nbformat_minor": 5
}
