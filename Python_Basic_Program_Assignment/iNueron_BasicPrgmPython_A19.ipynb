{
 "cells": [
  {
   "cell_type": "code",
   "execution_count": 6,
   "id": "d23f4e79",
   "metadata": {},
   "outputs": [
    {
     "name": "stdout",
     "output_type": "stream",
     "text": [
      "SSttrriinngg\n",
      "HHeelllloo  WWoorrlldd!!\n",
      "11223344!!__\n"
     ]
    }
   ],
   "source": [
    "# Question1\n",
    "# Create a function that takes a string and returns a string in which each character is repeated\n",
    "# once.\n",
    "# Examples\n",
    "# double_char(&quot;String&quot;) ➞ &quot;SSttrriinngg&quot;\n",
    "# double_char(&quot;Hello World!&quot;) ➞ &quot;HHeelllloo WWoorrlldd!!&quot;\n",
    "# double_char(&quot;1234!_ &quot;) ➞ &quot;11223344!!__\n",
    "\n",
    "def double(str):\n",
    "    return ''.join([c+c for c in str])\n",
    "\n",
    "print(double(\"String\"))\n",
    "print(double(\"Hello World!\"))\n",
    "print(double(\"1234!_\"))"
   ]
  },
  {
   "cell_type": "code",
   "execution_count": 14,
   "id": "b18181c5",
   "metadata": {},
   "outputs": [],
   "source": [
    "# Question2\n",
    "# Create a function that reverses a boolean value and returns the string &quot;boolean expected&quot;\n",
    "# if another variable type is given.\n",
    "# Examples\n",
    "# reverse(True) ➞ False\n",
    "# reverse(False) ➞ True\n",
    "# reverse(0) ➞ &quot;boolean expected&quot;\n",
    "# reverse(None) ➞ &quot;boolean expected&quot;\n",
    "\n",
    "def reverseBoolean(inp):\n",
    "    if type(inp)==bool:\n",
    "        return not inp\n",
    "    else:\n",
    "        return \"boolean expected\""
   ]
  },
  {
   "cell_type": "code",
   "execution_count": 15,
   "id": "a7ae9b77",
   "metadata": {},
   "outputs": [
    {
     "name": "stdout",
     "output_type": "stream",
     "text": [
      "True\n",
      "False\n",
      "boolean expected\n",
      "boolean expected\n"
     ]
    }
   ],
   "source": [
    "print(reverseBoolean(False))\n",
    "print(reverseBoolean(True))\n",
    "print(reverseBoolean(0))\n",
    "print(reverseBoolean(None))"
   ]
  },
  {
   "cell_type": "code",
   "execution_count": 28,
   "id": "7befaf51",
   "metadata": {},
   "outputs": [
    {
     "name": "stdout",
     "output_type": "stream",
     "text": [
      "0.001\n",
      "0.008\n",
      "1048.576\n"
     ]
    }
   ],
   "source": [
    "# Question3\n",
    "# Create a function that returns the thickness (in meters) of a piece of paper after folding it n\n",
    "# number of times. The paper starts off with a thickness of 0.5mm.\n",
    "# Examples\n",
    "# num_layers(1) ➞ &quot;0.001m&quot;\n",
    "# # Paper folded once is 1mm (equal to 0.001m)\n",
    "# num_layers(4) ➞ &quot;0.008m&quot;\n",
    "# # Paper folded 4 times is 8mm (equal to 0.008m)\n",
    "# num_layers(21) ➞ &quot;1048.576m&quot;\n",
    "# # Paper folded 21 times is 1048576mm (equal to 1048.576m)\n",
    "\n",
    "def fn(a):\n",
    "    res = 0.5\n",
    "    for _ in range(a):\n",
    "        res *= 2\n",
    "    return res / 1000 # for meters\n",
    "\n",
    "print(fn(1))\n",
    "print(fn(4))\n",
    "print(fn(21))\n"
   ]
  },
  {
   "cell_type": "code",
   "execution_count": 31,
   "id": "1e4e844e",
   "metadata": {},
   "outputs": [
    {
     "name": "stdout",
     "output_type": "stream",
     "text": [
      "[1, 3, 5]\n",
      "[1, 3, 4, 6]\n",
      "[]\n",
      "[0, 1, 2, 3, 4, 5]\n",
      "[1]\n"
     ]
    }
   ],
   "source": [
    "# Create a function that takes a single string as argument and returns an ordered list containing\n",
    "# the indices of all capital letters in the string.\n",
    "# Examples\n",
    "# index_of_caps(&quot;eDaBiT&quot;) ➞ [1, 3, 5]\n",
    "# index_of_caps(&quot;eQuINoX&quot;) ➞ [1, 3, 4, 6]\n",
    "# index_of_caps(&quot;determine&quot;) ➞ []\n",
    "# index_of_caps(&quot;STRIKE&quot;) ➞ [0, 1, 2, 3, 4, 5]\n",
    "# index_of_caps(&quot;sUn&quot;) ➞ [1]\n",
    "\n",
    "def findUppercase(inp):\n",
    "    return [idx for idx in range(len(inp)) if inp[idx].isupper()]\n",
    "\n",
    "print(findUppercase('eDaBiT'))\n",
    "print(findUppercase('eQuINoX'))\n",
    "print(findUppercase('determine'))\n",
    "print(findUppercase('STRIKE'))\n",
    "print(findUppercase('sUn'))"
   ]
  },
  {
   "cell_type": "code",
   "execution_count": 35,
   "id": "25916c39",
   "metadata": {},
   "outputs": [
    {
     "name": "stdout",
     "output_type": "stream",
     "text": [
      "[2, 4, 6, 8]\n",
      "[2, 4]\n",
      "[2]\n"
     ]
    }
   ],
   "source": [
    "# Question5\n",
    "# Using list comprehensions, create a function that finds all even numbers from 1 to the given\n",
    "# number.\n",
    "# Examples\n",
    "# find_even_nums(8) ➞ [2, 4, 6, 8]\n",
    "# find_even_nums(4) ➞ [2, 4]\n",
    "# find_even_nums(2) ➞ [2]\n",
    "\n",
    "def findEvenNumber(inp):\n",
    "    return [i for i in range(2,inp+1) if i%2==0]\n",
    "\n",
    "print(findEvenNumber(8))\n",
    "print(findEvenNumber(4))\n",
    "print(findEvenNumber(2))"
   ]
  },
  {
   "cell_type": "code",
   "execution_count": null,
   "id": "c80a8f78",
   "metadata": {},
   "outputs": [],
   "source": []
  }
 ],
 "metadata": {
  "kernelspec": {
   "display_name": "Python 3",
   "language": "python",
   "name": "python3"
  },
  "language_info": {
   "codemirror_mode": {
    "name": "ipython",
    "version": 3
   },
   "file_extension": ".py",
   "mimetype": "text/x-python",
   "name": "python",
   "nbconvert_exporter": "python",
   "pygments_lexer": "ipython3",
   "version": "3.7.3"
  }
 },
 "nbformat": 4,
 "nbformat_minor": 5
}
