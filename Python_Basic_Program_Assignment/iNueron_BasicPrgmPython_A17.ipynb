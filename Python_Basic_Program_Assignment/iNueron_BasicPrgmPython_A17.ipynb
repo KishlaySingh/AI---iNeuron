{
 "cells": [
  {
   "cell_type": "code",
   "execution_count": 1,
   "id": "14f7046d",
   "metadata": {},
   "outputs": [
    {
     "name": "stdout",
     "output_type": "stream",
     "text": [
      "0\n",
      "30\n",
      "18\n"
     ]
    }
   ],
   "source": [
    "# Question1. Create a function that takes three arguments a, b, c and returns the sum of the\n",
    "# numbers that are evenly divided by c from the range a, b inclusive.\n",
    "# Examples\n",
    "# evenly_divisible(1, 10, 20) ➞ 0\n",
    "# # No number between 1 and 10 can be evenly divided by 20.\n",
    "# evenly_divisible(1, 10, 2) ➞ 30\n",
    "# # 2 + 4 + 6 + 8 + 10 = 30\n",
    "# evenly_divisible(1, 10, 3) ➞ 18\n",
    "# # 3 + 6 + 9 = 18\n",
    "\n",
    "def sumDivisibles(A, B, M):\n",
    "    sum = 0\n",
    "    for i in range(A, B + 1):\n",
    "        if (i % M == 0):\n",
    "            sum += i\n",
    "    return sum\n",
    "\n",
    "print(sumDivisibles(1, 10, 20))\n",
    "print(sumDivisibles(1, 10, 2))\n",
    "print(sumDivisibles(1, 10, 3))"
   ]
  },
  {
   "cell_type": "code",
   "execution_count": 10,
   "id": "8d5bdb34",
   "metadata": {},
   "outputs": [
    {
     "name": "stdout",
     "output_type": "stream",
     "text": [
      "True\n",
      "False\n",
      "True\n"
     ]
    }
   ],
   "source": [
    "# Question2. Create a function that returns True if a given inequality expression is correct and\n",
    "# False otherwise.\n",
    "# Examples\n",
    "# correct_signs(&quot;3 &lt; 7 &lt; 11&quot;) ➞ True\n",
    "# correct_signs(&quot;13 &gt; 44 &gt; 33 &gt; 1&quot;) ➞ False\n",
    "# correct_signs(&quot;1 &lt; 2 &lt; 6 &lt; 9 &gt; 3&quot;) ➞ True\n",
    "\n",
    "def inequalityExp(inp):\n",
    "    return eval(inp)\n",
    "\n",
    "print(inequalityExp(\"3<7<11\"))\n",
    "print(inequalityExp(\"13>44>33>1\"))\n",
    "print(inequalityExp(\"1<2<6<9>3\"))"
   ]
  },
  {
   "cell_type": "code",
   "execution_count": 12,
   "id": "9dc8bb05",
   "metadata": {},
   "outputs": [
    {
     "name": "stdout",
     "output_type": "stream",
     "text": [
      "th# ##rdv#rk\n",
      "m?nn?? m??s?\n",
      "sh*k*sp**r*\n"
     ]
    }
   ],
   "source": [
    "# Question3. Create a function that replaces all the vowels in a string with a specified character.\n",
    "# Examples\n",
    "# replace_vowels(&quot;the aardvark&quot;, &quot;#&quot;) ➞ &quot;th# ##rdv#rk&quot;\n",
    "# replace_vowels(&quot;minnie mouse&quot;, &quot;?&quot;) ➞ &quot;m?nn?? m??s?&quot;\n",
    "# replace_vowels(&quot;shakespeare&quot;, &quot;*&quot;) ➞ &quot;sh*k*sp**r*&quot;\n",
    "\n",
    "def replaceVowelsWithK(test_str, K):\n",
    "    vowels = 'AEIOUaeiou'\n",
    "    for ele in vowels:\n",
    "        test_str = test_str.replace(ele, K)  \n",
    "    return test_str\n",
    "  \n",
    "\n",
    "print(replaceVowelsWithK(\"the aardvark\", \"#\"))\n",
    "print(replaceVowelsWithK(\"minnie mouse\", \"?\"))\n",
    "print(replaceVowelsWithK(\"shakespeare\", \"*\"))"
   ]
  },
  {
   "cell_type": "code",
   "execution_count": 14,
   "id": "6542e145",
   "metadata": {},
   "outputs": [
    {
     "name": "stdout",
     "output_type": "stream",
     "text": [
      "The factorial of 5 is 120\n",
      "The factorial of 3 is 6\n",
      "The factorial of 1 is 1\n",
      "The factorial of 0 is 1\n"
     ]
    }
   ],
   "source": [
    "# Question4. Write a function that calculates the factorial of a number recursively.\n",
    "# Examples\n",
    "# factorial(5) ➞ 120\n",
    "# factorial(3) ➞ 6\n",
    "# factorial(1) ➞ 1\n",
    "# factorial(0) ➞ 1\n",
    "\n",
    "def recur_factorial(n):\n",
    "   if n == 1:\n",
    "       return n\n",
    "   else:\n",
    "       return n*recur_factorial(n-1)\n",
    "nums = [5,3,1,0]\n",
    "\n",
    "for num in nums:\n",
    "    if num < 0:\n",
    "       print(\"Sorry, factorial does not exist for negative numbers\")\n",
    "    elif num == 0:\n",
    "       print(\"The factorial of 0 is 1\")\n",
    "    else:\n",
    "       print(\"The factorial of\", num, \"is\", recur_factorial(num))"
   ]
  },
  {
   "cell_type": "code",
   "execution_count": 16,
   "id": "39e95560",
   "metadata": {},
   "outputs": [
    {
     "name": "stdout",
     "output_type": "stream",
     "text": [
      "5\n",
      "0\n",
      "1\n"
     ]
    }
   ],
   "source": [
    "# Question 5\n",
    "# Hamming distance is the number of characters that differ between two strings.\n",
    "# To illustrate:\n",
    "# String1: &quot;abcbba&quot;\n",
    "# String2: &quot;abcbda&quot;\n",
    "# Hamming Distance: 1 - &quot;b&quot; vs. &quot;d&quot; is the only difference.\n",
    "# Create a function that computes the hamming distance between two strings.\n",
    "# Examples\n",
    "# hamming_distance(&quot;abcde&quot;, &quot;bcdef&quot;) ➞ 5\n",
    "# hamming_distance(&quot;abcde&quot;, &quot;abcde&quot;) ➞ 0\n",
    "# hamming_distance(&quot;strong&quot;, &quot;strung&quot;) ➞ 1\n",
    "\n",
    "def hammingDist(str1, str2):\n",
    "    i = 0\n",
    "    count = 0\n",
    " \n",
    "    while(i < len(str1)):\n",
    "        if(str1[i] != str2[i]):\n",
    "            count += 1\n",
    "        i += 1\n",
    "    return count\n",
    "\n",
    "print(hammingDist(\"abcde\", \"bcdef\"))\n",
    "print(hammingDist(\"abcde\", \"abcde\"))\n",
    "print(hammingDist(\"strong\", \"strung\"))"
   ]
  },
  {
   "cell_type": "code",
   "execution_count": null,
   "id": "dcc92a9b",
   "metadata": {},
   "outputs": [],
   "source": []
  }
 ],
 "metadata": {
  "kernelspec": {
   "display_name": "Python 3",
   "language": "python",
   "name": "python3"
  },
  "language_info": {
   "codemirror_mode": {
    "name": "ipython",
    "version": 3
   },
   "file_extension": ".py",
   "mimetype": "text/x-python",
   "name": "python",
   "nbconvert_exporter": "python",
   "pygments_lexer": "ipython3",
   "version": "3.7.3"
  }
 },
 "nbformat": 4,
 "nbformat_minor": 5
}
