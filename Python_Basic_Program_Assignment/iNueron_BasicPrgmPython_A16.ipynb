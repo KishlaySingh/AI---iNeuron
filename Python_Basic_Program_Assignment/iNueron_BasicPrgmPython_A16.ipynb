{
 "cells": [
  {
   "cell_type": "code",
   "execution_count": 11,
   "id": "39b3bf7f",
   "metadata": {},
   "outputs": [
    {
     "name": "stdout",
     "output_type": "stream",
     "text": [
      "please input : incredible\n",
      "\"in...in...incredible?\"\n"
     ]
    }
   ],
   "source": [
    "# Question1. Write a function that stutters a word as if someone is struggling to read it. The\n",
    "# first two letters are repeated twice with an ellipsis ... and space after each, and then the\n",
    "# word is pronounced with a question mark ?.\n",
    "# Examples\n",
    "# stutter(&quot;incredible&quot;) ➞ &quot;in... in... incredible?&quot;\n",
    "# stutter(&quot;enthusiastic&quot;) ➞ &quot;en... en... enthusiastic?&quot;\n",
    "# stutter(&quot;outstanding&quot;) ➞ &quot;ou... ou... outstanding?&quot;\n",
    "\n",
    "def stutter(word):\n",
    "    word1 = word[0:2]\n",
    "    print('\"'+word1+'...'+word1+'...'+word+'?'+'\"')\n",
    "\n",
    "inp = input('please input : ')\n",
    "stutter(inp)"
   ]
  },
  {
   "cell_type": "code",
   "execution_count": 17,
   "id": "2cfe67c3",
   "metadata": {},
   "outputs": [
    {
     "name": "stdout",
     "output_type": "stream",
     "text": [
      "degree = 57.3\n",
      "degree = 1145.9\n",
      "degree = 2864.8\n"
     ]
    }
   ],
   "source": [
    "# Question 2.Create a function that takes an angle in radians and returns the corresponding\n",
    "# angle in degrees rounded to one decimal place.\n",
    "# Examples\n",
    "# radians_to_degrees(1) ➞ 57.3\n",
    "# radians_to_degrees(20) ➞ 1145.9\n",
    "# radians_to_degrees(50) ➞ 2864.8\n",
    "\n",
    "def radiansToDegrees(radian):\n",
    "    pi = 3.14159\n",
    "    degree = radian * (180/pi)\n",
    "    return format(degree,'.1f')\n",
    "\n",
    "radian = 1\n",
    "print(\"degree =\",(radiansToDegrees(radian)))\n",
    "radian = 20\n",
    "print(\"degree =\",(radiansToDegrees(radian)))\n",
    "radian = 50\n",
    "print(\"degree =\",(radiansToDegrees(radian)))"
   ]
  },
  {
   "cell_type": "code",
   "execution_count": 18,
   "id": "e5fe1688",
   "metadata": {},
   "outputs": [
    {
     "name": "stdout",
     "output_type": "stream",
     "text": [
      "Yes\n",
      "No\n"
     ]
    }
   ],
   "source": [
    "# Question 3. In this challenge, establish if a given integer num is a Curzon number. If 1 plus\n",
    "# 2 elevated to num is exactly divisible by 1 plus 2 multiplied by num, then num is a Curzon\n",
    "# number.\n",
    "# Given a non-negative integer num, implement a function that returns True if num is a Curzon\n",
    "# number, or False otherwise.\n",
    "# Examples\n",
    "# is_curzon(5) ➞ True\n",
    "# # 2 ** 5 + 1 = 33\n",
    "# # 2 * 5 + 1 = 11\n",
    "# # 33 is a multiple of 11\n",
    "# is_curzon(10) ➞ False\n",
    "# # 2 ** 10 + 1 = 1025\n",
    "# # 2 * 10 + 1 = 21\n",
    "# # 1025 is not a multiple of 21\n",
    "# is_curzon(14) ➞ True\n",
    "# # 2 ** 14 + 1 = 16385\n",
    "# # 2 * 14 + 1 = 29\n",
    "# # 16385 is a multiple of 29\n",
    "\n",
    "def checkIfCurzonNumber(N):\n",
    "    powerTerm, productTerm = 0, 0\n",
    "    powerTerm = pow(2, N) + 1\n",
    "    productTerm = 2 * N + 1\n",
    "    if (powerTerm % productTerm == 0):\n",
    "        print(\"Yes\")\n",
    "    else:\n",
    "        print(\"No\")\n",
    "        \n",
    "N = 5\n",
    "checkIfCurzonNumber(N)\n",
    "\n",
    "N = 10\n",
    "checkIfCurzonNumber(N)"
   ]
  },
  {
   "cell_type": "code",
   "execution_count": 21,
   "id": "0de003a0",
   "metadata": {},
   "outputs": [
    {
     "name": "stdout",
     "output_type": "stream",
     "text": [
      "Area: 2.6\n",
      "Area: 10.4\n",
      "Area: 23.4\n"
     ]
    }
   ],
   "source": [
    "# Question 4.Given the side length x find the area of a hexagon.\n",
    "\n",
    "import math\n",
    "def hexagonArea(side):\n",
    "    return ((3 * math.sqrt(3) *\n",
    "            (s * s)) / 2);\n",
    "\n",
    "s = 1\n",
    "print(\"Area:\",\"{0:.1f}\" .\n",
    "       format(hexagonArea(s)))\n",
    "\n",
    "s = 2\n",
    "print(\"Area:\",\"{0:.1f}\" .\n",
    "       format(hexagonArea(s)))\n",
    "\n",
    "s = 3\n",
    "print(\"Area:\",\"{0:.1f}\" .\n",
    "       format(hexagonArea(s)))"
   ]
  },
  {
   "cell_type": "code",
   "execution_count": 22,
   "id": "c70fc4df",
   "metadata": {},
   "outputs": [
    {
     "name": "stdout",
     "output_type": "stream",
     "text": [
      "1\n",
      "101\n",
      "1010\n"
     ]
    }
   ],
   "source": [
    "# Question 5. Create a function that returns a base-2 (binary) representation of a base-10\n",
    "# (decimal) string number. To convert is simple: ((2) means base-2 and (10) means base-10)\n",
    "# 010101001(2) = 1 + 8 + 32 + 128.\n",
    "# Going from right to left, the value of the most right bit is 1, now from that every bit to the left\n",
    "# will be x2 the value, value of an 8 bit binary numbers are (256, 128, 64, 32, 16, 8, 4, 2, 1).\n",
    "# Examples\n",
    "# binary(1) ➞ &quot;1&quot;\n",
    "# # 1*1 = 1\n",
    "# binary(5) ➞ &quot;101&quot;\n",
    "# # 1*1 + 1*4 = 5\n",
    "# binary(10) ➞ &quot;1010&quot;\n",
    "# # 1*2 + 1*8 = 10\n",
    "\n",
    "def decimalToBinary(n):\n",
    "    return \"{0:b}\".format(int(n))\n",
    "\n",
    "print(decimalToBinary(1))\n",
    "print(decimalToBinary(5))\n",
    "print(decimalToBinary(10))"
   ]
  },
  {
   "cell_type": "code",
   "execution_count": null,
   "id": "d8e3ae81",
   "metadata": {},
   "outputs": [],
   "source": []
  }
 ],
 "metadata": {
  "kernelspec": {
   "display_name": "Python 3",
   "language": "python",
   "name": "python3"
  },
  "language_info": {
   "codemirror_mode": {
    "name": "ipython",
    "version": 3
   },
   "file_extension": ".py",
   "mimetype": "text/x-python",
   "name": "python",
   "nbconvert_exporter": "python",
   "pygments_lexer": "ipython3",
   "version": "3.7.3"
  }
 },
 "nbformat": 4,
 "nbformat_minor": 5
}
