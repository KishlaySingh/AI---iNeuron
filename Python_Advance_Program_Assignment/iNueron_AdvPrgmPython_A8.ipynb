{
 "cells": [
  {
   "cell_type": "code",
   "execution_count": 68,
   "id": "e72be6bb",
   "metadata": {},
   "outputs": [
    {
     "name": "stdout",
     "output_type": "stream",
     "text": [
      "True\n",
      "False\n",
      "True\n",
      "False\n"
     ]
    }
   ],
   "source": [
    "# 1. Given a sentence as txt, return True if any two adjacent words have this\n",
    "# property: One word ends with a vowel, while the word immediately after\n",
    "# begins with a vowel (a e i o u).\n",
    "\n",
    "def vowel_links(inp):\n",
    "    b = inp.split()\n",
    "    res = False\n",
    "    for c in range(len(b)):\n",
    "        for d in range(c+1,len(b)):      \n",
    "            if b[c][-1] in z:\n",
    "                if b[d][0] in z:\n",
    "                    res = True\n",
    "                else:\n",
    "                    break\n",
    "            else:\n",
    "                break\n",
    "    return res\n",
    "\n",
    "print(vowel_links('a very large appliance'))\n",
    "print(vowel_links('an open fire'))\n",
    "print(vowel_links('go to edabit'))\n",
    "print(vowel_links('a sudden applause'))"
   ]
  },
  {
   "cell_type": "code",
   "execution_count": 63,
   "id": "c985186e",
   "metadata": {},
   "outputs": [],
   "source": [
    "# 2. You are given three inputs: a string, one letter, and a second letter.\n",
    "# Write a function that returns True if every instance of the first letter occurs\n",
    "# before every instance of the second letter.\n",
    "\n"
   ]
  },
  {
   "cell_type": "code",
   "execution_count": 64,
   "id": "b2e93682",
   "metadata": {},
   "outputs": [],
   "source": [
    "b\n",
    "z = 'aeiou'"
   ]
  },
  {
   "cell_type": "code",
   "execution_count": 13,
   "id": "d6d2ae89",
   "metadata": {},
   "outputs": [
    {
     "name": "stdout",
     "output_type": "stream",
     "text": [
      "True\n",
      "True\n",
      "False\n",
      "False\n"
     ]
    }
   ],
   "source": [
    "def first_before_second(inp,ltr1,ltr2):\n",
    "    indices1 = [i for i, x in enumerate(inp) if x == ltr1]\n",
    "    indices2 = [i for i, x in enumerate(inp) if x == ltr2]\n",
    "    if max(indices1)> min(indices2):\n",
    "        return False\n",
    "    else:\n",
    "        return True\n",
    "    \n",
    "print(first_before_second('a rabbit jumps joyfully','a','j'))\n",
    "print(first_before_second('knaves knew about waterfalls','k','w'))\n",
    "print(first_before_second('happy birthday','a','y'))\n",
    "print(first_before_second('precarious kangaroos','k','a'))"
   ]
  },
  {
   "cell_type": "code",
   "execution_count": 22,
   "id": "b1f3d97b",
   "metadata": {},
   "outputs": [
    {
     "name": "stdout",
     "output_type": "stream",
     "text": [
      "[4, 8]\n",
      "eai\n",
      "['A', 'B', 'T', 'A', 'I', 'Y']\n"
     ]
    }
   ],
   "source": [
    "# 3. Create a function that returns the characters from a list or string r on odd or\n",
    "# even positions, depending on the specifier s. The specifier will be &quot;odd&quot; for\n",
    "# items on odd positions (1, 3, 5, ...) and &quot;even&quot; for items on even positions (2,\n",
    "# 4, 6, ...).\n",
    "\n",
    "def char_at_pos(inp,spec):\n",
    "    if spec=='even':\n",
    "        if type(inp)==list:\n",
    "            return [inp[i] for i in range(0,len(inp)) if i%2!=0]\n",
    "        else:\n",
    "            return ''.join([inp[i] for i in range(0,len(inp)) if i%2!=0])\n",
    "    else:\n",
    "        if type(inp)==list:\n",
    "            return [inp[i] for i in range(0,len(inp)) if i%2==0]\n",
    "        else:\n",
    "            return ''.join([inp[i] for i in range(0,len(inp)) if i%2==0])\n",
    "    \n",
    "print(char_at_pos([2,4,6,8,10],'even'))\n",
    "print(char_at_pos('edabit','odd'))\n",
    "print(char_at_pos(['A','R','B','I','T','R','A','R','I','L','Y'],'odd'))"
   ]
  },
  {
   "cell_type": "code",
   "execution_count": 29,
   "id": "7f124f0f",
   "metadata": {},
   "outputs": [
    {
     "name": "stdout",
     "output_type": "stream",
     "text": [
      "10\n",
      "1\n",
      "64\n"
     ]
    }
   ],
   "source": [
    "# 4. Write a function that returns the greatest common divisor of all list\n",
    "# elements. If the greatest common divisor is 1, return 1.\n",
    "\n",
    "import math\n",
    "\n",
    "def GCD(inp):\n",
    "    result = inp[0]\n",
    "    for i in inp[1:]:\n",
    "        result = gcd(result, i)\n",
    "    return result\n",
    "    \n",
    "def gcd(a, b):\n",
    "    while b > 0:\n",
    "        a, b = b, a % b\n",
    "    return a\n",
    "\n",
    "print(GCD([10,20,40]))\n",
    "print(GCD([1,2,3,100]))\n",
    "print(GCD([1024,192,2048,512]))"
   ]
  },
  {
   "cell_type": "code",
   "execution_count": 52,
   "id": "b17f8775",
   "metadata": {},
   "outputs": [
    {
     "name": "stdout",
     "output_type": "stream",
     "text": [
      "Decimal Only\n",
      "Binary Only\n",
      "Decimal and binary\n",
      "Neither!\n"
     ]
    }
   ],
   "source": [
    "# 5. A number/string is a palindrome if the digits/characters are the same when\n",
    "# read both forward and backward. Examples include &quot;racecar&quot; and 12321.\n",
    "# Given a positive number n, check if n or the binary representation of n is\n",
    "# palindromic. Return the following:\n",
    "# - &quot;Decimal only.&quot; if only n is a palindrome.\n",
    "# - &quot;Binary only.&quot; if only the binary representation of n is a palindrome.\n",
    "# - &quot;Decimal and binary.&quot; if both are palindromes.\n",
    "# - &quot;Neither!&quot; if neither are palindromes.\n",
    "\n",
    "def palindrome_type(inp):\n",
    "    rev_inp = int(''.join(list(reversed(str(inp)))))\n",
    "    bin_inp = '{0:b}'.format(inp)\n",
    "    rev_bin_inp = ''.join(list(reversed(bin_inp)))\n",
    "    if inp == rev_inp and bin_inp ==rev_bin_inp:\n",
    "        return 'Decimal and binary'\n",
    "    elif inp == rev_inp and bin_inp !=rev_bin_inp:\n",
    "        return 'Decimal Only'\n",
    "    elif inp != rev_inp and bin_inp ==rev_bin_inp:\n",
    "        return 'Binary Only'\n",
    "    else:\n",
    "        return 'Neither!'\n",
    "    \n",
    "print(palindrome_type(1306031))\n",
    "print(palindrome_type(427787))\n",
    "print(palindrome_type(313))\n",
    "print(palindrome_type(934))"
   ]
  }
 ],
 "metadata": {
  "kernelspec": {
   "display_name": "Python 3",
   "language": "python",
   "name": "python3"
  },
  "language_info": {
   "codemirror_mode": {
    "name": "ipython",
    "version": 3
   },
   "file_extension": ".py",
   "mimetype": "text/x-python",
   "name": "python",
   "nbconvert_exporter": "python",
   "pygments_lexer": "ipython3",
   "version": "3.7.3"
  }
 },
 "nbformat": 4,
 "nbformat_minor": 5
}
