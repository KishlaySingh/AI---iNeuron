{
 "cells": [
  {
   "cell_type": "markdown",
   "id": "f17225d6",
   "metadata": {},
   "source": [
    "1. Create a function that transposes a 2D matrix.\n",
    "Examples\n",
    "transpose_matrix([\n",
    "[1, 1, 1],\n",
    "[2, 2, 2],\n",
    "[3, 3, 3]\n",
    "]) ➞ [\n",
    "[1, 2, 3],\n",
    "[1, 2, 3],\n",
    "[1, 2, 3]\n",
    "]\n",
    "transpose_matrix([\n",
    "[5, 5],\n",
    "[6, 7],\n",
    "[9, 1]\n",
    "]) ➞ [\n",
    "[5, 6, 9],\n",
    "[5, 7, 1]\n",
    "]"
   ]
  },
  {
   "cell_type": "code",
   "execution_count": 6,
   "id": "fcd70272",
   "metadata": {},
   "outputs": [
    {
     "name": "stdout",
     "output_type": "stream",
     "text": [
      "[[5, 6, 9], [5, 7, 1]]\n",
      "[[1, 2, 3], [1, 2, 3], [1, 2, 3]]\n"
     ]
    }
   ],
   "source": [
    "def tanspose_matrix(inp):\n",
    "    return [list(i) for i in zip(*inp)]\n",
    "\n",
    "print(tanspose_matrix([ [5, 5], [6, 7], [9, 1] ]))\n",
    "print(tanspose_matrix([  [1, 1, 1], [2, 2, 2], [3, 3, 3] ]))"
   ]
  },
  {
   "cell_type": "markdown",
   "id": "9bae472d",
   "metadata": {},
   "source": [
    "2. Create a function that determines whether a string is a valid hex code.\n",
    "A hex code must begin with a pound key # and is exactly 6 characters in\n",
    "length. Each character must be a digit from 0-9 or an alphabetic character\n",
    "from A-F. All alphabetic characters may be uppercase or lowercase.\n",
    "Examples\n",
    "is_valid_hex_code('#CD5C5C') ➞ True"
   ]
  },
  {
   "cell_type": "code",
   "execution_count": 75,
   "id": "2a7ddf6d",
   "metadata": {},
   "outputs": [
    {
     "name": "stdout",
     "output_type": "stream",
     "text": [
      "True\n",
      "True\n",
      "True\n",
      "False\n",
      "False\n",
      "False\n",
      "False\n"
     ]
    }
   ],
   "source": [
    "import re\n",
    "def is_valid_hex_code(inp):\n",
    "    if inp.startswith('#'):\n",
    "        if len(inp)==7:\n",
    "            if bool(re.search('^[a-fA-F0-9]*$',inp[1:])):\n",
    "                return True\n",
    "            else:\n",
    "                return False\n",
    "        else:\n",
    "            return False\n",
    "    else:\n",
    "        return False\n",
    "\n",
    "print(is_valid_hex_code('#CD5C5C'))\n",
    "print(is_valid_hex_code('#EAECEE'))\n",
    "print(is_valid_hex_code('#eaecee'))\n",
    "print(is_valid_hex_code('#CD5C58C'))\n",
    "print(is_valid_hex_code('#CD5C5Z'))\n",
    "print(is_valid_hex_code('#CD5C&C'))\n",
    "print(is_valid_hex_code('CD5C5C'))"
   ]
  },
  {
   "cell_type": "markdown",
   "id": "406b7e8f",
   "metadata": {},
   "source": [
    "3. Given a list of math equations (given as strings), return the percentage of\n",
    "correct answers as a string. Round to the nearest whole number."
   ]
  },
  {
   "cell_type": "code",
   "execution_count": 117,
   "id": "8668a9d6",
   "metadata": {},
   "outputs": [
    {
     "name": "stdout",
     "output_type": "stream",
     "text": [
      "75%\n",
      "0%\n",
      "67%\n"
     ]
    }
   ],
   "source": [
    "def mark_maths(inp):\n",
    "    res = [eval(j.split('=')[0])==int(j.split('=')[1]) for j in inp]\n",
    "    return str(round((sum(res)/len(res))*100))+'%'\n",
    "\n",
    "print(mark_maths(['2+2=4', '3+2=5','10-3=3', '5+5=10']))\n",
    "print(mark_maths(['1-2=-2']))\n",
    "print(mark_maths(['2+3=5','4+4=9','3-1=2']))"
   ]
  },
  {
   "cell_type": "markdown",
   "id": "96c3e5df",
   "metadata": {},
   "source": [
    "4. There are two players, Alice and Bob, each with a 3-by-3 grid. A referee\n",
    "tells Alice to fill out one particular row in the grid (say the second row) by\n",
    "putting either a 1 or a 0 in each box, such that the sum of the numbers in that\n",
    "row is odd. The referee tells Bob to fill out one column in the grid (say the first\n",
    "column) by putting either a 1 or a 0 in each box, such that the sum of the\n",
    "numbers in that column is even.\n",
    "Alice and Bob win the game if Alice’s numbers give an odd sum, Bob’s give\n",
    "an even sum, and (most important) they’ve each written down the same\n",
    "number in the one square where their row and column intersect."
   ]
  },
  {
   "cell_type": "code",
   "execution_count": 120,
   "id": "eec87c85",
   "metadata": {},
   "outputs": [
    {
     "name": "stdout",
     "output_type": "stream",
     "text": [
      "False\n",
      "False\n",
      "True\n",
      "False\n"
     ]
    }
   ],
   "source": [
    "def magic_square_game(a,b):\n",
    "    if a[0]%2!=0 and b[0]%2==0:\n",
    "        return True\n",
    "    else:\n",
    "        return False\n",
    "\n",
    "print(magic_square_game([2,'100'],[1,'101']))\n",
    "print(magic_square_game([2,'001'],[1,'101']))\n",
    "print(magic_square_game([3,'111'],[2,'011']))\n",
    "print(magic_square_game([1,'010'],[3,'101']))"
   ]
  },
  {
   "cell_type": "markdown",
   "id": "6bbfb474",
   "metadata": {},
   "source": [
    "5. From point A, an object is moving towards point B at constant velocity va\n",
    "(in km/hr). From point B, another object is moving towards point A at constant\n",
    "velocity vb (in km/hr). Knowing this and the distance between point A and B\n",
    "(in km), write a function that returns how much time passes until both objects\n",
    "meet.\n",
    "Format the output like this:\n",
    "'2h 23min 34s'"
   ]
  },
  {
   "cell_type": "code",
   "execution_count": 176,
   "id": "d1b6d013",
   "metadata": {},
   "outputs": [
    {
     "name": "stdout",
     "output_type": "stream",
     "text": [
      "2h 30min 0s\n",
      "1h 52min 0s\n",
      "0h 38min 34s\n"
     ]
    }
   ],
   "source": [
    "def lets_meet(km,va,vb):\n",
    "    seconds = (km/(va+vb))*3600\n",
    "    a= '{:0.0f}'.format(seconds//3600)\n",
    "    b= '{:0.0f}'.format((seconds%3600)//60)\n",
    "    c= '{:0.0f}'.format((seconds%3600)%60)\n",
    "    return '{}h {}min {}s'.format(a,b,c)\n",
    "\n",
    "print(lets_meet(100,30,10))\n",
    "print(lets_meet(280,70,80))\n",
    "print(lets_meet(90,75,65))"
   ]
  }
 ],
 "metadata": {
  "kernelspec": {
   "display_name": "Python 3",
   "language": "python",
   "name": "python3"
  },
  "language_info": {
   "codemirror_mode": {
    "name": "ipython",
    "version": 3
   },
   "file_extension": ".py",
   "mimetype": "text/x-python",
   "name": "python",
   "nbconvert_exporter": "python",
   "pygments_lexer": "ipython3",
   "version": "3.7.3"
  }
 },
 "nbformat": 4,
 "nbformat_minor": 5
}
