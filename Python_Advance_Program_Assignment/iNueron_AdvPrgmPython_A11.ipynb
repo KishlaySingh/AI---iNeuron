{
 "cells": [
  {
   "cell_type": "code",
   "execution_count": null,
   "id": "0fb31f23",
   "metadata": {},
   "outputs": [],
   "source": [
    "# 1. Create a function that takes a list and returns a new list containing only\n",
    "# prime numbers.\n",
    "# Examples\n",
    "# filter_primes([7, 9, 3, 9, 10, 11, 27]) ➞ [7, 3, 11]\n",
    "\n",
    "def filter_primes(inp):\n",
    "    return [x for x in inp if all(x % y != 0 for y in range(2, x))]\n",
    "\n",
    "print(filter_primes([7, 9, 3, 9, 10, 11, 27]))\n",
    "print(filter_primes([10007,1009, 1007, 27, 147, 77, 1001, 70]))\n",
    "print(filter_primes([1009,10, 10, 10, 3, 33, 9, 4, 1, 61, 63, 69, 1087, 1091, 1093,1097]))"
   ]
  },
  {
   "cell_type": "code",
   "execution_count": 20,
   "id": "32189a4c",
   "metadata": {},
   "outputs": [
    {
     "name": "stdout",
     "output_type": "stream",
     "text": [
      "[0, 1, 2, 3, 4, 5, 4, 3, 2, 1, 0]\n",
      "[0, 1, 2, 3, 4, 3, 2, 1, 0]\n",
      "[0, 1, 2, 3, 2, 1, 0]\n",
      "[0, 1, 2, 1, 0]\n",
      "[0]\n"
     ]
    }
   ],
   "source": [
    "# 2. Once a water balloon pops, is soaks the area around it. The ground gets\n",
    "# drier the further away you travel from the balloon.\n",
    "# The effect of a water balloon popping can be modeled using a list. Create a\n",
    "# function that takes a list which takes the pre-pop state and returns the state\n",
    "# after the balloon is popped. The pre-pop state will contain at most a single\n",
    "# balloon, whose size is represented by the only non-zero element.\n",
    "# Examples\n",
    "# pop([0, 0, 0, 0, 4, 0, 0, 0, 0]) ➞ [0, 1, 2, 3, 4, 3, 2, 1, 0]\n",
    "\n",
    "def pop(inp):\n",
    "    count=1\n",
    "    out =[0]*len(inp)\n",
    "    if any(x>0 for x in inp):\n",
    "        for i,x in enumerate(inp):\n",
    "            if x>0:\n",
    "                index = i\n",
    "                val = x\n",
    "                break\n",
    "        out[index] = val        \n",
    "        while count < index:\n",
    "            out[index-count] =  val-1\n",
    "            out[index+count] =  val-1\n",
    "            count+=1\n",
    "            val = val-1\n",
    "    else:\n",
    "        return [0]\n",
    "    return out\n",
    "\n",
    "print(pop([0, 0, 0, 0,0, 5, 0, 0, 0,0,0]))\n",
    "print(pop([0, 0, 0, 0, 4, 0, 0, 0, 0]))\n",
    "print(pop([0, 0, 0, 3, 0, 0, 0]))   \n",
    "print(pop([0, 0, 2,0, 0]))   \n",
    "print(pop([0])) "
   ]
  },
  {
   "cell_type": "code",
   "execution_count": 29,
   "id": "cb3dc596",
   "metadata": {},
   "outputs": [
    {
     "name": "stdout",
     "output_type": "stream",
     "text": [
      "['Loves me', 'Loves me not', 'LOVES ME']\n",
      "['Loves me', 'Loves me not', 'Loves me', 'Loves me not', 'Loves me', 'LOVES ME NOT']\n",
      "['LOVES ME']\n"
     ]
    }
   ],
   "source": [
    "# 3. &quot;Loves me, loves me not&quot; is a traditional game in which a person plucks off\n",
    "# all the petals of a flower one by one, saying the phrase &quot;Loves me&quot; and\n",
    "# &quot;Loves me not&quot; when determining whether the one that they love, loves them\n",
    "# back.\n",
    "# Given a number of petals, return a string which repeats the phrases &quot;Loves\n",
    "# me&quot; and &quot;Loves me not&quot; for every alternating petal, and return the last phrase\n",
    "# in all caps. Remember to put a comma and space between phrases.\n",
    "# Examples\n",
    "# loves_me(3) ➞ &quot;Loves me, Loves me not, LOVES ME&quot;\n",
    "\n",
    "def loves_me(n):\n",
    "    res = ['Loves me' if i%2==0 else 'Loves me not' for i in range(n)]\n",
    "    res = res[:-1]+[res[-1].upper()]\n",
    "    return res\n",
    "\n",
    "print(loves_me(3))\n",
    "print(loves_me(6))\n",
    "print(loves_me(1))"
   ]
  },
  {
   "cell_type": "code",
   "execution_count": 42,
   "id": "f3cd5a79",
   "metadata": {},
   "outputs": [
    {
     "name": "stdout",
     "output_type": "stream",
     "text": [
      "['2344b', '932c', '832u32']\n",
      "['99a', '78b', 'c2345', '11d']\n",
      "['304q2', '5y5', '572z']\n",
      "[]\n"
     ]
    }
   ],
   "source": [
    "# 4. Write a function that sorts each string in a list by the letter in alphabetic\n",
    "# ascending order (a-z).\n",
    "# Examples\n",
    "# sort_by_letter([&quot;932c&quot;, &quot;832u32&quot;, &quot;2344b&quot;])\n",
    "# ➞ [&quot;2344b&quot;, &quot;932c&quot;, &quot;832u32&quot;]\n",
    "import re\n",
    "def sort_by_letter(inp):\n",
    "    return sorted(inp,key=lambda x: re.findall(r'[a-zA-z]+',x))\n",
    "print(sort_by_letter(['932c', '832u32', '2344b']))\n",
    "print(sort_by_letter(['99a', '78b', 'c2345','11d']))\n",
    "print(sort_by_letter(['572z', '5y5', '304q2']))\n",
    "print(sort_by_letter([]))"
   ]
  },
  {
   "cell_type": "code",
   "execution_count": 39,
   "id": "4e056c63",
   "metadata": {},
   "outputs": [],
   "source": [
    "# 5. There are three cups on a table, at positions A, B, and C. At the start, there\n",
    "# is a ball hidden under the cup at position B.However, I perform several swaps on the cups, which is notated as two\n",
    "# letters. For example, if I swap the cups at positions A and B, I could notate\n",
    "# this as AB or BA.\n",
    "# Create a function that returns the letter position that the ball is at, once I finish\n",
    "# swapping the cups. The swaps will be given to you as a list.Example\n",
    "# cup_swapping([&quot;AB&quot;, &quot;CA&quot;, &quot;AB&quot;]) ➞ &quot;C&quot;\n",
    "# Ball begins at position B.\n",
    "# Cups A and B swap, so the ball is at position A.\n",
    "# Cups C and A swap, so the ball is at position C.\n",
    "# Cups A and B swap, but the ball is at position C, so it doesn&#39;t move.\n",
    "\n",
    "def cup_swapping(inp):\n",
    "    ball_at = 'B'\n",
    "    for i in inp:\n",
    "        if i[1] == ball_at:\n",
    "            ball_at=i[0]            \n",
    "    return ball_at\n",
    "\n",
    "print(cup_swapping(['AB','CA','AB']))"
   ]
  },
  {
   "cell_type": "code",
   "execution_count": 41,
   "id": "59bb86d6",
   "metadata": {},
   "outputs": [
    {
     "name": "stdout",
     "output_type": "stream",
     "text": [
      "B\n"
     ]
    }
   ],
   "source": []
  },
  {
   "cell_type": "code",
   "execution_count": null,
   "id": "729cb0fb",
   "metadata": {},
   "outputs": [],
   "source": []
  }
 ],
 "metadata": {
  "kernelspec": {
   "display_name": "Python 3",
   "language": "python",
   "name": "python3"
  },
  "language_info": {
   "codemirror_mode": {
    "name": "ipython",
    "version": 3
   },
   "file_extension": ".py",
   "mimetype": "text/x-python",
   "name": "python",
   "nbconvert_exporter": "python",
   "pygments_lexer": "ipython3",
   "version": "3.7.3"
  }
 },
 "nbformat": 4,
 "nbformat_minor": 5
}
