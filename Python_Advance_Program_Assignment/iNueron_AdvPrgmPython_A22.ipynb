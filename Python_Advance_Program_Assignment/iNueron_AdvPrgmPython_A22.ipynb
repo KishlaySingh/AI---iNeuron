{
 "cells": [
  {
   "cell_type": "markdown",
   "id": "6e077184",
   "metadata": {},
   "source": [
    "1. Create a class Smoothie and do the following:\n",
    "- Create an instance attribute called ingredients.\n",
    "- Create a get_cost method which calculates the total cost of the\n",
    "ingredients used to make the smoothie.\n",
    "- Create a get_price method which returns the number from get_cost plus\n",
    "the number from get_cost multiplied by 1.5. Round to two decimal places.\n",
    "- Create a get_name method which gets the ingredients and puts them in\n",
    "alphabetical order into a nice descriptive sentence. If there are multiple\n",
    "ingredients, add the word &quot;Fusion&quot; to the end but otherwise, add &quot;Smoothie&quot;.\n",
    "Remember to change &quot;-berries&quot; to &quot;-berry&quot;. See the examples below.\n",
    "Ingredient Price\n",
    "Strawberries $1.50\n",
    "Banana $0.50\n",
    "Mango $2.50\n",
    "Blueberries $1.00\n",
    "Raspberries $1.00\n",
    "Apple $1.75\n",
    "Pineapple $3.50"
   ]
  },
  {
   "cell_type": "code",
   "execution_count": 105,
   "id": "435908db",
   "metadata": {},
   "outputs": [],
   "source": [
    "import re\n",
    "class Smoothie:\n",
    "    def __init__(self,ingredients):\n",
    "        self.ingredients = ingredients\n",
    "        self.__details = {'Strawberries':'$1.50','Banana':'$0.50','Mango':'$2.50',\n",
    "                         'Blueberries' : '$1.00','Raspberries':'$1.00','Apple':'$1.75'\n",
    "                         ,'Pineapple': '$3.50'}\n",
    "        \n",
    "    def get_cost(self):\n",
    "        Sum=0\n",
    "        for i in self.ingredients:\n",
    "            match = re.search('(?<=\\$).*',self.__details[i])\n",
    "            if match:\n",
    "                Sum+= float(match.group())\n",
    "        return \"$\"+str(\"%.2f\"%Sum)\n",
    "    \n",
    "    def get_price(self):\n",
    "        cost = self.get_cost()\n",
    "        match = re.search('(?<=\\$).*',cost)\n",
    "        if match:\n",
    "            return \"$\"+str(float(match.group()) + 1.5* float(match.group()))\n",
    "        \n",
    "    def get_name(self):\n",
    "        temp = {'Strawberries': 'Strawberry','Raspberries':'Raspberry','Blueberries':'Blueberry'}\n",
    "        res = ' '.join(sorted([temp[i] if i in temp else i for i in self.ingredients]))\n",
    "        return res + ' Fusion' if len(res.split())>1 else res+' Smoothie'\n",
    "    \n",
    "    \n",
    "s1 = Smoothie(['Banana'])\n",
    "print(s1.ingredients)\n",
    "print(s1.get_cost())\n",
    "print(s1.get_price())\n",
    "print(s1.get_name())\n",
    "\n",
    "s2 = Smoothie(['Raspberries','Strawberries','Blueberries'])\n",
    "print(s2.ingredients)\n",
    "print(s2.get_cost())\n",
    "print(s2.get_price())\n",
    "print(s2.get_name())"
   ]
  },
  {
   "cell_type": "markdown",
   "id": "14a7ef0e",
   "metadata": {},
   "source": [
    "2. Your task is to write a program which allows teachers to create a multiple\n",
    "choice test in a class called Testpaper and to be also able to assign a\n",
    "minimum pass mark. The testpaper's subject should also be included. The\n",
    "attributes are in the following order:\n",
    "1. subject\n",
    "2. markscheme\n",
    "3. pass_mark\n",
    "As well as that, we need to create student objects to take the test itself!\n",
    "Create another class called Student and do the following:\n",
    "- Create an attribute called tests_taken and set the default as No tests\n",
    "taken.\n",
    "- Make a method called take_test(), which takes in the testpaper object they\n",
    "are completing and the student's answers. Compare what they wrote to the\n",
    "mark scheme, and append to the/create a dictionary assigned to tests_taken\n",
    "in the way as shown in the point below.\n",
    "- Each key in the dictionary should be the testpaper subject and each value\n",
    "should be a string in the format seen in the examples below (whether or not\n",
    "the student has failed, and their percentage in brackets)."
   ]
  },
  {
   "cell_type": "code",
   "execution_count": 267,
   "id": "122831c7",
   "metadata": {},
   "outputs": [],
   "source": [
    "import re\n",
    "class Testpaper:\n",
    "    def __init__(self,subject,markscheme,pass_mark):\n",
    "        self.subject = subject\n",
    "        self.markscheme = markscheme\n",
    "        self.pass_mark = pass_mark\n",
    "        \n",
    "        \n",
    "\n",
    "class Student:\n",
    "    def __init__(self,tests_taken = 'No tests taken'):\n",
    "        self.tests_taken=tests_taken\n",
    "        self.__out1 = {}\n",
    "        \n",
    "    def take_test(self,testpaper,answer):\n",
    "        out={}\n",
    "        res = [True if i == j else False for i, j in zip(testpaper.markscheme, answer)]\n",
    "        percent = round((sum(res)/len(answer))*100)        \n",
    "        if percent >= int(re.search('\\d+',testpaper.pass_mark).group()):\n",
    "            out[testpaper.subject] = f\"Passed!({percent}%)\"\n",
    "        else:\n",
    "            out[testpaper.subject] = f\"Failed!({percent})\"\n",
    "        self.__out1 = {**self.__out1,**out}\n",
    "        self.tests_taken = self.__out1"
   ]
  },
  {
   "cell_type": "code",
   "execution_count": 268,
   "id": "d9592298",
   "metadata": {},
   "outputs": [
    {
     "name": "stdout",
     "output_type": "stream",
     "text": [
      "No tests taken\n",
      "{'Maths': 'Passed!(80%)'}\n",
      "{'Chemistry': 'Failed!(25)', 'Computing': 'Failed!(43)'}\n"
     ]
    }
   ],
   "source": [
    "paper1 = Testpaper('Maths',['1A','2C','3D','4A','5A'],'60%')\n",
    "student1 = Student()\n",
    "print(student1.tests_taken)\n",
    "student1.take_test(paper1,['1A','2D','3D','4A','5A'])\n",
    "print(student1.tests_taken)\n",
    "\n",
    "paper2 = Testpaper('Chemistry',['1C','2C','3D','4A'],'75%')\n",
    "paper3 = Testpaper('Computing',['1D','2C','3C','4B','5D','6C','7A'],'75%')\n",
    "student2 = Student()\n",
    "student2.take_test(paper2,['1C','2D','3A','4C'])\n",
    "student2.take_test(paper3,['1A','2C','3A','4C','5D','6C','7B'])\n",
    "print(student2.tests_taken)"
   ]
  },
  {
   "cell_type": "markdown",
   "id": "52decb23",
   "metadata": {},
   "source": [
    "3. Due to unforseen circumstances in Suburbia, the trains will be delayed by\n",
    "a further 10 minutes.\n",
    "\n",
    "Create a function that will help to plan out and manage these delays! Create\n",
    "a function called manage_delays that does the following:\n",
    "- Parameters will be the train object, a destination and number of minutes\n",
    "the delay is.\n",
    "- Increment to the train object's expected_time by the delay, if the\n",
    "destination given is in the train object's destinations."
   ]
  },
  {
   "cell_type": "code",
   "execution_count": 349,
   "id": "50417c76",
   "metadata": {},
   "outputs": [
    {
     "name": "stdout",
     "output_type": "stream",
     "text": [
      "13:04\n",
      "14:20\n",
      "14:22\n"
     ]
    }
   ],
   "source": [
    "import time\n",
    "class Train:\n",
    "    def __init__(self,places,expected_time):\n",
    "        self.places = places\n",
    "        self.expected_time = expected_time\n",
    "        \n",
    "\n",
    "def manage_delays(train,dest,delay):\n",
    "    if dest in train.places:\n",
    "        train.expected_time = datetime.datetime.strftime(datetime.datetime.strptime(train.expected_time,'%H:%M')+\n",
    "                                                         datetime.timedelta(minutes=delay),'%H:%M')\n",
    "    return train\n",
    "\n",
    "\n",
    "trains = [\n",
    "Train(['Townsville', 'Suburbia', 'Urbantska'], '13:04'),\n",
    "Train(['Farmsdale', 'Suburbia', 'Lakeside Valley'], '13:20'),\n",
    "Train(['Suburbia', 'Townsville', 'Lakeside Valley'], '13:22')\n",
    "]\n",
    "\n",
    "for t in trains:\n",
    "    manage_delays(t,'Lakeside Valley',60)\n",
    "print(trains[0].expected_time)\n",
    "print(trains[1].expected_time)\n",
    "print(trains[2].expected_time)"
   ]
  },
  {
   "cell_type": "markdown",
   "id": "27386195",
   "metadata": {},
   "source": [
    "Ted works as a computer programmer at Minecraft Inc. His boss has just\n",
    "given him an important assignment to update the code for the minecart tracks\n",
    "by the end of April. However, he has recently had to self-isolate due to\n",
    "Corvid-19 and has left the code for the tracks BACK AT WORK!! He has the\n",
    "shorthand for the tracks he's supposed to look at, and where the carts are\n",
    "suppost to end up, but not the actual code.\n",
    "He knows that:\n",
    "1. '-->' = 'Speed-Up Track' ⁠— If a minecart interacts with this track, it's\n",
    "velocity increases by 2.67 BPS unless it's at its maximum speed of 8 BPS.\n",
    "2. '<-->' = 'Powered Track' ⁠— If a minecart interacts with this track, it's\n",
    "velocity remains the same.\n",
    "3. '<--' = 'Slow-Down Track' ⁠— If a minecart interacts with this track, it's\n",
    "velocity decreases by 2.67 BPS unless it's velocity equals 0, at which point it\n",
    "stops.\n",
    "4. '---' = 'Unpowered Track' ⁠— If a minecart interacts with this track, it's\n",
    "velocity decreases by 1 BPS unless it's velocity equals 0, at which point it\n",
    "stops.\n",
    "\n",
    "Help Ted by writing a class for the tracks that interact with the provided\n",
    "Minecart class as shown above. And then write a function that will take a list\n",
    "of the shorthand tracks and:\n",
    "- If the Minecart reaches the last peice of Track, return True.\n",
    "- Else return the index of the Track where the Minecart stops."
   ]
  },
  {
   "cell_type": "markdown",
   "id": "518e2d0d",
   "metadata": {},
   "source": [
    "5. Make a Rectangle class with four parameters, an x, a y (representing the\n",
    "top-left corner of the rectangle), a width and a height exclusively in that order.\n",
    "Lastly, make a function intersecting that takes two Rectangle objects and\n",
    "returns True if those objects are intersecting (colliding), else return False."
   ]
  },
  {
   "cell_type": "code",
   "execution_count": 351,
   "id": "ffa56c20",
   "metadata": {},
   "outputs": [],
   "source": [
    "class Rectangle:\n",
    "    def __init__(self,x,y,w,h):\n",
    "        self.x = x\n",
    "        self.y=y\n",
    "        self.w = w\n",
    "        self.h = h\n",
    "        \n",
    "def intersecting(obj1,obj2):\n",
    "    cord1 = [obj1.x,obj1.y,obj1.w,obj1.h]\n",
    "    cord2 = [obj2.x,obj2.y,obj2.w,obj2.h]\n",
    "    return True if (cord1[0]==cord2[0] or cord1[1]==cord2[1]) and (cord1[2]==cord2[2] or cord1[3]==cord2[3]) else False\n"
   ]
  },
  {
   "cell_type": "code",
   "execution_count": 353,
   "id": "8e3a63c9",
   "metadata": {},
   "outputs": [
    {
     "name": "stdout",
     "output_type": "stream",
     "text": [
      "True\n",
      "False\n",
      "False\n"
     ]
    }
   ],
   "source": [
    "a = Rectangle(10, 20, 100, 20)\n",
    "b = Rectangle(10, 40, 15, 20)\n",
    "c = Rectangle(50, 50, 20, 30)\n",
    "print(intersecting(a,b))\n",
    "print(intersecting(a,c))\n",
    "print(intersecting(b,c))"
   ]
  },
  {
   "cell_type": "code",
   "execution_count": null,
   "id": "f2297169",
   "metadata": {},
   "outputs": [],
   "source": []
  }
 ],
 "metadata": {
  "kernelspec": {
   "display_name": "Python 3",
   "language": "python",
   "name": "python3"
  },
  "language_info": {
   "codemirror_mode": {
    "name": "ipython",
    "version": 3
   },
   "file_extension": ".py",
   "mimetype": "text/x-python",
   "name": "python",
   "nbconvert_exporter": "python",
   "pygments_lexer": "ipython3",
   "version": "3.8.8"
  }
 },
 "nbformat": 4,
 "nbformat_minor": 5
}
