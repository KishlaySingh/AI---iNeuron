{
 "cells": [
  {
   "cell_type": "markdown",
   "id": "754126fa",
   "metadata": {},
   "source": [
    "1. Given a sentence, return the number of words which have the same first\n",
    "and last letter."
   ]
  },
  {
   "cell_type": "code",
   "execution_count": 19,
   "id": "d920b01e",
   "metadata": {},
   "outputs": [
    {
     "name": "stdout",
     "output_type": "stream",
     "text": [
      "1\n",
      "0\n",
      "1\n"
     ]
    }
   ],
   "source": [
    "def count_same_ends(inp):\n",
    "    return len([1 for i in inp.split() if len(re.sub(r'\\W+', '', i))>1 \n",
    "            if re.sub(r'\\W+', '', i)[0].lower()==re.sub(r'\\W+', '', i)[-1].lower()])\n",
    "\n",
    "print(count_same_ends('Pop! goes the balloon'))\n",
    "print(count_same_ends('And the crowd goes wild!'))\n",
    "print(count_same_ends('No I am not in a gang.'))"
   ]
  },
  {
   "cell_type": "markdown",
   "id": "dfeb2b7f",
   "metadata": {},
   "source": [
    "2. The Atbash cipher is an encryption method in which each letter of a word is\n",
    "replaced with its 'mirror' letter in the alphabet: A <=>Z; B <=>Y; C <=>X;\n",
    "etc.\n",
    "Create a function that takes a string and applies the Atbash cipher to it."
   ]
  },
  {
   "cell_type": "code",
   "execution_count": 72,
   "id": "35e56507",
   "metadata": {},
   "outputs": [
    {
     "name": "stdout",
     "output_type": "stream",
     "text": [
      "zkkov\n",
      "Svool dliow!\n",
      "Xsirhgnzh rh gsv 25gs lu Wvxvnyvi\n"
     ]
    }
   ],
   "source": [
    "def atbash(text):    \n",
    "    n = ord('z') + ord('a')\n",
    "    N = ord('Z') +ord('A')\n",
    "    return ''.join([chr(n - ord(s)) if (s.isalpha() and s.islower()) \n",
    "                    else chr(N - ord(s)) if (s.isalpha() and s.isupper()) \n",
    "                     else s for s in text])\n",
    "print(solve(\"apple\"))\n",
    "print(solve(\"Hello world!\"))\n",
    "print(solve(\"Christmas is the 25th of December\"))"
   ]
  },
  {
   "cell_type": "markdown",
   "id": "e6644cde",
   "metadata": {},
   "source": [
    "3. Create a class Employee that will take a full name as argument, as well as\n",
    "a set of none, one or more keywords. Each instance should have a name and\n",
    "a lastname attributes plus one more attribute for each of the keywords, if any."
   ]
  },
  {
   "cell_type": "code",
   "execution_count": 135,
   "id": "84865347",
   "metadata": {},
   "outputs": [
    {
     "name": "stdout",
     "output_type": "stream",
     "text": [
      "John\n",
      "Major\n",
      "178\n",
      "Italian\n"
     ]
    }
   ],
   "source": [
    "class Employee:\n",
    "    def __init__(self,name,**kwargs):\n",
    "        self.name = name.split()[0]\n",
    "        self.lastname = name.split()[1]\n",
    "        self.salary = kwargs.get('salary')\n",
    "        self.height = kwargs.get('height')\n",
    "        self.nationality = kwargs.get('nationality')\n",
    "        \n",
    "john = Employee('John Doe')\n",
    "mary = Employee('Mary Major', salary=120000)\n",
    "richard = Employee('Richard Roe', salary=110000, height=178)\n",
    "giancarlo = Employee('Giancarlo Rossi', salary=115000, height=182,nationality='Italian')\n",
    "\n",
    "print(john.name)\n",
    "print(mary.lastname)\n",
    "print(richard.height)\n",
    "print(giancarlo.nationality)"
   ]
  },
  {
   "cell_type": "markdown",
   "id": "bb81d3d7",
   "metadata": {},
   "source": [
    "4. Create a function that determines whether each seat can 'see' the front-\n",
    "stage. A number can 'see' the front-stage if it is strictly greater than the\n",
    "number before it.\n",
    "Everyone can see the front-stage in the example below:"
   ]
  },
  {
   "cell_type": "code",
   "execution_count": 118,
   "id": "b438c684",
   "metadata": {},
   "outputs": [
    {
     "name": "stdout",
     "output_type": "stream",
     "text": [
      "True\n",
      "True\n",
      "False\n",
      "False\n"
     ]
    }
   ],
   "source": [
    "def can_see_stage(inp):\n",
    "    return True if all(all(i) for i in [[True if i[j]< i[j+1] else \n",
    "                                         False for j in range(len(i)-1)] \n",
    "                                        for i in list(zip(*inp))]) else False\n",
    "\n",
    "\n",
    "print(can_see_stage([[1, 2, 3],\n",
    "[4, 5, 6],\n",
    "[7, 8, 9]\n",
    "]))\n",
    "print(can_see_stage([[0 , 0, 0],\n",
    "[1,1,1],\n",
    "[2,2,2]\n",
    "]))\n",
    "print(can_see_stage([[2 , 0, 0],\n",
    "[1,1,1],\n",
    "[2,2,2]\n",
    "]))\n",
    "print(can_see_stage([[1 , 0, 0],\n",
    "[1,1,1],\n",
    "[2,2,2]\n",
    "]))\n"
   ]
  },
  {
   "cell_type": "markdown",
   "id": "85de258e",
   "metadata": {},
   "source": [
    "5. Create a Pizza class with the attributes order_number and ingredients\n",
    "(which is given as a list). Only the ingredients will be given as input.\n",
    "You should also make it so that its possible to choose a ready made pizza\n",
    "flavour rather than typing out the ingredients manually! As well as creating\n",
    "this Pizza class, hard-code the following pizza flavours.\n",
    "Name Ingredients\n",
    "hawaiian ham, pineapple\n",
    "meat_festival beef, meatball, bacon\n",
    "garden_feast spinach, olives, mushroom"
   ]
  },
  {
   "cell_type": "code",
   "execution_count": 151,
   "id": "d178aa0c",
   "metadata": {},
   "outputs": [
    {
     "name": "stdout",
     "output_type": "stream",
     "text": [
      "['bacon', 'parmesan', 'ham']\n",
      "['spinach', 'olives', 'mushroom']\n",
      "1\n",
      "2\n"
     ]
    }
   ],
   "source": [
    "class Pizza:\n",
    "    def __init__(self,ingredients):\n",
    "        self.order_number = 1\n",
    "        self.ingredients = ingredients\n",
    "        \n",
    "    def hawaiian(self):\n",
    "        self.order_number+=1\n",
    "        return ['ham', 'pineapple']\n",
    "    \n",
    "    def garden_feast(self):\n",
    "        self.order_number+=1\n",
    "        return ['spinach', 'olives', 'mushroom']\n",
    "    \n",
    "    def meat_festival(self):\n",
    "        return ['beef', 'meatball', 'bacon']\n",
    "    \n",
    "p1 = Pizza(['bacon','parmesan','ham'])\n",
    "p2 = Pizza(['bacon','parmesan','ham'])\n",
    "print(p1.ingredients)\n",
    "print(p2.garden_feast())\n",
    "print(p1.order_number)\n",
    "print(p2.order_number)"
   ]
  },
  {
   "cell_type": "code",
   "execution_count": null,
   "id": "723699b5",
   "metadata": {},
   "outputs": [],
   "source": []
  }
 ],
 "metadata": {
  "kernelspec": {
   "display_name": "Python 3",
   "language": "python",
   "name": "python3"
  },
  "language_info": {
   "codemirror_mode": {
    "name": "ipython",
    "version": 3
   },
   "file_extension": ".py",
   "mimetype": "text/x-python",
   "name": "python",
   "nbconvert_exporter": "python",
   "pygments_lexer": "ipython3",
   "version": "3.7.3"
  }
 },
 "nbformat": 4,
 "nbformat_minor": 5
}
