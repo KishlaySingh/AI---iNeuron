{
 "cells": [
  {
   "cell_type": "code",
   "execution_count": 38,
   "id": "2708d118",
   "metadata": {},
   "outputs": [
    {
     "name": "stdout",
     "output_type": "stream",
     "text": [
      "515\n",
      "1103\n",
      "31499\n"
     ]
    }
   ],
   "source": [
    "# 1. For this challenge, forget how to add two numbers together. The best\n",
    "# explanation on what to do for this function is this meme:\n",
    "#     Examples\n",
    "# meme_sum(26, 39) ➞ 515\n",
    "# 2+3 = 5, 6+9 = 15\n",
    "# 26 + 39 = 515\n",
    "\n",
    "def mem_sum(a,b):\n",
    "    if len(str(a)) >len(str(b)):\n",
    "        b = '0'+str(b)\n",
    "        a = str(a)\n",
    "    elif len(str(a)) < len(str(b)):\n",
    "        a = '0'+str(a)\n",
    "        b = str(b)\n",
    "    else: \n",
    "        a=str(a)\n",
    "        b=str(b)\n",
    "    return ''.join([str(int(a[i])+int(b[i]))for i in range(len(str(a)))])\n",
    "\n",
    "print(mem_sum(26,39))\n",
    "print(mem_sum(122,81))\n",
    "print(mem_sum(1222,30277))"
   ]
  },
  {
   "cell_type": "code",
   "execution_count": 60,
   "id": "ba370692",
   "metadata": {},
   "outputs": [],
   "source": [
    "# 2. Given an integer, create a function that returns the next prime. If the\n",
    "# number is prime, return the number itself.\n",
    "# Examples\n",
    "\n",
    "# next_prime(12) ➞ 13\n",
    "def next_prime(inp):\n",
    "    if all(inp % y != 0 for y in range(2, inp)):\n",
    "        return inp\n",
    "    else:\n",
    "        for i in range(inp+1,inp*2):\n",
    "            if all(i % y != 0 for y in range(2, i)):\n",
    "                return i\n",
    "            \n",
    "print(next_prime(12))\n",
    "print(next_prime(24))\n",
    "print(next_prime(11))"
   ]
  },
  {
   "cell_type": "code",
   "execution_count": 75,
   "id": "e9cebe7a",
   "metadata": {},
   "outputs": [],
   "source": [
    "# 3. If a person traveled up a hill for 18mins at 20mph and then traveled back\n",
    "# down the same path at 60mph then their average speed traveled was 30mph.\n",
    "# Write a function that returns the average speed traveled given an uphill time,\n",
    "# uphill rate and a downhill rate. Uphill time is given in minutes. Return the rate\n",
    "# as an integer (mph). No rounding is necessary.\n",
    "# Examples\n",
    "# ave_spd(18, 20, 60) ➞ 30\n",
    "\n",
    "def ave_spd(t,u_rate,d_rate):\n",
    "    dist = (t/60)*u_rate\n",
    "    d_t = dist/d_rate\n",
    "    avg_speed = (dist*2)/((t/60)+d_t)\n",
    "    return round(avg_speed)\n",
    "\n",
    "print(ave_spd(18,20,60))\n",
    "print(ave_spd(30,10,30))\n",
    "print(ave_spd(30,8,24))"
   ]
  },
  {
   "cell_type": "code",
   "execution_count": 104,
   "id": "0e02e3bb",
   "metadata": {},
   "outputs": [
    {
     "name": "stdout",
     "output_type": "stream",
     "text": [
      "3\n",
      "5\n",
      "2\n",
      "5\n",
      "7\n"
     ]
    }
   ],
   "source": [
    "# 4. The Kempner Function, applied to a composite number, permits to find the\n",
    "# smallest integer greater than zero whose factorial is exactly divided by the\n",
    "# number.\n",
    "# kempner(6) ➞ 3\n",
    "# 1! = 1 % 6 &gt; 0\n",
    "# 2! = 2 % 6 &gt; 0\n",
    "# 3! = 6 % 6 === 0\n",
    "# kempner(10) ➞ 5\n",
    "# 1! = 1 % 10 &gt; 0\n",
    "# 2! = 2 % 10 &gt; 0\n",
    "# 3! = 6 % 10 &gt; 0\n",
    "# 4! = 24 % 10 &gt; 0\n",
    "# 5! = 120 % 10 === 0\n",
    "# A Kempner Function applied to a prime will always return the prime itself.\n",
    "# kempner(2) ➞ 2\n",
    "# kempner(5) ➞ 5\n",
    "\n",
    "# Given an integer n, implement a Kempner Function.\n",
    "\n",
    "def kempner(n):\n",
    "    fact = 1\n",
    "    if all(n % y != 0 for y in range(2, n)):\n",
    "        return n\n",
    "    else:\n",
    "        for i in range(1,n):\n",
    "            fact=1\n",
    "            for i in range(1,i):\n",
    "               fact = fact*i\n",
    "               if fact%n==0:                    \n",
    "                    return i\n",
    "                \n",
    "print(kempner(6))\n",
    "print(kempner(10))\n",
    "print(kempner(2))\n",
    "print(kempner(5))\n",
    "print(kempner(21))"
   ]
  },
  {
   "cell_type": "code",
   "execution_count": 118,
   "id": "10182d86",
   "metadata": {},
   "outputs": [
    {
     "name": "stdout",
     "output_type": "stream",
     "text": [
      "5\n"
     ]
    }
   ],
   "source": [
    "# 5. You work in a factory, and your job is to take items from a conveyor belt\n",
    "# and pack them into boxes. Each box can hold a maximum of 10 kgs. Given a\n",
    "# list containing the weight (in kg) of each item, how many boxes would you\n",
    "# need to pack all of the items?\n",
    "# Example\n",
    "# boxes([2, 1, 2, 5, 4, 3, 6, 1, 1, 9, 3, 2]) ➞ 5\n",
    "\n",
    "def boxes(inp):\n",
    "    res = 0\n",
    "    Sum=0\n",
    "    for i in inp:\n",
    "        Sum+=i\n",
    "        if Sum>=10:\n",
    "            res+=1\n",
    "            Sum=0\n",
    "            Sum+=i\n",
    "    return res\n",
    "\n",
    "print(boxes([2,1,2,5,4,3,6,1,1,9,3,2]))"
   ]
  }
 ],
 "metadata": {
  "kernelspec": {
   "display_name": "Python 3",
   "language": "python",
   "name": "python3"
  },
  "language_info": {
   "codemirror_mode": {
    "name": "ipython",
    "version": 3
   },
   "file_extension": ".py",
   "mimetype": "text/x-python",
   "name": "python",
   "nbconvert_exporter": "python",
   "pygments_lexer": "ipython3",
   "version": "3.7.3"
  }
 },
 "nbformat": 4,
 "nbformat_minor": 5
}
