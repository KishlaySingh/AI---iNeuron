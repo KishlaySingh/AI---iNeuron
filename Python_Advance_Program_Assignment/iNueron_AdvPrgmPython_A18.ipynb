{
 "cells": [
  {
   "cell_type": "markdown",
   "id": "9b283db9",
   "metadata": {},
   "source": [
    "1. A robot has been given a list of movement instructions. Each instruction is\n",
    "either left, right, up or down, followed by a distance to move. The robot starts\n",
    "at [0, 0]. You want to calculate where the robot will end up and return its final\n",
    "position as a list.\n",
    "To illustrate, if the robot is given the following instructions:\n",
    "['right 10', 'up 50', 'left 30', 'down 10']\n",
    "It will end up 20 left and 40 up from where it started, so we return [-20, 40]."
   ]
  },
  {
   "cell_type": "code",
   "execution_count": 6,
   "id": "25ecfc0e",
   "metadata": {},
   "outputs": [
    {
     "name": "stdout",
     "output_type": "stream",
     "text": [
      "[-20, 40]\n",
      "[0, 0]\n",
      "[200, 10500]\n"
     ]
    }
   ],
   "source": [
    "def track_robot(inp):\n",
    "    x = 0\n",
    "    y =0\n",
    "    for i in inp:\n",
    "        if 'right' in i:\n",
    "            x+=int(i.split()[1])\n",
    "        elif 'left' in i:\n",
    "            x-=int(i.split()[1])\n",
    "        elif 'up' in i:\n",
    "            y+=int(i.split()[1])\n",
    "        elif 'down' in i:\n",
    "            y-=int(i.split()[1])\n",
    "        else:\n",
    "            pass\n",
    "    return [x,y]\n",
    "\n",
    "print(track_robot(['right 10', 'up 50','left 30', 'down 10']))\n",
    "print(track_robot([]))\n",
    "print(track_robot(['right 100', 'up 500','right 100', 'up 10000']))"
   ]
  },
  {
   "cell_type": "markdown",
   "id": "b8b49dca",
   "metadata": {},
   "source": [
    "2. Write a function that will return the longest word in a sentence. In cases\n",
    "where more than one word is found, return the first one."
   ]
  },
  {
   "cell_type": "code",
   "execution_count": 106,
   "id": "18aa036d",
   "metadata": {},
   "outputs": [],
   "source": [
    "import re\n",
    "def find_longest(inp):\n",
    "    return max( [i.split() for i in re.findall(r'[\\a-zA-Z\\s.]*$',inp) if i][0],key=len).lower()"
   ]
  },
  {
   "cell_type": "code",
   "execution_count": 109,
   "id": "5eb0c09b",
   "metadata": {},
   "outputs": [
    {
     "name": "stdout",
     "output_type": "stream",
     "text": [
      "\"strengths\"\n",
      "forgetfulness\n",
      "forever\n"
     ]
    }
   ],
   "source": [
    "print(find_longest('\\\"Strengths\\\" is the longest and most commonly used word that contains only a single vowel.'))\n",
    "print(find_longest('Forgetfulness is by all means powerless!'))\n",
    "print(find_longest('A thing of beauty is joy forever'))"
   ]
  },
  {
   "cell_type": "markdown",
   "id": "e2ddcb39",
   "metadata": {},
   "source": [
    "3. Create a function to check if a candidate is qualified in an imaginary coding\n",
    "interview of an imaginary tech startup.\n",
    "The criteria for a candidate to be qualified in the coding interview is:\n",
    "1. The candidate should have complete all the questions.\n",
    "2. The maximum time given to complete the interview is 120 minutes.\n",
    "3. The maximum time given for very easy questions is 5 minutes each.\n",
    "4. The maximum time given for easy questions is 10 minutes each.\n",
    "5. The maximum time given for medium questions is 15 minutes each.\n",
    "6. The maximum time given for hard questions is 20 minutes each.\n",
    "\n",
    "If all the above conditions are satisfied, return 'qualified', else return\n",
    "'disqualified'.\n",
    "You will be given a list of time taken by a candidate to solve a particular\n",
    "question and the total time taken by the candidate to complete the interview.\n",
    "Given a list , in a true condition will always be in the format [very easy, very\n",
    "easy, easy, easy, medium, medium, hard, hard].\n",
    "The maximum time to complete the interview includes a buffer time of 20\n",
    "minutes."
   ]
  },
  {
   "cell_type": "code",
   "execution_count": 122,
   "id": "56ec6520",
   "metadata": {},
   "outputs": [
    {
     "name": "stdout",
     "output_type": "stream",
     "text": [
      "qualified\n",
      "qualified\n",
      "disqualified\n",
      "disqualified\n",
      "disqualified\n"
     ]
    }
   ],
   "source": [
    "def interview(inp,n):\n",
    "    res = [5,5,10,10,10,15,15,20,20]\n",
    "    if all([True if i >= j else False for i, j in zip(res, inp) ]) and sum(inp)<=120:\n",
    "        return 'qualified'\n",
    "    else:\n",
    "        return 'disqualified'\n",
    "\n",
    "\n",
    "print(interview([5,5,10,10,10,15,15,20,20],120))\n",
    "print(interview([2,3,8,6,5,12,10,18],64))\n",
    "print(interview([5,5,10,10,25,15,20,20],120))\n",
    "print(interview([5,5,10,10,15,20,20],120))\n",
    "print(interview([5,5,10,10,15,15,20,20],130))\n"
   ]
  },
  {
   "cell_type": "markdown",
   "id": "e12d5963",
   "metadata": {},
   "source": [
    "4. Write a function that divides a list into chunks of size n, where n is the\n",
    "length of each chunk."
   ]
  },
  {
   "cell_type": "code",
   "execution_count": 131,
   "id": "365bdc35",
   "metadata": {},
   "outputs": [
    {
     "name": "stdout",
     "output_type": "stream",
     "text": [
      "[[2, 3], [4, 5]]\n",
      "[[2, 3], [4, 5], [6]]\n",
      "[[2, 3, 4], [5, 6, 7]]\n",
      "[[2], [3], [4], [5], [6], [7]]\n",
      "[[2, 3, 4, 5, 6, 7]]\n"
     ]
    }
   ],
   "source": [
    "def chunkify(inp,n):\n",
    "    return [inp[i:i+n]for i in range(0,len(inp),n) ]\n",
    "\n",
    "print(chunkify([2,3,4,5],2))\n",
    "print(chunkify([2,3,4,5,6],2))\n",
    "print(chunkify([2,3,4,5,6,7],3))\n",
    "print(chunkify([2,3,4,5,6,7],1))\n",
    "print(chunkify([2,3,4,5,6,7],7))"
   ]
  },
  {
   "cell_type": "markdown",
   "id": "95cca63f",
   "metadata": {},
   "source": [
    "5. You are given a list of strings consisting of grocery items, with prices in\n",
    "parentheses. Return a list of prices in float format."
   ]
  },
  {
   "cell_type": "code",
   "execution_count": 189,
   "id": "87f4e3bc",
   "metadata": {},
   "outputs": [
    {
     "name": "stdout",
     "output_type": "stream",
     "text": [
      "[5.99, 0.2, 8.5, 1.99]\n",
      "[4.99]\n",
      "[1.99, 5.99, 0.75]\n"
     ]
    }
   ],
   "source": [
    "import re\n",
    "def get_prices(inp):\n",
    "    return [float(j[0]) for j in [re.findall(r'(?<=\\$).*(?=\\))',i) for i in inp]]\n",
    "\n",
    "print(get_prices(['ice cream ($5.99)','banana ($0.20)','sandwich ($8.50)','soup ($1.99)']))\n",
    "print(get_prices(['salad ($4.99)']))\n",
    "print(get_prices(['artichokes ($1.99)','rotiserrie chicken ($5.99)','gum ($0.75)']))"
   ]
  }
 ],
 "metadata": {
  "kernelspec": {
   "display_name": "Python 3",
   "language": "python",
   "name": "python3"
  },
  "language_info": {
   "codemirror_mode": {
    "name": "ipython",
    "version": 3
   },
   "file_extension": ".py",
   "mimetype": "text/x-python",
   "name": "python",
   "nbconvert_exporter": "python",
   "pygments_lexer": "ipython3",
   "version": "3.7.3"
  }
 },
 "nbformat": 4,
 "nbformat_minor": 5
}
