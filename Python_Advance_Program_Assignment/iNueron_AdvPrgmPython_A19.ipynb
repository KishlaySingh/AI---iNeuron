{
 "cells": [
  {
   "cell_type": "markdown",
   "id": "f4653ae9",
   "metadata": {},
   "source": [
    "1. Create a checker board generator, which takes as inputs n and 2 elements\n",
    "to generate an n x n checkerboard with those two elements as alternating\n",
    "squares."
   ]
  },
  {
   "cell_type": "code",
   "execution_count": 27,
   "id": "8f4ade0e",
   "metadata": {},
   "outputs": [
    {
     "name": "stdout",
     "output_type": "stream",
     "text": [
      "[[7, 6], [6, 7]]\n",
      "[['A', 'B', 'A'], ['B', 'A', 'B'], ['A', 'B', 'A']]\n",
      "[['c', 'd', 'c', 'd'], ['d', 'c', 'd', 'c'], ['c', 'd', 'c', 'd'], ['d', 'c', 'd', 'c']]\n",
      "Invalid\n"
     ]
    }
   ],
   "source": [
    "def checker_board(n,a,b):\n",
    "    if a == b:\n",
    "        return 'Invalid'\n",
    "    else:\n",
    "        return [[a if i%2==0 and j%2==0 else b if i%2==0 and j%2!=0 else\n",
    "                b if i%2!=0 and j%2==0 else a if i%2!=0 and j%2!=0 \n",
    "                   else b for j in range(n)] for i in range(n)]\n",
    "\n",
    "print(checker_board(2,7,6))\n",
    "print(checker_board(3,'A','B'))\n",
    "print(checker_board(4,'c','d'))\n",
    "print(checker_board(4,'c','c'))"
   ]
  },
  {
   "cell_type": "markdown",
   "id": "a3e17925",
   "metadata": {},
   "source": [
    "2. A string is an almost-palindrome if, by changing only one character, you\n",
    "can make it a palindrome. Create a function that returns True if a string is an\n",
    "almost-palindrome and False otherwise."
   ]
  },
  {
   "cell_type": "code",
   "execution_count": 25,
   "id": "fc725891",
   "metadata": {},
   "outputs": [
    {
     "data": {
      "text/plain": [
       "[['c', 'd', 'c', 'd'],\n",
       " ['d', 'c', 'd', 'c'],\n",
       " ['c', 'd', 'c', 'd'],\n",
       " ['d', 'c', 'd', 'c']]"
      ]
     },
     "execution_count": 25,
     "metadata": {},
     "output_type": "execute_result"
    }
   ],
   "source": []
  },
  {
   "cell_type": "code",
   "execution_count": 31,
   "id": "63458569",
   "metadata": {},
   "outputs": [
    {
     "name": "stdout",
     "output_type": "stream",
     "text": [
      "True\n",
      "True\n",
      "False\n",
      "False\n"
     ]
    }
   ],
   "source": [
    "def almost_Palindrome(inp) :     \n",
    "    n = len(inp)     \n",
    "    count = 0\n",
    "    for i in range(0, int(n / 2)) :\n",
    "        if (inp[i] != inp[n - i - 1]) :\n",
    "            count = count + 1\n",
    "    if(count <= 1) :\n",
    "        return True\n",
    "    else :\n",
    "        return False\n",
    " \n",
    "# Driver Code\n",
    "str = \"abcdaaa\"\n",
    "print(almost_Palindrome('abcdcbg')) \n",
    "print(almost_Palindrome('abccia')) \n",
    "print(almost_Palindrome('abcdaaa')) \n",
    "print(almost_Palindrome('1234312')) "
   ]
  },
  {
   "cell_type": "markdown",
   "id": "24d2e603",
   "metadata": {},
   "source": [
    "3. Create a function that finds how many prime numbers there are, up to the\n",
    "given integer."
   ]
  },
  {
   "cell_type": "code",
   "execution_count": 36,
   "id": "28296c16",
   "metadata": {},
   "outputs": [
    {
     "name": "stdout",
     "output_type": "stream",
     "text": [
      "4\n",
      "8\n",
      "10\n"
     ]
    }
   ],
   "source": [
    "def prime_number(n):\n",
    "    res =[]\n",
    "    for num in range(2, n + 1):\n",
    "       if num > 1:\n",
    "           for i in range(2, num):\n",
    "               if (num % i) == 0:\n",
    "                   break\n",
    "           else:\n",
    "               res.append(num)\n",
    "    return len(res)\n",
    "\n",
    "print(prime_number(10))\n",
    "print(prime_number(20))\n",
    "print(prime_number(30))"
   ]
  },
  {
   "cell_type": "markdown",
   "id": "b92faf04",
   "metadata": {},
   "source": [
    "4. If today was Monday, in two days, it would be Wednesday.\n",
    "Create a function that takes in a list of days as input and the number of days\n",
    "to increment by. Return a list of days after n number of days has passed."
   ]
  },
  {
   "cell_type": "code",
   "execution_count": 81,
   "id": "819c4246",
   "metadata": {},
   "outputs": [],
   "source": [
    "import calendar\n",
    "def after_n_days(inp,n):\n",
    "    weekdays = list(calendar.day_name)\n",
    "    return [weekdays[(weekdays.index(i)+n)%7] for i in inp]\n",
    "\n",
    "print(after_n_days(['Thursday','Monday'],4))\n",
    "print(after_n_days(['Sunday','Sunday','Sunday'],1))\n",
    "print(after_n_days(['Monday','Tuesday','Friday'],1))"
   ]
  },
  {
   "cell_type": "markdown",
   "id": "19701abe",
   "metadata": {},
   "source": [
    "5. You are in the process of creating a chat application and want to add an\n",
    "anonymous name feature. This anonymous name feature will create an alias\n",
    "that consists of two capitalized words beginning with the same letter as the\n",
    "users first name.\n",
    "Create a function that determines if the list of users is mapped to a list of\n",
    "anonymous names correctly."
   ]
  },
  {
   "cell_type": "code",
   "execution_count": 99,
   "id": "f319a4cd",
   "metadata": {},
   "outputs": [
    {
     "name": "stdout",
     "output_type": "stream",
     "text": [
      "True\n",
      "True\n",
      "False\n"
     ]
    }
   ],
   "source": [
    "def is_correct_alias(a,b,):\n",
    "    res = [True if all([True if i[0] == k[0] else False for k in j.split()]) \n",
    "           else False for i,j in zip(a,b)]\n",
    "    return True if all(res) else False\n",
    "\n",
    "print(is_correct_alias(['Rachel F.', 'Pam G.', 'Fred Z.','Nancy K.'],['Reassuring Rat','Peaceful Panda', 'Fantastic Frog', 'Notable Nickel']))\n",
    "print(is_correct_alias(['Adrian M.', 'Harriet S.', 'Mandy T.'],['Amazing Artichoke', 'Hopeful Hedgehog', 'Marvelous Mouse']))                   \n",
    "print(is_correct_alias(['Beth T.'],['Brandishing Mimosa']))"
   ]
  }
 ],
 "metadata": {
  "kernelspec": {
   "display_name": "Python 3",
   "language": "python",
   "name": "python3"
  },
  "language_info": {
   "codemirror_mode": {
    "name": "ipython",
    "version": 3
   },
   "file_extension": ".py",
   "mimetype": "text/x-python",
   "name": "python",
   "nbconvert_exporter": "python",
   "pygments_lexer": "ipython3",
   "version": "3.7.3"
  }
 },
 "nbformat": 4,
 "nbformat_minor": 5
}
