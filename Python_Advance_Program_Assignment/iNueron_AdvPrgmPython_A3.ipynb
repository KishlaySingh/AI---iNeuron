{
 "cells": [
  {
   "cell_type": "code",
   "execution_count": 21,
   "id": "418d9ce5",
   "metadata": {},
   "outputs": [
    {
     "name": "stdout",
     "output_type": "stream",
     "text": [
      "24\n",
      "0\n",
      "144\n",
      "-1\n"
     ]
    }
   ],
   "source": [
    "# 1. Create a function to perform basic arithmetic operations that includes\n",
    "# addition, subtraction, multiplication and division on a string number (e.g. &quot;12 +\n",
    "# 24&quot; or &quot;23 - 21&quot; or &quot;12 // 12&quot; or &quot;12 * 21&quot;).\n",
    "# Here, we have 1 followed by a space, operator followed by another space\n",
    "# and 2. For the challenge, we are going to have only two numbers between 1\n",
    "# valid operator. The return value should be a number.\n",
    "# eval() is not allowed. In case of division, whenever the second number equals\n",
    "# &quot;0&quot; return -1.\n",
    "\n",
    "import math\n",
    "def arithmetic_operation(inp):\n",
    "    inp1,opr,inp2 = inp.split(' ')\n",
    "    return ''.join([str(int(inp1)+int(inp2)) if opr == '+' else str(int(inp1)-int(inp2)) if opr == '-' else str(int(inp1)*int(inp2)) if opr == '*'\n",
    "           else str(int(inp1)//int(inp2)) if opr == '//' and int(inp2)!=0 else str(-1)  if opr == '//' and int(inp2)==0 else 'invalid operator'])\n",
    "\n",
    "print(arithmetic_operation('12 + 12'))\n",
    "print(arithmetic_operation('12 - 12'))\n",
    "print(arithmetic_operation('12 * 12'))\n",
    "print(arithmetic_operation('12 // 0'))"
   ]
  },
  {
   "cell_type": "code",
   "execution_count": 37,
   "id": "29e1eb68",
   "metadata": {},
   "outputs": [
    {
     "name": "stdout",
     "output_type": "stream",
     "text": [
      "47.08\n",
      "3.41\n",
      "68.28\n"
     ]
    }
   ],
   "source": [
    "# 2. Write a function that takes the coordinates of three points in the form of a\n",
    "# 2d array and returns the perimeter of the triangle. The given points are the\n",
    "# vertices of a triangle on a two-dimensional plane.\n",
    "import math\n",
    "def perimeter(inp):\n",
    "    inp = [j for i in inp for j in i]\n",
    "    return round(math.sqrt((inp[0]-inp[2])**2 + (inp[1]-inp[3])**2)+math.sqrt((inp[2]-inp[4])**2 + (inp[3]-inp[5])**2)+math.sqrt((inp[4]-inp[0])**2 + (inp[5]-inp[1])**2),2)\n",
    "\n",
    "print(perimeter([[15, 7], [5, 22], [11, 1]]))\n",
    "print(perimeter([ [0, 0], [0, 1], [1, 0] ]))\n",
    "print(perimeter([ [-10, -10], [10, 10 ], [-10, 10] ]))"
   ]
  },
  {
   "cell_type": "code",
   "execution_count": 53,
   "id": "d1bfe16c",
   "metadata": {},
   "outputs": [
    {
     "name": "stdout",
     "output_type": "stream",
     "text": [
      "3\n",
      "4\n"
     ]
    }
   ],
   "source": [
    "# 3. A city skyline can be represented as a 2-D list with 1s representing\n",
    "# buildings. In the example below, the height of the tallest building is 4 (second-\n",
    "# most right column).\n",
    "\n",
    "# Create a function that takes a skyline (2-D list of 0&#39;s and 1&#39;s) and returns the\n",
    "# height of the tallest skyscraper.\n",
    "\n",
    "def tallest_skyscraper(inp):\n",
    "    return sum(1 for eachlist in inp if sum(eachlist)>0)\n",
    "\n",
    "print(tallest_skyscraper([\n",
    "[0, 0, 0, 0],\n",
    "[0, 1, 0, 0],\n",
    "[0, 1, 1, 0],\n",
    "[1, 1, 1, 1]\n",
    "]))\n",
    "\n",
    "print(tallest_skyscraper([\n",
    "[0, 1, 0, 0],\n",
    "[0, 1, 0, 0],\n",
    "[0, 1, 1, 0],\n",
    "[1, 1, 1, 1]\n",
    "]))\n"
   ]
  },
  {
   "cell_type": "code",
   "execution_count": 57,
   "id": "ef2eaf90",
   "metadata": {},
   "outputs": [
    {
     "name": "stdout",
     "output_type": "stream",
     "text": [
      "0\n",
      "1625\n",
      "8100\n"
     ]
    }
   ],
   "source": [
    "# 4. A financial institution provides professional services to banks and claims\n",
    "# charges from the customers based on the number of man-days provided.\n",
    "# Internally, it has set a scheme to motivate and reward staff to meet and\n",
    "# exceed targeted billable utilization and revenues by paying a bonus for each\n",
    "# day claimed from customers in excess of a threshold target.\n",
    "# This quarterly scheme is calculated with a threshold target of 32 days per\n",
    "# quarter, and the incentive payment for each billable day in excess of such\n",
    "# threshold target is shown as follows:\n",
    "# Days Bonus\n",
    "# 0 to 32 days Zero\n",
    "# 33 to 40 days SGD$325 per billable day\n",
    "# 41 to 48 days SGD$550 per billable day\n",
    "# Greater than 48 days SGD$600 per billable day\n",
    "\n",
    "# Please note that incentive payment is calculated progressively. As an\n",
    "# example, if an employee reached total billable days of 45 in a quarter, his/her\n",
    "# incentive payment is computed as follows:\n",
    "# 32*0 + 8*325 + 5*550 = 5350\n",
    "# Write a function to read the billable days of an employee and return the bonus\n",
    "# he/she has obtained in that quarter.\n",
    "\n",
    "def bonus(inp):\n",
    "    return 32*0 if inp <=32 else 32*0+(inp-32)*325 if 32<inp<=40 else 32*0+8*325 + (inp-40)*550\n",
    "\n",
    "print(bonus(15))\n",
    "print(bonus(37))\n",
    "print(bonus(50))"
   ]
  },
  {
   "cell_type": "code",
   "execution_count": 63,
   "id": "46520bd4",
   "metadata": {},
   "outputs": [
    {
     "name": "stdout",
     "output_type": "stream",
     "text": [
      "False\n",
      "True\n",
      "False\n",
      "True\n",
      "False\n"
     ]
    }
   ],
   "source": [
    "# 5. A number is said to be Disarium if the sum of its digits raised to their\n",
    "# respective positions is the number itself.\n",
    "# Create a function that determines whether a number is a Disarium or not.\n",
    "\n",
    "def is_disarium(inp):\n",
    "    x = len(str(inp))\n",
    "    Sum=0\n",
    "    n = inp\n",
    "    while(n>0):\n",
    "        r=n%10\n",
    "        Sum=Sum+(r**x)\n",
    "        x=x-1\n",
    "        n=n//10\n",
    "    if Sum == inp:\n",
    "        return True\n",
    "    else:\n",
    "        return False\n",
    "\n",
    "print(is_disarium(75))\n",
    "print(is_disarium(135))\n",
    "print(is_disarium(544))\n",
    "print(is_disarium(518))\n",
    "print(is_disarium(466))"
   ]
  }
 ],
 "metadata": {
  "kernelspec": {
   "display_name": "Python 3",
   "language": "python",
   "name": "python3"
  },
  "language_info": {
   "codemirror_mode": {
    "name": "ipython",
    "version": 3
   },
   "file_extension": ".py",
   "mimetype": "text/x-python",
   "name": "python",
   "nbconvert_exporter": "python",
   "pygments_lexer": "ipython3",
   "version": "3.7.3"
  }
 },
 "nbformat": 4,
 "nbformat_minor": 5
}
