{
 "cells": [
  {
   "cell_type": "code",
   "execution_count": 32,
   "id": "e358a105",
   "metadata": {},
   "outputs": [
    {
     "name": "stdout",
     "output_type": "stream",
     "text": [
      "2\n",
      "0\n"
     ]
    }
   ],
   "source": [
    "# 1. Write a function that takes a list of lists and returns the value of all of the\n",
    "# symbols in it, where each symbol adds or takes something from the total\n",
    "# score. Symbol values:\n",
    "# # = 5\n",
    "# O = 3\n",
    "# X = 1\n",
    "# ! = -1\n",
    "# !! = -3\n",
    "# !!! = -5\n",
    "# A list of lists containing 2 #s, a O, and a !!! would equal (0 + 5 + 5 + 3 - 5) 8.\n",
    "# If the final score is negative, return 0 (e.g. 3 #s, 3 !!s, 2 !!!s and a X would be\n",
    "# (0 + 5 + 5 + 5 - 3 - 3 - 3 - 5 - 5 + 1) -3, so return 0.\n",
    "\n",
    "def check_score(inp):\n",
    "    dict_val = {'#':5,'O':3,'X':1,'!':-1,'!!':-3,'!!!':-5}\n",
    "    comb_list = [j for i in inp for j in i]\n",
    "    res = 0\n",
    "    for val in comb_list:\n",
    "        res=res+ [v for k,v in dict_val.items() if k == val][0]\n",
    "    if res>0:return res\n",
    "    else: return 0\n",
    "\n",
    "print(check_score([['#','!'],['!!','X']]))\n",
    "print(check_score([['!!!','O','!'],['X','#','!!!'],['!!','X','O']]))"
   ]
  },
  {
   "cell_type": "code",
   "execution_count": 37,
   "id": "cac9b5b3",
   "metadata": {},
   "outputs": [
    {
     "name": "stdout",
     "output_type": "stream",
     "text": [
      "6\n",
      "84\n",
      "120\n"
     ]
    }
   ],
   "source": [
    "# 2. Create a function that takes a variable number of arguments, each\n",
    "# argument representing the number of items in a group, and returns the\n",
    "# number of permutations (combinations) of items that you could get by taking\n",
    "# one item from each group.\n",
    "# Examples\n",
    "# combinations(2, 3) ➞ 6\n",
    "# combinations(3, 7, 4) ➞ 84\n",
    "# combinations(2, 3, 4, 5) ➞ 120\n",
    "\n",
    "def combinations(*a):\n",
    "    res = 1\n",
    "    for i in a:\n",
    "        res = res*i\n",
    "    return res\n",
    "\n",
    "print(combinations(2,3))\n",
    "print(combinations(3,7,4))\n",
    "print(combinations(2,3,4,5))"
   ]
  },
  {
   "cell_type": "code",
   "execution_count": 46,
   "id": "5ff73fda",
   "metadata": {},
   "outputs": [
    {
     "name": "stdout",
     "output_type": "stream",
     "text": [
      ". -.. .- -... -... .. -  -.-. .... .- .-.. .-.. . -. --. . \n"
     ]
    }
   ],
   "source": [
    "# 3. Create a function that takes a string as an argument and returns the Morse\n",
    "# code equivalent.\n",
    "# Examples\n",
    "# encode_morse(&quot;EDABBIT CHALLENGE&quot;) ➞ &quot;. -.. .- -... -... .. - -.-. .... .- .-.. .-..\n",
    "# . -. --. .&quot;\n",
    "# encode_morse(&quot;HELP ME !&quot;) ➞ &quot;.... . .-.. .--. -- . -.-.--&quot;\n",
    "# This dictionary can be used for coding:\n",
    "# char_to_dots = {\n",
    "# &#39;A&#39;: &#39;.-&#39;, &#39;B&#39;: &#39;-...&#39;, &#39;C&#39;: &#39;-.-.&#39;, &#39;D&#39;: &#39;-..&#39;, &#39;E&#39;: &#39;.&#39;, &#39;F&#39;: &#39;..-.&#39;,\n",
    "# &#39;G&#39;: &#39;--.&#39;, &#39;H&#39;: &#39;....&#39;, &#39;I&#39;: &#39;..&#39;, &#39;J&#39;: &#39;.---&#39;, &#39;K&#39;: &#39;-.-&#39;, &#39;L&#39;: &#39;.-..&#39;,\n",
    "# &#39;M&#39;: &#39;--&#39;, &#39;N&#39;: &#39;-.&#39;, &#39;O&#39;: &#39;---&#39;, &#39;P&#39;: &#39;.--.&#39;, &#39;Q&#39;: &#39;--.-&#39;, &#39;R&#39;: &#39;.-.&#39;,\n",
    "# &#39;S&#39;: &#39;...&#39;, &#39;T&#39;: &#39;-&#39;, &#39;U&#39;: &#39;..-&#39;, &#39;V&#39;: &#39;...-&#39;, &#39;W&#39;: &#39;.--&#39;, &#39;X&#39;: &#39;-..-&#39;,\n",
    "# &#39;Y&#39;: &#39;-.--&#39;, &#39;Z&#39;: &#39;--..&#39;, &#39; &#39;: &#39; &#39;, &#39;0&#39;: &#39;-----&#39;,\n",
    "# &#39;1&#39;: &#39;.----&#39;, &#39;2&#39;: &#39;..---&#39;, &#39;3&#39;: &#39;...--&#39;, &#39;4&#39;: &#39;....-&#39;, &#39;5&#39;: &#39;.....&#39;,\n",
    "# &#39;6&#39;: &#39;-....&#39;, &#39;7&#39;: &#39;--...&#39;, &#39;8&#39;: &#39;---..&#39;, &#39;9&#39;: &#39;----.&#39;,\n",
    "# &#39;&amp;&#39;: &#39;.-...&#39;, &quot;&#39;&quot;: &#39;.----.&#39;, &#39;@&#39;: &#39;.--.-.&#39;, &#39;)&#39;: &#39;-.--.-&#39;, &#39;(&#39;: &#39;-.--.&#39;,\n",
    "# &#39;:&#39;: &#39;---...&#39;, &#39;,&#39;: &#39;--..--&#39;, &#39;=&#39;: &#39;-...-&#39;, &#39;!&#39;: &#39;-.-.--&#39;, &#39;.&#39;: &#39;.-.-.-&#39;,\n",
    "# &#39;-&#39;: &#39;-....-&#39;, &#39;+&#39;: &#39;.-.-.&#39;, &#39;&quot;&#39;: &#39;.-..-.&#39;, &#39;?&#39;: &#39;..--..&#39;, &#39;/&#39;: &#39;-..-.&#39;\n",
    "# }\n",
    "\n",
    "MORSE_CODE_DICT = { 'A':'.-', 'B':'-...',\n",
    "                    'C':'-.-.', 'D':'-..', 'E':'.',\n",
    "                    'F':'..-.', 'G':'--.', 'H':'....',\n",
    "                    'I':'..', 'J':'.---', 'K':'-.-',\n",
    "                    'L':'.-..', 'M':'--', 'N':'-.',\n",
    "                    'O':'---', 'P':'.--.', 'Q':'--.-',\n",
    "                    'R':'.-.', 'S':'...', 'T':'-',\n",
    "                    'U':'..-', 'V':'...-', 'W':'.--',\n",
    "                    'X':'-..-', 'Y':'-.--', 'Z':'--..',\n",
    "                    '1':'.----', '2':'..---', '3':'...--',\n",
    "                    '4':'....-', '5':'.....', '6':'-....',\n",
    "                    '7':'--...', '8':'---..', '9':'----.',\n",
    "                    '0':'-----', ', ':'--..--', '.':'.-.-.-',\n",
    "                    '?':'..--..', '/':'-..-.', '-':'-....-',\n",
    "                    '(':'-.--.', ')':'-.--.-'}\n",
    "\n",
    "def char_to_dots(inp):\n",
    "    return ''.join([MORSE_CODE_DICT[i]+ ' ' if i!= ' ' else ' ' for i in inp])\n",
    "\n",
    "print(char_to_dots('EDABBIT CHALLENGE'))"
   ]
  },
  {
   "cell_type": "code",
   "execution_count": 54,
   "id": "44c4d4e3",
   "metadata": {},
   "outputs": [
    {
     "name": "stdout",
     "output_type": "stream",
     "text": [
      "True\n",
      "True\n",
      "False\n"
     ]
    }
   ],
   "source": [
    "# 4. Write a function that takes a number and returns True if it&#39;s a prime; False\n",
    "# otherwise. The number can be 2^64-1 (2 to the power of 63, not XOR). With\n",
    "# the standard technique it would be O(2^64-1), which is much too large for the\n",
    "# 10 second time limit.\n",
    "# Examples\n",
    "# prime(7) ➞ True\n",
    "# prime(56963) ➞ True\n",
    "# prime(5151512515524) ➞ False\n",
    "\n",
    "def prime(inp):\n",
    "    result = True\n",
    "    if inp > 1:\n",
    "        for i in range(2, inp//2):\n",
    "            if (inp % i) == 0:\n",
    "                result = False\n",
    "                break\n",
    "            else:\n",
    "                pass\n",
    "    else:\n",
    "        result = False\n",
    "    return result\n",
    "        \n",
    "print(prime(7))\n",
    "print(prime(56963))\n",
    "print(prime(5151512515524))"
   ]
  },
  {
   "cell_type": "code",
   "execution_count": 93,
   "id": "2f0cef40",
   "metadata": {},
   "outputs": [
    {
     "name": "stdout",
     "output_type": "stream",
     "text": [
      "[False, True, True, False]\n",
      "[False, True, False, True, True]\n",
      "[False, True, True, False]\n"
     ]
    }
   ],
   "source": [
    "# 5. Create a function that converts a word to a bitstring and then to a boolean\n",
    "# list based on the following criteria:\n",
    "# 1. Locate the position of the letter in the English alphabet (from 1 to 26).\n",
    "# 2. Odd positions will be represented as 1 and 0 otherwise.\n",
    "# 3. Convert the represented positions to boolean values, 1 for True and 0\n",
    "# for False.\n",
    "# 4. Store the conversions into an array.\n",
    "# Examples\n",
    "# to_boolean_list(&quot;deep&quot;) ➞ [False, True, True, False]\n",
    "# # deep converts to 0110\n",
    "# # d is the 4th alphabet - 0\n",
    "# # e is the 5th alphabet - 1\n",
    "# # e is the 5th alphabet - 1\n",
    "# # p is the 16th alphabet - 0\n",
    "# to_boolean_list(&quot;loves&quot;) ➞ [False, True, False, True, True]\n",
    "# to_boolean_list(&quot;tesh&quot;) ➞ [False, True, True, False]\n",
    "\n",
    "import string\n",
    "def to_boolean_list(inp):\n",
    "    return [True if k==1 else False for k in [0 if j%2==0 else 1 for j in [string.ascii_lowercase.index(i)+1 for i in inp]]]\n",
    "\n",
    "print((to_boolean_list('deep')))\n",
    "print((to_boolean_list('loves')))\n",
    "print((to_boolean_list('tesh')))"
   ]
  },
  {
   "cell_type": "code",
   "execution_count": null,
   "id": "6a7339c8",
   "metadata": {},
   "outputs": [],
   "source": []
  }
 ],
 "metadata": {
  "kernelspec": {
   "display_name": "Python 3",
   "language": "python",
   "name": "python3"
  },
  "language_info": {
   "codemirror_mode": {
    "name": "ipython",
    "version": 3
   },
   "file_extension": ".py",
   "mimetype": "text/x-python",
   "name": "python",
   "nbconvert_exporter": "python",
   "pygments_lexer": "ipython3",
   "version": "3.7.3"
  }
 },
 "nbformat": 4,
 "nbformat_minor": 5
}
