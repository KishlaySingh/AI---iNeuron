{
 "cells": [
  {
   "cell_type": "markdown",
   "id": "9414b67d",
   "metadata": {},
   "source": [
    "1. Create a function based on the input and output. Look at the examples,\n",
    "there is a pattern."
   ]
  },
  {
   "cell_type": "code",
   "execution_count": 7,
   "id": "9fd50aa6",
   "metadata": {},
   "outputs": [
    {
     "name": "stdout",
     "output_type": "stream",
     "text": [
      "<p class='one two three'></p>\n",
      "<p class='one'></p>\n",
      "<p class='four five'></p>\n"
     ]
    }
   ],
   "source": [
    "def secret(a):\n",
    "    return \"<\"+a[0]+ \" class=\" + \"'\"+' '.join(a.split('.')[1:])+ \"'\"+'></'+a[0]+'>'\n",
    "\n",
    "print(secret('p.one.two.three'))\n",
    "print(secret('p.one'))\n",
    "print(secret('p.four.five'))"
   ]
  },
  {
   "cell_type": "markdown",
   "id": "cbf6539b",
   "metadata": {},
   "source": [
    "2. Create a function which counts how many lone 1s appear in a given\n",
    "number. Lone means the number doesn't appear twice or more in a row."
   ]
  },
  {
   "cell_type": "code",
   "execution_count": 146,
   "id": "4e10c64f",
   "metadata": {},
   "outputs": [
    {
     "name": "stdout",
     "output_type": "stream",
     "text": [
      "2\n",
      "1\n",
      "0\n",
      "0\n"
     ]
    }
   ],
   "source": [
    "def count_lone_ones(n):\n",
    "    count=0\n",
    "    for i in range(len(str(n))-1):\n",
    "        if str(n)[i]==str(n)[i+1]=='1' or (str(n)[i]!='1' and str(n)[i+1]!='1'):\n",
    "            count-=1\n",
    "        else:\n",
    "            count+=1\n",
    "    return count if count>=0 else 0\n",
    "                    \n",
    "\n",
    "print(count_lone_ones(101))\n",
    "print(count_lone_ones(1191))\n",
    "print(count_lone_ones(1111))\n",
    "print(count_lone_ones(462))"
   ]
  },
  {
   "cell_type": "markdown",
   "id": "9117ce29",
   "metadata": {},
   "source": [
    "3. Write a method that accepts two integer parameters rows and cols. The\n",
    "output is a 2d array of numbers displayed in column-major order, meaning the\n",
    "numbers shown increase sequentially down each column and wrap to the top\n",
    "of the next column to the right once the bottom of the current column is\n",
    "reached."
   ]
  },
  {
   "cell_type": "code",
   "execution_count": 43,
   "id": "12c50bc4",
   "metadata": {},
   "outputs": [
    {
     "name": "stdout",
     "output_type": "stream",
     "text": [
      "[[1, 4, 7, 10, 13, 16], [2, 5, 8, 11, 14, 17], [3, 6, 9, 12, 15, 18]]\n",
      "[[1, 6, 11], [2, 7, 12], [3, 8, 13], [4, 9, 14], [5, 10, 15]]\n"
     ]
    }
   ],
   "source": [
    "def printGrid(a,b):\n",
    "    return [[i if j==0 else i+a*j for j in range(b)]for i in range(1,a+1)]\n",
    "\n",
    "print(printGrid(3,6))\n",
    "print(printGrid(5,3))"
   ]
  },
  {
   "cell_type": "markdown",
   "id": "97bccada",
   "metadata": {},
   "source": [
    "4. Given a list of integers, return the smallest positive integer not present in\n",
    "the list.\n",
    "Here is a representative example. Consider the list:\n",
    "[-2, 6, 4, 5, 7, -1, 7, 1, 3, 6, 6, -2, 9, 10, 2, 2]\n",
    "After reordering, the list becomes:\n",
    "[-2, -2, -1, 1, 2, 2, 3, 4, 5, 6, 6, 6, 7, 7, 9, 10]\n",
    "from which we see that the smallest missing positive integer is 8."
   ]
  },
  {
   "cell_type": "code",
   "execution_count": 69,
   "id": "d9523fdb",
   "metadata": {},
   "outputs": [
    {
     "name": "stdout",
     "output_type": "stream",
     "text": [
      "8\n",
      "2\n",
      "1\n"
     ]
    }
   ],
   "source": [
    "def min_miss_pos(inp):\n",
    "    return min(k for k in [i if i not in inp else '' for i in range(1,max(inp)) ] if isinstance(k,int))\n",
    "\n",
    "print(min_miss_pos([-2, 6, 4, 5, 7, -1, 1, 3, 6, -2, 9, 10, 2, 2]))\n",
    "print(min_miss_pos([5,9, -2, 0, 1, 3, 9, 3, 8, 9]))\n",
    "print(min_miss_pos([0,4, 4, -1, 9, 4, 5, 2, 10, 7, 6, 3, 10, 9]))"
   ]
  },
  {
   "cell_type": "markdown",
   "id": "a65c72b2",
   "metadata": {},
   "source": [
    " 5. Google is launching a network of autonomous pizza delivery drones and\n",
    "wants you to create a flexible rewards system (Pizza Points™) that can be\n",
    "tweaked in the future. The rules are simple: if a customer has made at least N\n",
    "orders of at least Y price, they get a FREE pizza!\n",
    "Create a function that takes a dictionary of customers, a minimum number of\n",
    "orders and a minimum order price. Return a list of customers that are eligible\n",
    "for a free pizza."
   ]
  },
  {
   "cell_type": "code",
   "execution_count": 105,
   "id": "a1d63c41",
   "metadata": {},
   "outputs": [
    {
     "name": "stdout",
     "output_type": "stream",
     "text": [
      "['Spider-Man']\n",
      "['Batman', 'Spider-Man']\n",
      "[]\n"
     ]
    }
   ],
   "source": [
    "def pizza_points(inp,a,b):\n",
    "    return [k for k in [key if len([i for i in value if i>b])>a \n",
    "                        else '' for key,value in inp.items()] if k.strip()]\n",
    "\n",
    "customers = {'Batman': [22, 30, 11, 17, 15, 52, 27, 12],\n",
    "'Spider-Man' : [5, 17, 30, 33, 40, 22, 26, 10, 11, 45]}\n",
    "print(pizza_points(customers,5,20))\n",
    "print(pizza_points(customers,3,10))\n",
    "print(pizza_points(customers,5,100))"
   ]
  }
 ],
 "metadata": {
  "kernelspec": {
   "display_name": "Python 3",
   "language": "python",
   "name": "python3"
  },
  "language_info": {
   "codemirror_mode": {
    "name": "ipython",
    "version": 3
   },
   "file_extension": ".py",
   "mimetype": "text/x-python",
   "name": "python",
   "nbconvert_exporter": "python",
   "pygments_lexer": "ipython3",
   "version": "3.7.3"
  }
 },
 "nbformat": 4,
 "nbformat_minor": 5
}
