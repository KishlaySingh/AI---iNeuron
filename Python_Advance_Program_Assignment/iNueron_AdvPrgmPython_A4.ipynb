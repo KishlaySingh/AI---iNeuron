{
 "cells": [
  {
   "cell_type": "code",
   "execution_count": 49,
   "id": "5b705c79",
   "metadata": {},
   "outputs": [
    {
     "name": "stdout",
     "output_type": "stream",
     "text": [
      "5\n",
      "55\n",
      "6765\n",
      "12586269025\n"
     ]
    }
   ],
   "source": [
    "# 1. In mathematics, the Fibonacci numbers, commonly denoted Fn, form a\n",
    "# sequence, called the Fibonacci sequence, such that each number is the sum\n",
    "# of the two preceding ones, starting from 0 and 1:\n",
    "\n",
    "# The beginning of the sequence is this:\n",
    "# 0, 1, 1, 2, 3, 5, 8, 13, 21, 34, 55, 89, 144, ...\n",
    "# The function fastFib(num) returns the fibonacci number Fn, of the given num\n",
    "# as an argument.\n",
    "\n",
    "def fib_fast(inp):    \n",
    "    n1, n2 = 0, 1\n",
    "    count = 0\n",
    "    lst=[]\n",
    "    # check if the number of terms is valid\n",
    "    if inp <= 0:\n",
    "       print(\"Please enter a positive integer\")\n",
    "    elif inp == 1:\n",
    "       print(\"Fibonacci sequence upto\",nterms,\":\")\n",
    "       print(n1)\n",
    "    else:\n",
    "       while count < inp:\n",
    "           lst.append(n1)\n",
    "           nth = n1 + n2\n",
    "           # update values\n",
    "           n1 = n2\n",
    "           n2 = nth\n",
    "           count += 1\n",
    "    return lst[-1] +lst[-2]\n",
    "\n",
    "print(fib_fast(5))\n",
    "print(fib_fast(10))\n",
    "print(fib_fast(20))\n",
    "print(fib_fast(50))"
   ]
  },
  {
   "cell_type": "code",
   "execution_count": 54,
   "id": "12952a56",
   "metadata": {},
   "outputs": [
    {
     "name": "stdout",
     "output_type": "stream",
     "text": [
      "68 65 6c 6c 6f 20 77 6f 72 6c 64\n",
      "42 69 67 20 42 6f 69\n",
      "4d 61 72 74 79 20 50 6f 70 70 69 6e 73 6f 6e\n"
     ]
    }
   ],
   "source": [
    "# 2. Create a function that takes a strings characters as ASCII and returns each\n",
    "# characters hexadecimal value as a string.\n",
    "# Examples\n",
    "# convert_to_hex(&quot;hello world&quot;) ➞ &quot;68 65 6c 6c 6f 20 77 6f 72 6c 64&quot;''\n",
    "\n",
    "def convert_to_hex(inp):\n",
    "    return \" \".join(\"{:02x}\".format(ord(c)) for c in inp)\n",
    "\n",
    "print(convert_to_hex('hello world'))\n",
    "print(convert_to_hex('Big Boi'))\n",
    "print(convert_to_hex('Marty Poppinson'))"
   ]
  },
  {
   "cell_type": "code",
   "execution_count": 56,
   "id": "41a21f4b",
   "metadata": {},
   "outputs": [
    {
     "name": "stdout",
     "output_type": "stream",
     "text": [
      "Where did my vowels go?\n",
      "abcd\n",
      "UPPERCASE\n"
     ]
    }
   ],
   "source": [
    "# 3. Someone has attempted to censor my strings by replacing every vowel\n",
    "# with a *, l*k* th*s. Luckily, I&#39;ve been able to find the vowels that were\n",
    "# removed.\n",
    "# Given a censored string and a string of the censored vowels, return the\n",
    "# original uncensored string.\n",
    "\n",
    "def uncensor(string, vowels):\n",
    "  new_ = \"\"\n",
    "  counter = 0\n",
    "  for i in range(len(string)):\n",
    "    if string[i] == \"*\":\n",
    "      new_ += vowels[counter]\n",
    "      counter += 1\n",
    "    else:\n",
    "      new_ += string[i]\n",
    "  return new_\n",
    " \n",
    "print(uncensor(\"Wh*r* d*d my v*w*ls g*?\",\"eeioeo\"))\n",
    "print(uncensor(\"abcd\",\"\"))\n",
    "print(uncensor(\"*PP*RC*S*\",\"UEAE\"))"
   ]
  },
  {
   "cell_type": "code",
   "execution_count": 66,
   "id": "db700a38",
   "metadata": {},
   "outputs": [
    {
     "name": "stdout",
     "output_type": "stream",
     "text": [
      "dns.google\n",
      "dns.google\n"
     ]
    }
   ],
   "source": [
    "# 4. Write a function that takes an IP address and returns the domain name\n",
    "# using PTR DNS records.\n",
    "# Example\n",
    "# get_domain(&quot;8.8.8.8&quot;) ➞ &quot;dns.google&quot;\n",
    "# get_domain(&quot;8.8.4.4&quot;) ➞ &quot;dns.google&quot;\n",
    "\n",
    "import socket\n",
    "def get_domain(inp):\n",
    "    return socket.gethostbyaddr('8.8.8.8')[0]\n",
    "\n",
    "print(get_domain('8.8.8.8'))\n",
    "print(get_domain('8.8.4.4'))"
   ]
  },
  {
   "cell_type": "code",
   "execution_count": 94,
   "id": "1e08b594",
   "metadata": {},
   "outputs": [
    {
     "name": "stdout",
     "output_type": "stream",
     "text": [
      "288\n",
      "34560\n",
      "24883200\n"
     ]
    }
   ],
   "source": [
    "# 5. Create a function that takes an integer n and returns the factorial of\n",
    "# factorials. See below examples for a better understanding:\n",
    "# Examples\n",
    "# fact_of_fact(4) ➞ 288\n",
    "# # 4! * 3! * 2! * 1! = 288\n",
    "# fact_of_fact(5) ➞ 34560\n",
    "# fact_of_fact(6) ➞ 24883200\n",
    "\n",
    "def fact_of_fact(inp):\n",
    "    fact=1\n",
    "    return reduce(lambda x,y:x*y,[fact*j for i in range(1,inp+1) for j in range(1,i+1)])\n",
    "\n",
    "print(fact_of_fact(4))\n",
    "print(fact_of_fact(5))\n",
    "print(fact_of_fact(6))"
   ]
  }
 ],
 "metadata": {
  "kernelspec": {
   "display_name": "Python 3",
   "language": "python",
   "name": "python3"
  },
  "language_info": {
   "codemirror_mode": {
    "name": "ipython",
    "version": 3
   },
   "file_extension": ".py",
   "mimetype": "text/x-python",
   "name": "python",
   "nbconvert_exporter": "python",
   "pygments_lexer": "ipython3",
   "version": "3.7.3"
  }
 },
 "nbformat": 4,
 "nbformat_minor": 5
}
