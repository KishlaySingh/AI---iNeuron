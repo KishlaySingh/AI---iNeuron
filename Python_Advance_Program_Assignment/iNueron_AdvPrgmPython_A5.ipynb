{
 "cells": [
  {
   "cell_type": "code",
   "execution_count": 10,
   "id": "866bb632",
   "metadata": {},
   "outputs": [
    {
     "name": "stdout",
     "output_type": "stream",
     "text": [
      "2\n",
      "8\n",
      "2\n"
     ]
    }
   ],
   "source": [
    "# 1. Create a function that takes a number n (integer greater than zero) as an\n",
    "# argument, and returns 2 if n is odd and 8 if n is even.\n",
    "# You can only use the following arithmetic operators: addition of numbers +,\n",
    "# subtraction of numbers -, multiplication of number *, division of number /, and\n",
    "# exponentiation **.\n",
    "# You are not allowed to use any other methods in this challenge (i.e. no if\n",
    "# statements, comparison operators, etc).\n",
    "\n",
    "def even_odd(inp):\n",
    "    return 8 if int(inp/2)*2==inp else 2\n",
    "\n",
    "print(even_odd(1))\n",
    "print(even_odd(2))\n",
    "print(even_odd(3))"
   ]
  },
  {
   "cell_type": "code",
   "execution_count": 15,
   "id": "7538e817",
   "metadata": {},
   "outputs": [
    {
     "name": "stdout",
     "output_type": "stream",
     "text": [
      "A\n",
      "A\n",
      "None\n"
     ]
    }
   ],
   "source": [
    "# 2. Create a function that returns the majority vote in a list. A majority vote is\n",
    "# an element that occurs &gt; N/2 times in a list (where N is the length of the list).\n",
    "\n",
    "def majority_vote(inp):\n",
    "    maxCount = 0\n",
    "    index = -1  # sentinels\n",
    "    for i in range(len(inp)):\n",
    "        count = 0\n",
    "        for j in range(len(inp)):\n",
    "            if(inp[i] == inp[j]):\n",
    "                count += 1\n",
    "        if(count > maxCount): \n",
    "            maxCount = count\n",
    "            index = i\n",
    "    if (maxCount > len(inp)//2):\n",
    "        return (inp[index]) \n",
    "    else:\n",
    "        return (\"None\")\n",
    "    \n",
    "print(majority_vote(['A','A','A']))\n",
    "print(majority_vote(['A','A','A','B','C','A']))\n",
    "print(majority_vote(['A','B','B','A','C','C']))"
   ]
  },
  {
   "cell_type": "code",
   "execution_count": 133,
   "id": "e29f20ff",
   "metadata": {},
   "outputs": [
    {
     "name": "stdout",
     "output_type": "stream",
     "text": [
      "----- is - Wednesday\n",
      "The *** jumped **** the moon\n",
      "Why *** the ******* cross the ****\n"
     ]
    }
   ],
   "source": [
    "# 3. Create a function that takes a string txt and censors any word from a given\n",
    "# list lst. The text removed must be replaced by the given character char.\n",
    "# Examples\n",
    "# censor_string(&quot;Today is a Wednesday!&quot;, [&quot;Today&quot;, &quot;a&quot;], &quot;-&quot;) ➞ &quot;----- is -\n",
    "# Wednesday!&quot;\n",
    "\n",
    "def censor_string(inp,censor,replacestring):\n",
    "    inp = re.sub('[^A-Za-z0-9\\s]+', '', inp)\n",
    "    for i in inp.split():\n",
    "        if (len(list(filter(re.compile(r'^'+i+'$').match,censor))))>0:\n",
    "            inp = re.sub(r'\\b'+re.escape(i)+r'\\b', replacestring*len(i), inp)\n",
    "    return inp\n",
    "\n",
    "print(censor_string('Today is a Wednesday!',['Today','a'],'-'))\n",
    "print(censor_string('The cow jumped over the moon.',['cow','over'],'*'))\n",
    "print(censor_string('Why did the chicken cross the road?',['did','chicken','road'],'*'))"
   ]
  },
  {
   "cell_type": "code",
   "execution_count": 171,
   "id": "0e991b3a",
   "metadata": {},
   "outputs": [
    {
     "name": "stdout",
     "output_type": "stream",
     "text": [
      "True\n",
      "False\n"
     ]
    }
   ],
   "source": [
    "# 4. In mathematics a Polydivisible Number (or magic number) is a number in a\n",
    "# given number base with digits abcde... that has the following properties:\n",
    "# - Its first digit a is not 0.\n",
    "# - The number formed by its first two digits ab is a multiple of 2.\n",
    "# - The number formed by its first three digits abc is a multiple of 3.\n",
    "# - The number formed by its first four digits abcd is a multiple of 4.\n",
    "# Create a function which takes an integer n and returns True if the given\n",
    "# number is a Polydivisible Number and False otherwise.\n",
    "\n",
    "def check_polydivisible(n):\n",
    "    res = True\n",
    "    count = len(str(n))\n",
    "    for i in range(count):\n",
    "        if (int(str(n)[0:i+1])/(i+1)).is_integer():\n",
    "            pass\n",
    "        else:\n",
    "            res = False\n",
    "            break\n",
    "    return res\n",
    "\n",
    "print(check_polydivisible(1232))\n",
    "print(check_polydivisible(123220))"
   ]
  },
  {
   "cell_type": "code",
   "execution_count": 168,
   "id": "b80885a3",
   "metadata": {},
   "outputs": [],
   "source": [
    "# 5. Create a function that takes a list of numbers and returns the sum of all\n",
    "# prime numbers in the list.\n",
    "\n",
    "def is_prime(n):\n",
    "    if n < 2:\n",
    "        return False\n",
    "    elif n <= 3:\n",
    "        return True\n",
    "    elif n % 2 == 0:\n",
    "        return False\n",
    "\n",
    "    # round up the sqrt of n\n",
    "    length = int(n**.5) + 1  # n**.5 is equal to sqrt(n)\n",
    "    for i in range(3, length, 2):\n",
    "        if n % i == 0:\n",
    "            return False\n",
    "\n",
    "    return True"
   ]
  },
  {
   "cell_type": "code",
   "execution_count": 47,
   "id": "0da87244",
   "metadata": {},
   "outputs": [
    {
     "data": {
      "text/plain": [
       "17"
      ]
     },
     "execution_count": 47,
     "metadata": {},
     "output_type": "execute_result"
    }
   ],
   "source": [
    "def is_prime(n):\n",
    "    flag = False\n",
    "    Sum=0\n",
    "    for k in n:\n",
    "        flag = False\n",
    "        if k==2 :\n",
    "            Sum=Sum+k\n",
    "        elif k==1:\n",
    "            pass\n",
    "        else:\n",
    "            for i in range(2, k):\n",
    "                if (k % i) == 0:\n",
    "                    flag = True\n",
    "                    break\n",
    "            if flag==False:\n",
    "                Sum=Sum+k               \n",
    "    return Sum\n",
    "\n",
    "is_prime([1,2,3,4,5,6,7,8])"
   ]
  },
  {
   "cell_type": "code",
   "execution_count": null,
   "id": "7303a07e",
   "metadata": {},
   "outputs": [],
   "source": []
  }
 ],
 "metadata": {
  "kernelspec": {
   "display_name": "Python 3",
   "language": "python",
   "name": "python3"
  },
  "language_info": {
   "codemirror_mode": {
    "name": "ipython",
    "version": 3
   },
   "file_extension": ".py",
   "mimetype": "text/x-python",
   "name": "python",
   "nbconvert_exporter": "python",
   "pygments_lexer": "ipython3",
   "version": "3.7.3"
  }
 },
 "nbformat": 4,
 "nbformat_minor": 5
}
