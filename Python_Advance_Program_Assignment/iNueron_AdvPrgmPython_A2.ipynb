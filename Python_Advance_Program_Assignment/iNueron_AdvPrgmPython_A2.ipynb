{
 "cells": [
  {
   "cell_type": "code",
   "execution_count": 3,
   "id": "4f7d8abd",
   "metadata": {},
   "outputs": [
    {
     "name": "stdout",
     "output_type": "stream",
     "text": [
      "1\n",
      "6\n",
      "16\n",
      "141\n"
     ]
    }
   ],
   "source": [
    "# 1. Write a function that takes a positive integer num and calculates how many\n",
    "# dots exist in a pentagonal shape around the center dot on the Nth iteration.\n",
    "# In the image below you can see the first iteration is only a single dot. On the\n",
    "# second, there are 6 dots. On the third, there are 16 dots, and on the fourth\n",
    "# there are 31 dots.\n",
    "\n",
    "def PentagonalNumber(num): \n",
    "    num = num - 1\n",
    "    number = ((5*(num**2)) + (5*num) + 2) / 2 \n",
    "    return format(number,'.0f')\n",
    "    \n",
    "\n",
    "print(PentagonalNumber(1))\n",
    "print(PentagonalNumber(2))\n",
    "print(PentagonalNumber(3))\n",
    "print(PentagonalNumber(8))"
   ]
  },
  {
   "cell_type": "code",
   "execution_count": 19,
   "id": "539d738c",
   "metadata": {},
   "outputs": [
    {
     "name": "stdout",
     "output_type": "stream",
     "text": [
      "1lpp0aca\n",
      "0n0n0baca\n",
      "0c0r0kaca\n",
      "k0r3baca\n",
      "0c0pl0aca\n"
     ]
    }
   ],
   "source": [
    "# 2. Make a function that encrypts a given input with these steps:\n",
    "# Input: &quot;apple&quot;\n",
    "# Step 1: Reverse the input: &quot;elppa&quot;\n",
    "# Step 2: Replace all vowels using the following chart:\n",
    "# a =&gt; 0\n",
    "# e =&gt; 1\n",
    "# i =&gt; 2\n",
    "# o =&gt; 2\n",
    "# u =&gt; 3\n",
    "\n",
    "vowel = {'a':0,'e':1,'i':2,'o':2,'u':3}\n",
    "def encrypt(inp):\n",
    "    return ''.join((''.join([str(vowel[i]) if i in vowel.keys() else i for i in reversed(inp)]),'aca'))\n",
    "\n",
    "print(encrypt('apple'))\n",
    "print(encrypt('banana'))\n",
    "print(encrypt('karaca'))\n",
    "print(encrypt('burak'))\n",
    "print(encrypt('alpaca'))"
   ]
  },
  {
   "cell_type": "code",
   "execution_count": 33,
   "id": "9f33bc66",
   "metadata": {},
   "outputs": [
    {
     "name": "stdout",
     "output_type": "stream",
     "text": [
      "True\n",
      "True\n",
      "False\n"
     ]
    }
   ],
   "source": [
    "# 3. Given the month and year as numbers, return whether that month contains\n",
    "# a Friday 13th.(i.e You can check Python&#39;s datetime module)\n",
    "# Examples\n",
    "# has_friday_13(3, 2020) ➞ True\n",
    "# has_friday_13(10, 2017) ➞ True\n",
    "# has_friday_13(1, 1985) ➞ False\n",
    "\n",
    "import datetime\n",
    "def has_friday(month,year):\n",
    "    return True if datetime.date(day=13,month=month,year=year).weekday()==4 else False\n",
    "\n",
    "print(has_friday(3,2020))\n",
    "print(has_friday(10, 2017))\n",
    "print(has_friday(1, 1985))"
   ]
  },
  {
   "cell_type": "code",
   "execution_count": 34,
   "id": "5b50dab2",
   "metadata": {},
   "outputs": [
    {
     "data": {
      "text/plain": [
       "2"
      ]
     },
     "execution_count": 34,
     "metadata": {},
     "output_type": "execute_result"
    }
   ],
   "source": [
    "# 4. Write a regular expression that will help us count how many bad cookies\n",
    "# are produced every day. You must use RegEx negative lookbehind.\n",
    "# Example\n",
    "# lst = [&quot;bad cookie&quot;, &quot;good cookie&quot;, &quot;bad cookie&quot;, &quot;good cookie&quot;, &quot;good cookie&quot;]\n",
    "# pattern = &quot;yourregularexpressionhere&quot;\n",
    "# len(re.findall(pattern, &quot;, &quot;.join(lst))) ➞ 2\n",
    "\n",
    "import re\n",
    "lst = ['bad cookie', 'good cookie', 'bad cookie', 'good cookie', 'good cookie']\n",
    "pattern = 'bad cookie'\n",
    "\n",
    "len(re.findall(pattern,','.join(lst)))"
   ]
  },
  {
   "cell_type": "code",
   "execution_count": 59,
   "id": "ce909aa2",
   "metadata": {},
   "outputs": [
    {
     "name": "stdout",
     "output_type": "stream",
     "text": [
      "{'pig', 'cows'}\n",
      "{'tables'}\n",
      "{'arm', 'pencil', 'chair'}\n"
     ]
    }
   ],
   "source": [
    "# 5. Given a list of words in the singular form, return a set of those words in the\n",
    "# plural form if they appear more than once in the list.\n",
    "# Examples\n",
    "# pluralize([&quot;cow&quot;, &quot;pig&quot;, &quot;cow&quot;, &quot;cow&quot;]) ➞ { &quot;cows&quot;, &quot;pig&quot; }\n",
    "# pluralize([&quot;table&quot;, &quot;table&quot;, &quot;table&quot;]) ➞ { &quot;tables&quot; }\n",
    "\n",
    "\n",
    "def pluralize(inp):\n",
    "    return set([key for key in { j:inp.count(j) for j in [i+'s' if inp.count(i)>1 else i for i in inp ]}.keys()])\n",
    "\n",
    "print(pluralize(['cow','pig','cow','cow']))\n",
    "print(pluralize(['table','table','table']))\n",
    "print(pluralize(['chair','pencil','arm']))"
   ]
  }
 ],
 "metadata": {
  "kernelspec": {
   "display_name": "Python 3",
   "language": "python",
   "name": "python3"
  },
  "language_info": {
   "codemirror_mode": {
    "name": "ipython",
    "version": 3
   },
   "file_extension": ".py",
   "mimetype": "text/x-python",
   "name": "python",
   "nbconvert_exporter": "python",
   "pygments_lexer": "ipython3",
   "version": "3.7.3"
  }
 },
 "nbformat": 4,
 "nbformat_minor": 5
}
