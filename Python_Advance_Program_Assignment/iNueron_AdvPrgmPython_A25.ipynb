{
 "cells": [
  {
   "cell_type": "markdown",
   "id": "1f012581",
   "metadata": {},
   "source": [
    "1. Write four functions that directly mutate a list:\n",
    "    1. repeat(lst, n): Repeat lst n times.\n",
    "    2. add(lst, x): Adds x to the end of the lst.\n",
    "    3. remove(lst, m, n): Removes all elements between indices m and n\n",
    "    inclusive in lst.\n",
    "    4. concat(lst, x): concatenates lst with x (another list)."
   ]
  },
  {
   "cell_type": "code",
   "execution_count": 37,
   "id": "27902050",
   "metadata": {},
   "outputs": [
    {
     "name": "stdout",
     "output_type": "stream",
     "text": [
      "[1, 2, 3, 4, 1, 2, 3, 4, 1, 2, 3, 4]\n",
      "[1, 2, 3, 4, 1, 2, 3, 4, 1, 2, 3, 4, 1]\n",
      "[1]\n",
      "[1, 3, 4]\n"
     ]
    }
   ],
   "source": [
    "def repeat(lst,n):\n",
    "    return lst*n\n",
    "\n",
    "def add(lst,n):\n",
    "    lst+=[n]\n",
    "    return lst\n",
    "\n",
    "def remove(lst,m,n):\n",
    "    del lst[m:n+1]\n",
    "    return lst\n",
    "\n",
    "def concat(lst,x):\n",
    "    lst.extend(x)\n",
    "    return lst\n",
    "lst = [1,2,3,4]\n",
    "lst = repeat(lst,3)\n",
    "print(lst)\n",
    "lst = add(lst,1)\n",
    "print(lst)\n",
    "lst = remove(lst,1,12)\n",
    "print(lst)\n",
    "lst = concat(lst,[3,4])\n",
    "print(lst)"
   ]
  },
  {
   "cell_type": "markdown",
   "id": "c71479db",
   "metadata": {},
   "source": [
    "2. The classic game of Mastermind is played on a tray on which the\n",
    "Mastermind conceals a code and the Guesser has 10 tries to guess it. The\n",
    "code is a sequence of 4 (or 6, sometimes more) pegs of different colors. Each\n",
    "guess is a corresponding sequence of 4 (or more) pegs of different colors. A\n",
    "guess is \"correct\" when the color of every peg in the guess exactly matches\n",
    "the corresponding peg in the Mastermind's code.\n",
    "After each guess by the Guesser, the Mastermind will give a score comprising\n",
    "black & white pegs, not arranged in any order:\n",
    "- Black peg == guess peg matches the color of a code peg in the same\n",
    "position.\n",
    "- White peg == guess peg matches the color of a code peg in another\n",
    "position.\n",
    "Create a function that takes two strings, code and guess as arguments, and\n",
    "returns the score in a dictionary.\n",
    "- The code and guess are strings of numeric digits\n",
    "- The color of the pegs are represented by numeric digits\n",
    "- no \"peg\" may be double-scored"
   ]
  },
  {
   "cell_type": "code",
   "execution_count": 79,
   "id": "8520e067",
   "metadata": {},
   "outputs": [
    {
     "name": "stdout",
     "output_type": "stream",
     "text": [
      "{'black': 0, 'white': 0}\n",
      "{'black': 1, 'white': 0}\n",
      "{'black': 1, 'white': 3}\n",
      "{'black': 0, 'white': 2}\n"
     ]
    }
   ],
   "source": [
    "def guess_score(code,guess):\n",
    "    white=0\n",
    "    black = sum([code[i] == guess[i] for i in range(0,len(guess))])\n",
    "    code= [i for i in code]\n",
    "    for i,val in enumerate(guess):\n",
    "        if val == code[i]:\n",
    "            code[i] = \"-\"\n",
    "\n",
    "    for i,val in enumerate(guess):          \n",
    "        if val in code:\n",
    "            white+=1\n",
    "            code[code.index(val)] = \"-\"\n",
    "    return {'black':black,'white':white}\n",
    "\n",
    "print(guess_score('1423','5678'))\n",
    "print(guess_score('1423','2222'))\n",
    "print(guess_score('1423','1234'))\n",
    "print(guess_score('1423','2211'))"
   ]
  },
  {
   "cell_type": "markdown",
   "id": "3335515a",
   "metadata": {},
   "source": [
    "3. Create a function that takes a list lst and a number N and returns a list of\n",
    "two integers from lst whose product equals N."
   ]
  },
  {
   "cell_type": "code",
   "execution_count": 106,
   "id": "31a1249c",
   "metadata": {},
   "outputs": [
    {
     "name": "stdout",
     "output_type": "stream",
     "text": [
      "[4, 5]\n",
      "[2, 5]\n",
      "None\n"
     ]
    }
   ],
   "source": [
    "def two_product(lst,n):\n",
    "    for i in range(len(lst)):\n",
    "        j=i\n",
    "        while j < len(lst)-1:\n",
    "            if lst[i]*lst[j+1] == n:\n",
    "                return [lst[i],lst[j+1]]\n",
    "            else:\n",
    "                j+=1\n",
    " \n",
    "print(two_product([1,2,-1,4,5],20))\n",
    "print(two_product([1,2,3,4,5],10))\n",
    "print(two_product([100, 12, 4, 1, 2], 15))"
   ]
  },
  {
   "cell_type": "markdown",
   "id": "ae2ffbd6",
   "metadata": {},
   "source": [
    "4. In this challenge, sort a list containing a series of dates given as strings.\n",
    "Each date is given in the format DD-MM-YYYY_HH:MM:\n",
    "'12-02-2012_13:44'\n",
    "The priority of criteria used for sorting will be:\n",
    "- Year\n",
    "- Month\n",
    "- Day\n",
    "- Hours\n",
    "- Minutes\n",
    "\n",
    "Given a list lst and a string mode, implement a function that returns:\n",
    "- if mode is equal to 'ASC', the list lst sorted in ascending order.\n",
    "- if mode is equal to 'DSC', the list lst sorted in descending order."
   ]
  },
  {
   "cell_type": "code",
   "execution_count": 127,
   "id": "5f5da760",
   "metadata": {},
   "outputs": [
    {
     "name": "stdout",
     "output_type": "stream",
     "text": [
      "['10-02-2016_12:30', '10-02-2018_12:15', '10-02-2018_12:30']\n",
      "['10-02-2018_12:30', '10-02-2018_12:15', '10-02-2016_12:30']\n",
      "['01-01-1999_00:55', '09-02-2000_10:03', '10-02-2000_18:29']\n"
     ]
    }
   ],
   "source": [
    "def sort_dates(lst,mode):\n",
    "    if mode == \"ASC\":\n",
    "        lst.sort(key=lambda date: datetime.strptime(date, \"%d-%m-%Y_%H:%M\"))\n",
    "        return lst\n",
    "    elif mode == \"DSC\":\n",
    "        lst.sort(key=lambda date: datetime.strptime(date, \"%d-%m-%Y_%H:%M\"),reverse=True)\n",
    "        return lst\n",
    "    else:\n",
    "        return \"Wrong Mode\"\n",
    "    \n",
    "print(sort_dates(['10-02-2018_12:30', '10-02-2016_12:30', '10-02-2018_12:15'],\"ASC\"))\n",
    "print(sort_dates(['10-02-2018_12:30', '10-02-2016_12:30', '10-02-2018_12:15'],\"DSC\"))\n",
    "print(sort_dates(['09-02-2000_10:03', '10-02-2000_18:29', '01-01-1999_00:55'],\"ASC\"))"
   ]
  },
  {
   "cell_type": "markdown",
   "id": "d5825be3",
   "metadata": {},
   "source": [
    "5. Write a function that selects all words that have all the same vowels (in any\n",
    "order and/or number) as the first word, including the first word."
   ]
  },
  {
   "cell_type": "code",
   "execution_count": 171,
   "id": "b37dc32f",
   "metadata": {},
   "outputs": [
    {
     "name": "stdout",
     "output_type": "stream",
     "text": [
      "['toe', 'ocelot']\n",
      "['many']\n",
      "['hoops', 'bot', 'bottom']\n"
     ]
    }
   ],
   "source": [
    "def same_vowel_group(lst):\n",
    "    first = ''.join(set(''.join([j for j in lst[0] if j in 'aeiou'])))\n",
    "    return [i for i in lst if first == ''.join(set(''.join([j for j in i if j in 'aeiou'])))]\n",
    "\n",
    "\n",
    "print(same_vowel_group(['toe', 'ocelot', 'maniac']))\n",
    "print(same_vowel_group(['many', 'carriage', 'emit', 'apricot', 'animal']))\n",
    "print(same_vowel_group(['hoops', 'chuff', 'bot', 'bottom']))"
   ]
  },
  {
   "cell_type": "markdown",
   "id": "ef395cb4",
   "metadata": {},
   "source": [
    "6. Create a function that takes a list of more than three numbers and returns\n",
    "the Least Common Multiple (LCM)."
   ]
  },
  {
   "cell_type": "code",
   "execution_count": 175,
   "id": "e35e9f62",
   "metadata": {},
   "outputs": [
    {
     "name": "stdout",
     "output_type": "stream",
     "text": [
      "2520\n",
      "27965340\n",
      "2333760\n"
     ]
    }
   ],
   "source": [
    "from math import gcd\n",
    "def lcm_of_list(inp):\n",
    "    lcm=1\n",
    "    for i in inp:\n",
    "        lcm = lcm*i//gcd(lcm, i)\n",
    "    return lcm\n",
    "\n",
    "print(lcm_of_list([1,2,3,4,5,6,7,8,9,10]))\n",
    "print(lcm_of_list([13, 6, 17, 18, 19, 20, 37]))\n",
    "print(lcm_of_list([44, 64, 12, 17, 65]))"
   ]
  }
 ],
 "metadata": {
  "kernelspec": {
   "display_name": "Python 3",
   "language": "python",
   "name": "python3"
  },
  "language_info": {
   "codemirror_mode": {
    "name": "ipython",
    "version": 3
   },
   "file_extension": ".py",
   "mimetype": "text/x-python",
   "name": "python",
   "nbconvert_exporter": "python",
   "pygments_lexer": "ipython3",
   "version": "3.8.8"
  }
 },
 "nbformat": 4,
 "nbformat_minor": 5
}
