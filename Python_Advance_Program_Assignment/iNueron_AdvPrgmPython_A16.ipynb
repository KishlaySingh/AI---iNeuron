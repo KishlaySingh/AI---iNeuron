{
 "cells": [
  {
   "cell_type": "code",
   "execution_count": 16,
   "id": "ab687161",
   "metadata": {},
   "outputs": [
    {
     "name": "stdout",
     "output_type": "stream",
     "text": [
      "True\n",
      "True\n",
      "False\n",
      "False\n",
      "False\n"
     ]
    }
   ],
   "source": [
    "# 1. Rondo Form is a type of musical structure, in which there is a recurring theme/refrain, notated as A. Here are the rules for valid rondo forms:\n",
    "\n",
    "#    - Rondo forms always start and end with an A section.\n",
    "#    - In between the A sections, there should be contrasting sections notated as B, then C, then D, etc... No letter should be skipped.\n",
    "#    - There shouldn't be any repeats in the sequence (such as ABBACCA).\n",
    "\n",
    "# Create a function which validates whether a given string is a valid Rondo Form.\n",
    "\n",
    "# Examples\n",
    "\n",
    "# valid_rondo(\"ABACADAEAFAGAHAIAJA\") ➞ True\n",
    "\n",
    "def valid_rondo(inp):\n",
    "    if len(inp)==1:\n",
    "        return False\n",
    "    elif inp.startswith('A') and inp.endswith('A'):        \n",
    "        count=66\n",
    "        for i in range(1,len(inp),2):\n",
    "            if inp[i] == chr(count):\n",
    "                count+=1\n",
    "            else:\n",
    "                return False\n",
    "    else:\n",
    "        return False\n",
    "    return True\n",
    "\n",
    "print(valid_rondo('ABACADAEAFAGAHAIAJA'))\n",
    "print(valid_rondo('ABA'))\n",
    "print(valid_rondo('ABBACCA'))\n",
    "print(valid_rondo('ACAC'))\n",
    "print(valid_rondo('A'))"
   ]
  },
  {
   "cell_type": "code",
   "execution_count": 72,
   "id": "5acf2e44",
   "metadata": {},
   "outputs": [
    {
     "name": "stdout",
     "output_type": "stream",
     "text": [
      "I have a cat.\n",
      "I have a mat.\n",
      "Things are going swell.\n",
      "\"\"\n"
     ]
    }
   ],
   "source": [
    "# 2. Create a function that returns the whole of the first sentence which contains a specific word. Include the full stop at the end of the sentence.\n",
    "\n",
    "# Examples\n",
    "\n",
    "# txt = \"I have a cat. I have a mat. Things are going swell.\"\n",
    "\n",
    "def sentence_searcher(inp,keyword):\n",
    "    for i in [x for x in inp.split('.') if x]:\n",
    "        if keyword.lower() in [j.lower() for j in i.split()]:\n",
    "            return i.strip()+'.'\n",
    "    return '\"\"'\n",
    "\n",
    "txt = \"I have a cat. I have a mat. Things are going swell.\"\n",
    "print(sentence_searcher(txt,'have'))\n",
    "print(sentence_searcher(txt,'mat'))\n",
    "print(sentence_searcher(txt,'things'))\n",
    "print(sentence_searcher(txt,'flat'))"
   ]
  },
  {
   "cell_type": "code",
   "execution_count": 58,
   "id": "d4a7a6ce",
   "metadata": {},
   "outputs": [
    {
     "name": "stdout",
     "output_type": "stream",
     "text": [
      "1 100\n",
      "4 30 200 1000\n",
      "10 200 4000 50000\n"
     ]
    }
   ],
   "source": [
    "# 3. Given a number, find the \"round \"of each digit of the number. An integer is called \"round\" if all its digits except the leftmost (most significant) are equal to zero.\n",
    "\n",
    "#     - Round numbers: 4000, 1, 9, 800, 90\n",
    "#     - Not round numbers: 110, 707, 222, 1001\n",
    "\n",
    "# Create a function that takes a number and returns the \"round\" of each digit (except if the digit is zero) as a string. Check out the following examples for more clarification.\n",
    "\n",
    "# Examples\n",
    "\n",
    "# sum_round(101) ➞ \"1 100\"\n",
    "\n",
    "def sum_round(inp):\n",
    "    return ' '.join([ str(int(val)*10**i) for i,val in enumerate(reversed(str(inp))) if int(val)>0])\n",
    "\n",
    "print(sum_round('101'))\n",
    "print(sum_round('1234'))\n",
    "print(sum_round('54210'))"
   ]
  },
  {
   "cell_type": "code",
   "execution_count": 96,
   "id": "3488caf2",
   "metadata": {},
   "outputs": [
    {
     "name": "stdout",
     "output_type": "stream",
     "text": [
      "[[1]]\n",
      "[[1, 2, 3], [2, 4, 6], [3, 6, 9]]\n",
      "[[1, 2, 3, 4, 5], [2, 4, 6, 8, 10], [3, 6, 9, 12, 15], [4, 8, 12, 16, 20], [5, 10, 15, 20, 25]]\n"
     ]
    }
   ],
   "source": [
    "# 4. Your task, is to create N x N multiplication table, of size n provided in parameter.\n",
    "\n",
    "# For example, when n is 5, the multiplication table is:\n",
    "\n",
    "#    - 1, 2, 3, 4, 5\n",
    "#    - 2, 4, 6, 8, 10\n",
    "#    - 3, 6, 9, 12, 15\n",
    "#    - 4, 8, 12, 16, 20\n",
    "#    - 5, 10, 15, 20, 25\n",
    "\n",
    "# This example will result in:\n",
    "# [[1, 2, 3, 4, 5], [2, 4, 6, 8, 10], [3, 6, 9, 12, 15], [4, 8, 12, 16, 20], [5, 10, 15, 20, 25]]\n",
    "# Examples\n",
    "\n",
    "# multiplication_table(1) ➞ [[1]]\n",
    "\n",
    "def multiplication_table(n):\n",
    "    return [[i*j for i in range(1,n+1)] for j in range(1,n+1)]\n",
    "\n",
    "print(multiplication_table(1))\n",
    "print(multiplication_table(3))\n",
    "print(multiplication_table(5))"
   ]
  },
  {
   "cell_type": "code",
   "execution_count": 82,
   "id": "6e67b9d5",
   "metadata": {},
   "outputs": [
    {
     "name": "stdout",
     "output_type": "stream",
     "text": [
      "True\n",
      "True\n",
      "False\n"
     ]
    }
   ],
   "source": [
    "# 5. Create a function that returns True if two lines rhyme and False otherwise. For the purposes of this exercise, two lines rhyme if the last word from each sentence contains the same vowels.\n",
    "# Examples\n",
    "# does_rhyme(\"Sam I am!\", \"Green eggs and ham.\") ➞ True\n",
    "\n",
    "def does_rhyme(a,b):\n",
    "    vowel = 'aeiou'\n",
    "    return ''.join([i for i in a.split()[-1] if i in vowel]) in [i.lower() for i in b.split()[-1]]\n",
    "\n",
    "print(does_rhyme(\"Sam I am!\",\"Green eggs and ham.\"))\n",
    "print(does_rhyme(\"Sam I am!\",\"Green eggs and HAM.\"))\n",
    "print(does_rhyme(\"You are off to the races\",\"a splendid day.\"))"
   ]
  }
 ],
 "metadata": {
  "kernelspec": {
   "display_name": "Python 3",
   "language": "python",
   "name": "python3"
  },
  "language_info": {
   "codemirror_mode": {
    "name": "ipython",
    "version": 3
   },
   "file_extension": ".py",
   "mimetype": "text/x-python",
   "name": "python",
   "nbconvert_exporter": "python",
   "pygments_lexer": "ipython3",
   "version": "3.7.3"
  }
 },
 "nbformat": 4,
 "nbformat_minor": 5
}
