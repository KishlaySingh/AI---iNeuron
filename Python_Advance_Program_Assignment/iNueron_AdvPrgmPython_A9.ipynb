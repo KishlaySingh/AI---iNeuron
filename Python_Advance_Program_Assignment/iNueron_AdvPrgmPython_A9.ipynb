{
 "cells": [
  {
   "cell_type": "code",
   "execution_count": 34,
   "id": "38cad804",
   "metadata": {},
   "outputs": [],
   "source": [
    "# 1. YouTube offers different playback speed options for users. This allows\n",
    "# users to increase or decrease the speed of the video content. Given the\n",
    "# actual duration and playback speed of the video, calculate the playback\n",
    "# duration of the video.\n",
    "\n",
    "from datetime import datetime,timedelta\n",
    "\n",
    "def playback_duration(inp,k):\n",
    "    seconds = int((sum(int(x) * 60 ** i for i, x in enumerate(reversed(inp.split(':')))))/k)\n",
    "    a=str(seconds//3600)\n",
    "    b=str((seconds%3600)//60)\n",
    "    c=str((seconds%3600)%60)\n",
    "    return '{}:{}:{}'.format(a,b,c)\n",
    "\n",
    "print(playback_duration('00:30:00',2))\n",
    "print(playback_duration('01:20:00',1.5))\n",
    "print(playback_duration('51:20:09',0.5))"
   ]
  },
  {
   "cell_type": "code",
   "execution_count": 38,
   "id": "608599c2",
   "metadata": {},
   "outputs": [
    {
     "name": "stdout",
     "output_type": "stream",
     "text": [
      "45\n",
      "2022\n",
      "None\n"
     ]
    }
   ],
   "source": [
    "# 2. We needs your help to construct a building which will be a pile of n cubes.\n",
    "# The cube at the bottom will have a volume of n^3, the cube above will have\n",
    "# volume of (n-1)^3 and so on until the top which will have a volume of 1^3.\n",
    "# Given the total volume m of the building, can you find the number of cubes n\n",
    "# required for the building?\n",
    "# In other words, you have to return an integer n such that:\n",
    "# n^3 + (n-1)^3 + ... + 1^3 == m\n",
    "# Return None if there is no such number.\n",
    "\n",
    "def findNB(m):\n",
    "    if 1 ** 3 == m:\n",
    "        return 1\n",
    "    else:\n",
    "        n = 2\n",
    "        volume = 1\n",
    "        while volume < m:\n",
    "            volume = volume + n ** 3\n",
    "            if volume == m:\n",
    "                return n\n",
    "            else:\n",
    "                n = n + 1\n",
    "                continue\n",
    "        return None\n",
    "    \n",
    "print(findNB(1071225))\n",
    "print(findNB(4183059834009))\n",
    "print(findNB(16))"
   ]
  },
  {
   "cell_type": "code",
   "execution_count": 49,
   "id": "b08e939c",
   "metadata": {},
   "outputs": [
    {
     "name": "stdout",
     "output_type": "stream",
     "text": [
      "4\n"
     ]
    }
   ],
   "source": [
    "# 3. A fulcrum of a list is an integer such that all elements to the left of it and all\n",
    "# elements to the right of it sum to the same value. Write a function that finds\n",
    "# the fulcrum of a list.\n",
    "# To illustrate:\n",
    "# find_fulcrum([3, 1, 5, 2, 4, 6, -1]) ➞ 2\n",
    "# // Since [3, 1, 5] and [4, 6, -1] both sum to 9\n",
    "\n",
    "def findElement(arr) : \n",
    "    size = len(arr)\n",
    "    right_sum, left_sum = 0, 0 \n",
    "    # Computing right_sum\n",
    "    for i in range(1, size) :\n",
    "        right_sum += arr[i] \n",
    "    i, j = 0, 1 \n",
    "    # Checking the point of partition\n",
    "    # i.e. left_Sum == right_sum\n",
    "    while j < size :\n",
    "        right_sum -= arr[j]\n",
    "        left_sum += arr[i] \n",
    "        if left_sum == right_sum :\n",
    "            return arr[i + 1] \n",
    "        j += 1\n",
    "        i += 1 \n",
    "    return -1\n",
    "\n",
    "print(findElement([1,2,4,9,10,-10,-9,3]))"
   ]
  },
  {
   "cell_type": "code",
   "execution_count": 50,
   "id": "87936848",
   "metadata": {},
   "outputs": [],
   "source": [
    "# 4. Given a list of integers representing the color of each sock, determine how\n",
    "# many pairs of socks with matching colors there are. For example, there are 7\n",
    "# socks with colors [1, 2, 1, 2, 1, 3, 2]. There is one pair of color 1 and one of\n",
    "# color 2. There are three odd socks left, one of each color. The number of\n",
    "# pairs is 2.\n",
    "# Create a function that returns an integer representing the number of matching\n",
    "# pairs of socks that are available.\n",
    "\n",
    "def sock_merchant(inp):\n",
    "    Sum=0\n",
    "    Set = set(inp)\n",
    "    for i in Set:\n",
    "        a = inp.count(i)\n",
    "        Sum+=a//2\n",
    "    return Sum\n",
    "\n",
    "print(sock_merchant([1,2,1,2,1,3,2]))\n",
    "print(sock_merchant([10,20, 20, 10, 10, 30, 50, 10, 20]))\n",
    "print(sock_merchant([50,20, 30, 90, 30, 20, 50, 20, 90]))\n",
    "print(sock_merchant([]))"
   ]
  },
  {
   "cell_type": "code",
   "execution_count": 92,
   "id": "05bfa462",
   "metadata": {},
   "outputs": [
    {
     "name": "stdout",
     "output_type": "stream",
     "text": [
      "-23\n",
      "-33\n"
     ]
    }
   ],
   "source": [
    "# 5. Create a function that takes a string containing integers as well as other\n",
    "# characters and return the sum of the negative integers only.\n",
    "import re\n",
    "def negative_sum(inp):\n",
    "    return sum([int(i) for i in re.findall(r'-[-\\d]{2}', inp) if int(i)<0])\n",
    "\n",
    "print(negative_sum('-12 13%14&-11'))\n",
    "print(negative_sum('22 13%14&-11-22 13 12'))"
   ]
  }
 ],
 "metadata": {
  "kernelspec": {
   "display_name": "Python 3",
   "language": "python",
   "name": "python3"
  },
  "language_info": {
   "codemirror_mode": {
    "name": "ipython",
    "version": 3
   },
   "file_extension": ".py",
   "mimetype": "text/x-python",
   "name": "python",
   "nbconvert_exporter": "python",
   "pygments_lexer": "ipython3",
   "version": "3.7.3"
  }
 },
 "nbformat": 4,
 "nbformat_minor": 5
}
