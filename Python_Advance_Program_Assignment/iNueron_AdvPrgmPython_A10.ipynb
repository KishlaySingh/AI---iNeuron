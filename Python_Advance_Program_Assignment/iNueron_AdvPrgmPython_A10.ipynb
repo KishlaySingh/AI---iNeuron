{
 "cells": [
  {
   "cell_type": "code",
   "execution_count": 43,
   "id": "7e68691a",
   "metadata": {},
   "outputs": [
    {
     "name": "stdout",
     "output_type": "stream",
     "text": [
      "[['####'], ['#  #'], ['#  #'], ['#  #'], ['####']]\n",
      "[['**********'], ['*        *'], ['**********']]\n",
      "Invalid\n"
     ]
    }
   ],
   "source": [
    "# 1. Create a function that takes the width, height and character and returns a\n",
    "# picture frame as a 2D list.\n",
    "# Examples\n",
    "# get_frame(4, 5, &quot;#&quot;) ➞ [\n",
    "# [&quot;####&quot;],\n",
    "# [&quot;# #&quot;],\n",
    "# [&quot;# #&quot;],\n",
    "# [&quot;# #&quot;],\n",
    "# [&quot;####&quot;]\n",
    "# ]\n",
    "# # Frame is 4 characters wide and 5 characters tall.\n",
    "\n",
    "# get_frame(10, 3, &quot;*&quot;) ➞ [\n",
    "# [&quot;**********&quot;],\n",
    "# [&quot;* *&quot;],\n",
    "# [&quot;**********&quot;]\n",
    "# ]\n",
    "# # Frame is 10 characters and wide and 3 characters tall.\n",
    "\n",
    "def get_frame(w,h,c):\n",
    "    if w>2:\n",
    "        return [[c*w if k==0 or k== h-1 else c+' '*(w-2)+c ]for k in range(h)]\n",
    "    else:\n",
    "        return 'Invalid'\n",
    "    \n",
    "print(get_frame(4,5,'#'))\n",
    "print(get_frame(10,3,'*'))\n",
    "print(get_frame(2,5,'0'))"
   ]
  },
  {
   "cell_type": "code",
   "execution_count": 53,
   "id": "f0d4a8bd",
   "metadata": {},
   "outputs": [
    {
     "name": "stdout",
     "output_type": "stream",
     "text": [
      "False\n",
      "True\n",
      "False\n"
     ]
    }
   ],
   "source": [
    "# 2. Write three functions:\n",
    "# 1. boolean_and\n",
    "# 2. boolean_or\n",
    "# 3. boolean_xor\n",
    "# These functions should evaluate a list of True and False values, starting from\n",
    "# the leftmost element and evaluating pairwise.\n",
    "\n",
    "def boolean_and(inp):\n",
    "    return True if all(inp) else False\n",
    "\n",
    "def boolean_or(inp):\n",
    "    return True if any(inp) else False\n",
    "\n",
    "from functools import reduce\n",
    "def boolean_xor(inp):\n",
    "    return reduce(lambda x, y: x ^ y, inp)\n",
    "\n",
    "print(boolean_and([True,True,False,True]))\n",
    "print(boolean_or([True,True,False,False]))\n",
    "print(boolean_xor([True,True,False,False]))"
   ]
  },
  {
   "cell_type": "code",
   "execution_count": 62,
   "id": "b82db2ea",
   "metadata": {},
   "outputs": [
    {
     "name": "stdout",
     "output_type": "stream",
     "text": [
      "['#####', '#   #', '#   #', '#   #', '#####']\n",
      "['###', '# #', '###']\n",
      "['##', '##']\n",
      "['#']\n"
     ]
    }
   ],
   "source": [
    "# 3. Create a function that creates a box based on dimension n.\n",
    "# Examples\n",
    "# make_box(5) ➞ [\n",
    "# &quot;#####&quot;,\n",
    "# &quot;# #&quot;,\n",
    "# &quot;# #&quot;,\n",
    "# &quot;# #&quot;,\n",
    "# &quot;#####&quot;\n",
    "# ]\n",
    "\n",
    "def make_box(inp):\n",
    "    c=  '#'\n",
    "    return [c*inp if k==0 or k== inp-1 else c+' '*(inp-2)+c for k in range(inp)]\n",
    "\n",
    "print(make_box(5))\n",
    "print(make_box(3))    \n",
    "print(make_box(2))   \n",
    "print(make_box(1)) "
   ]
  },
  {
   "cell_type": "code",
   "execution_count": 81,
   "id": "b59cef72",
   "metadata": {},
   "outputs": [
    {
     "name": "stdout",
     "output_type": "stream",
     "text": [
      "True\n",
      "True\n",
      "False\n",
      "False\n"
     ]
    }
   ],
   "source": [
    "# 4. Given a common phrase, return False if any individual word in the phrase\n",
    "# contains duplicate letters. Return True otherwise.\n",
    "# Examples\n",
    "# no_duplicate_letters(&quot;Fortune favours the bold.&quot;) ➞ True\n",
    "\n",
    "def no_duplicate_letters(inp):\n",
    "    for i in inp.split():\n",
    "        if len(set([j for j in i]))< len(i):\n",
    "            return False\n",
    "    return True\n",
    "\n",
    "print(no_duplicate_letters('Fortune favours the bold.'))\n",
    "print(no_duplicate_letters(\"You can lead a horse to water, but you can't make him drink\"))\n",
    "print(no_duplicate_letters(\"Look before you leap.\"))\n",
    "print(no_duplicate_letters(\"An apple a day keeps the doctor away.\"))"
   ]
  },
  {
   "cell_type": "code",
   "execution_count": 89,
   "id": "8be8e565",
   "metadata": {},
   "outputs": [
    {
     "name": "stdout",
     "output_type": "stream",
     "text": [
      "['California', 'Florida']\n"
     ]
    }
   ],
   "source": [
    "# 5. Write a regular expression that will match the states that voted yes to\n",
    "# President Trump&#39;s impeachment. You must use RegEx positive lookahead.\n",
    "# Example\n",
    "# txt = &quot;Texas = no, California = yes, Florida = yes, Michigan = no&quot;\n",
    "# pattern = &quot;yourregularexpressionhere&quot;\n",
    "# re.findall(pattern, txt) ➞ [&quot;California&quot;, &quot;Florida&quot;]\n",
    "\n",
    "import re\n",
    "a = 'Texas = no, California = yes, Florida = yes, Michigan = n0'\n",
    "print(re.findall(r'(?<=,\\s)[\\w\\s]*(?=\\s\\=\\s[yes])',a))"
   ]
  },
  {
   "cell_type": "code",
   "execution_count": null,
   "id": "63656e6d",
   "metadata": {},
   "outputs": [],
   "source": []
  }
 ],
 "metadata": {
  "kernelspec": {
   "display_name": "Python 3",
   "language": "python",
   "name": "python3"
  },
  "language_info": {
   "codemirror_mode": {
    "name": "ipython",
    "version": 3
   },
   "file_extension": ".py",
   "mimetype": "text/x-python",
   "name": "python",
   "nbconvert_exporter": "python",
   "pygments_lexer": "ipython3",
   "version": "3.7.3"
  }
 },
 "nbformat": 4,
 "nbformat_minor": 5
}
