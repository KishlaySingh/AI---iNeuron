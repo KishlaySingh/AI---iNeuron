{
 "cells": [
  {
   "cell_type": "code",
   "execution_count": null,
   "id": "8ae1d2cc",
   "metadata": {},
   "outputs": [],
   "source": [
    "# 1. Write a function that returns True if a given name can generate an array of\n",
    "# words.\n",
    "# Examples\n",
    "# anagram(&quot;Justin Bieber&quot;, [&quot;injures&quot;, &quot;ebb&quot;, &quot;it&quot;]) ➞ True\n",
    "\n",
    "def anagram(a,inp):\n",
    "    return True if len(a.replace(\" \",\"\").casefold())==len(''.join(inp)) else False\n",
    "\n",
    "print(anagram('justin bieber',['injures','ebb','it']))\n",
    "print(anagram('Natalie Portman',['ornamental','pita']))\n",
    "print(anagram('Chris Pratt',['chirps','rat']))\n",
    "print(anagram('Jeff Goldblum',['jog','meld','bluffs']))"
   ]
  },
  {
   "cell_type": "code",
   "execution_count": null,
   "id": "acbc8a9f",
   "metadata": {},
   "outputs": [],
   "source": [
    "# 2. Given an array of users, each defined by an object with the following\n",
    "# properties: name, score, reputation create a function that sorts the array to\n",
    "# form the correct leaderboard.\n",
    "# The leaderboard takes into consideration the score of each user of course,\n",
    "# but an emphasis is put on their reputation in the community, so to get the\n",
    "# trueScore, you should add the reputation multiplied by 2 to the score.\n",
    "# Once you know the trueScore of each user, sort the array according to it in\n",
    "# descending order.\n",
    "# Examples\n",
    "# leaderboards([\n",
    "# { &quot;name&quot;: &quot;a&quot;, &quot;score&quot;: 100, &quot;reputation&quot;: 20 },\n",
    "# { &quot;name&quot;: &quot;b&quot;, &quot;score&quot;: 90, &quot;reputation&quot;: 40 },\n",
    "# { &quot;name&quot;: &quot;c&quot;, &quot;score&quot;: 115, &quot;reputation&quot;: 30 },\n",
    "# ]) ➞ [\n",
    "# { &quot;name&quot;: &quot;c&quot;, &quot;score&quot;: 115, &quot;reputation&quot;: 30 }, # trueScore = 175\n",
    "# { &quot;name&quot;: &quot;b&quot;, &quot;score&quot;: 90, &quot;reputation&quot;: 40 }, # trueScore = 170\n",
    "# { &quot;name&quot;: &quot;a&quot;, &quot;score&quot;: 100, &quot;reputation&quot;: 20 } # trueScore = 140\n",
    "# ]\n",
    "\n",
    "def Leaderboard(inp):\n",
    "    [i.update({'truescore':i['reputation']*2 + i['score']}) for i in inp]\n",
    "    res = sorted(inp, key=lambda k: k['truescore'] ,reverse=True)\n",
    "    [i.pop('truescore') for i in res]\n",
    "    return res\n",
    "\n",
    "print(Leaderboard([{ 'name' :'a', 'score': 100, 'reputation': 20 },{ 'name': 'b', 'score': 90, 'reputation': 40 },\n",
    "{ 'name': 'c', 'score': 115, 'reputation': 30 }]))"
   ]
  },
  {
   "cell_type": "code",
   "execution_count": null,
   "id": "1544fd83",
   "metadata": {},
   "outputs": [],
   "source": [
    "# 3. Create a function that, given a phrase and a number of letters guessed,\n",
    "# returns a string with hyphens - for every letter of the phrase not guessed, and\n",
    "# each letter guessed in place.\n",
    "# Examples\n",
    "# hangman(&quot;helicopter&quot;, [&quot;o&quot;, &quot;e&quot;, &quot;s&quot;]) ➞ &quot;-e---o--e-&quot;\n",
    "def hangman(a,inp):\n",
    "    return ''.join([i if i.casefold() in map(str.casefold,inp) else ' ' if i == ' '\n",
    "                    else '\"' if i =='\"' else '-' for i in a ])\n",
    "\n",
    "print(hangman('helicopter',['o','e','s']))\n",
    "print(hangman('tree',['r','t','e']))\n",
    "print(hangman('Python rules',['a','n','p','r','z']))\n",
    "print(hangman('He\"s a very naughty boy!',['e','a','y']))"
   ]
  },
  {
   "cell_type": "code",
   "execution_count": 4,
   "id": "92e6fdbc",
   "metadata": {},
   "outputs": [
    {
     "name": "stdout",
     "output_type": "stream",
     "text": [
      "16\n",
      "32\n",
      "256\n"
     ]
    }
   ],
   "source": [
    "# 4. The Collatz sequence is as follows:\n",
    "# - Start with some given integer n.\n",
    "# - If it is even, the next number will be n divided by 2.\n",
    "# - If it is odd, multiply it by 3 and add 1 to make the next number.\n",
    "# - The sequence stops when it reaches 1.\n",
    "# According to the Collatz conjecture, it will always reach 1. If that&#39;s true, you\n",
    "# can construct a finite sequence following the aforementioned method for any\n",
    "# given integer.\n",
    "# Write a function that takes in an integer n and returns the highest integer in\n",
    "# the corresponding Collatz sequence.\n",
    "# Examples\n",
    "# max_collatz(10) ➞ 16\n",
    "# Collatz sequence: 10, 5, 16, 8, 4, 2, 1\n",
    "\n",
    "def max_collatz(number):\n",
    "    res = []\n",
    "    res.append(number)\n",
    "    while number != 1:\n",
    "        if number % 2 == 0:\n",
    "            number = number // 2\n",
    "            res.append(number)\n",
    "\n",
    "        elif number % 2 == 1:\n",
    "            result = 3 * number + 1\n",
    "            number =  result\n",
    "            res.append(number)\n",
    "    return max(res)\n",
    "print(max_collatz(10))\n",
    "print(max_collatz(32))\n",
    "print(max_collatz(85))"
   ]
  },
  {
   "cell_type": "code",
   "execution_count": 67,
   "id": "e2ae9039",
   "metadata": {
    "scrolled": true
   },
   "outputs": [
    {
     "name": "stdout",
     "output_type": "stream",
     "text": [
      "[101, 23, 77, 5, 7]\n",
      "[444, 563, 789, 1, 2, 5, 9]\n",
      "[53219, 3772, 564, 32, 1]\n"
     ]
    }
   ],
   "source": [
    "# 5. Write a function that sorts a list of integers by their digit length in\n",
    "# descending order, then settles ties by sorting numbers with the same digit\n",
    "# length in ascending order.\n",
    "# Examples\n",
    "# digit_sort([77, 23, 5, 7, 101])\n",
    "# ➞ [101, 23, 77, 5, 7]\n",
    "\n",
    "def digit_sort(inp):\n",
    "    max_len = len(str((max(inp))))\n",
    "    out = []\n",
    "    for i in range(max_len,0,-1):\n",
    "        b = sorted(j for j in inp if len(str(j))==i)\n",
    "        out.append(b)\n",
    "    return [k for j in out for k in j]\n",
    "\n",
    "print(digit_sort([77, 23, 5, 7, 101]))\n",
    "print(digit_sort([1,5, 9, 2, 789, 563, 444]))\n",
    "print(digit_sort([53219,3772, 564, 32, 1]))"
   ]
  }
 ],
 "metadata": {
  "kernelspec": {
   "display_name": "Python 3",
   "language": "python",
   "name": "python3"
  },
  "language_info": {
   "codemirror_mode": {
    "name": "ipython",
    "version": 3
   },
   "file_extension": ".py",
   "mimetype": "text/x-python",
   "name": "python",
   "nbconvert_exporter": "python",
   "pygments_lexer": "ipython3",
   "version": "3.7.3"
  }
 },
 "nbformat": 4,
 "nbformat_minor": 5
}
