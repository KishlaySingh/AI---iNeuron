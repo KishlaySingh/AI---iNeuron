{
 "cells": [
  {
   "cell_type": "code",
   "execution_count": 35,
   "id": "93244033",
   "metadata": {},
   "outputs": [
    {
     "name": "stdout",
     "output_type": "stream",
     "text": [
      "['3', '3', '3']\n",
      "['12', '7.5', '14.5']\n",
      "['27', '75']\n"
     ]
    }
   ],
   "source": [
    "# 1. Given a list of numbers, create a function that removes 25% from every\n",
    "# number in the list except the smallest number, and adds the total amount\n",
    "# removed to the smallest number.\n",
    "# Examples\n",
    "# show_the_love([4, 1, 4]) ➞ [3, 3, 3]\n",
    "\n",
    "def show_the_love(inp):\n",
    "    minm = min(inp)\n",
    "    res = []\n",
    "    minm_index=0\n",
    "    Sum=0\n",
    "    for index,i in enumerate(inp):\n",
    "        if i == minm:\n",
    "            minm_index = index\n",
    "            res.append(i)\n",
    "        else:\n",
    "            Sum +=0.25*i\n",
    "            res.append('{0:g}'.format(i-i*.25))\n",
    "    \n",
    "    res.insert(minm_index,'{0:g}'.format(res.pop(minm_index)+Sum))\n",
    "    return res\n",
    "\n",
    "print(show_the_love([4,1,4]))\n",
    "print(show_the_love([16,10,8]))\n",
    "print(show_the_love([2,100]))"
   ]
  },
  {
   "cell_type": "code",
   "execution_count": 13,
   "id": "b2fa5167",
   "metadata": {},
   "outputs": [
    {
     "name": "stdout",
     "output_type": "stream",
     "text": [
      "['aps', 'hr', 'o']\n",
      "['bdor', 'a', 'e']\n",
      "['enp', 'ahis', 'lov']\n",
      "['flu', 'ekr', 'y']\n",
      "['ahm', 'ct', '']\n"
     ]
    }
   ],
   "source": [
    "# 2. Create a function that takes in two words as input and returns a list of three\n",
    "# elements, in the following order:\n",
    "# 1.Shared letters between two words.\n",
    "# 2.Letters unique to word 1.\n",
    "# 3.Letters unique to word 2.\n",
    "# Each element should have unique letters, and have each letter be\n",
    "# alphabetically sorted.\n",
    "# Examples\n",
    "# letters(&quot;sharp&quot;, &quot;soap&quot;) ➞ [&quot;aps&quot;, &quot;hr&quot;, &quot;o&quot;]\n",
    "\n",
    "def letters(a,b):\n",
    "    res =[]\n",
    "    common = []\n",
    "    only_a = []\n",
    "    for i in set(a):\n",
    "        if i in b:\n",
    "            common.append(i)\n",
    "            b = b.replace(i,\"\")\n",
    "        else:\n",
    "            only_a.append(i)\n",
    "    res.append(''.join(sorted([i for i in common])))\n",
    "    res.append(''.join(sorted([i for i in only_a])))\n",
    "    res.append(''.join(sorted([i for i in b if i not in a])))\n",
    "    return res\n",
    "\n",
    "print(letters('sharp','soap'))\n",
    "print(letters('board','bored'))\n",
    "print(letters('happiness','envelope'))    \n",
    "print(letters('kerfuffle', 'fluffy'))\n",
    "print(letters('match', 'ham'))"
   ]
  },
  {
   "cell_type": "code",
   "execution_count": 112,
   "id": "6ef30e6c",
   "metadata": {},
   "outputs": [
    {
     "name": "stdout",
     "output_type": "stream",
     "text": [
      "[[1, 7], [2, 6], [3, 5], [4, 4]]\n",
      "[[1, 6], [2, 5], [3, 4]]\n",
      "[[5, 2], [9, 1], [8, 8]]\n",
      "[]\n"
     ]
    }
   ],
   "source": [
    "# 3. Write a function that pairs the first number in an array with the last, the\n",
    "# second number with the second to last, etc.\n",
    "# Examples\n",
    "# pairs([1, 2, 3, 4, 5, 6, 7]) ➞ [[1, 7], [2, 6], [3, 5], [4, 4]]\n",
    "import math\n",
    "def pairs(inp):\n",
    "    if len(inp)%2==0:\n",
    "        return [[x,y] for x,y in zip(inp[:math.ceil(len(inp)/2)], inp[-1:math.ceil(len(inp)/2)-1:-1])]\n",
    "    else:\n",
    "        return [[x,y] for x,y in zip(inp[:math.ceil(len(inp)/2)], inp[-1:math.ceil(len(inp)/2)-2:-1])]\n",
    "    \n",
    "print(pairs([1,2,3,4,5,6,7]))\n",
    "print(pairs([1,2,3,4,5,6]))\n",
    "print(pairs([5,9,8,1,2]))\n",
    "print(pairs([]))"
   ]
  },
  {
   "cell_type": "code",
   "execution_count": 122,
   "id": "46ff4464",
   "metadata": {},
   "outputs": [
    {
     "name": "stdout",
     "output_type": "stream",
     "text": [
      "9\n",
      "-1\n",
      "1874682736267235927391936562808774986\n"
     ]
    }
   ],
   "source": [
    "# 4. Write a function that adds two numbers. The catch, however, is that the\n",
    "# numbers will be strings.\n",
    "# Examples\n",
    "# add_str_nums(&quot;4&quot;, &quot;5&quot;) ➞ &quot;9&quot;\n",
    "\n",
    "def add_str_nums(a,b):\n",
    "    if a.isdigit() and b.isdigit():\n",
    "        return int(a) + int(b)\n",
    "    else:\n",
    "        return -1\n",
    "    \n",
    "print(add_str_nums('4','5'))\n",
    "print(add_str_nums('abcdefg','3'))\n",
    "print(add_str_nums('1874682736267235927359283579235789257','32652983572985729'))"
   ]
  },
  {
   "cell_type": "code",
   "execution_count": 6,
   "id": "a5274155",
   "metadata": {},
   "outputs": [
    {
     "name": "stdout",
     "output_type": "stream",
     "text": [
      "214365\n",
      "badce \n"
     ]
    }
   ],
   "source": [
    "# 5. lPaeesh le pemu mnxit ehess rtnisg! Oh, sorry, that was supposed to say:\n",
    "# Please help me unmix these strings!\n",
    "# Somehow my strings have all become mixed up; every pair of characters has\n",
    "# been swapped. Help me undo this so I can understand my strings again.\n",
    "# Examples\n",
    "# unmix(&quot;123456&quot;) ➞ &quot;214365&quot;\n",
    "\n",
    "def unmix(inp):\n",
    "    if len(inp)%2!=0:\n",
    "        inp =inp[:len(inp)-1]+\" \"+inp[-1]\n",
    "    b= [inp[i] for i in range(len(inp)) if i%2==0]\n",
    "    c = [inp[i] for i in range(len(inp)) if i%2!=0]\n",
    "    return ''.join([j+i for i,j in zip(b,c)])\n",
    "\n",
    "print(unmix('123456'))\n",
    "print(unmix('abcde'))"
   ]
  }
 ],
 "metadata": {
  "kernelspec": {
   "display_name": "Python 3",
   "language": "python",
   "name": "python3"
  },
  "language_info": {
   "codemirror_mode": {
    "name": "ipython",
    "version": 3
   },
   "file_extension": ".py",
   "mimetype": "text/x-python",
   "name": "python",
   "nbconvert_exporter": "python",
   "pygments_lexer": "ipython3",
   "version": "3.7.3"
  }
 },
 "nbformat": 4,
 "nbformat_minor": 5
}
