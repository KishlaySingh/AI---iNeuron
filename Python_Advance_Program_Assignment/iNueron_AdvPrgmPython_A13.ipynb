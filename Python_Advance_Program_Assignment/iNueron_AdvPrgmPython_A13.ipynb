{
 "cells": [
  {
   "cell_type": "code",
   "execution_count": null,
   "id": "fa1744a9",
   "metadata": {},
   "outputs": [],
   "source": [
    "# 1. Create a function that takes a list and string. The function should remove\n",
    "# the letters in the string from the list, and return the list.\n",
    "# Examples\n",
    "# remove_letters([&quot;s&quot;, &quot;t&quot;, &quot;r&quot;, &quot;i&quot;, &quot;n&quot;, &quot;g&quot;, &quot;w&quot;], &quot;string&quot;) ➞ [&quot;w&quot;]\n",
    "\n",
    "def remove_letters(inp,n):\n",
    "    out =[]\n",
    "    for i in inp:\n",
    "        if i in n:\n",
    "            n = n.replace(i,\"\",1)\n",
    "        else:\n",
    "            out.append(i)\n",
    "            \n",
    "    return out\n",
    "\n",
    "print(remove_letters(['s','t','r','i','n','g','w'],'string'))\n",
    "print(remove_letters(['b','b', 'l', 'l', 'g', 'n','o','a', 'w'],'balloon'))\n",
    "print(remove_letters(['d','b', 't', 'e', 'a', 'i'],'edabit'))"
   ]
  },
  {
   "cell_type": "code",
   "execution_count": 48,
   "id": "eb01a598",
   "metadata": {},
   "outputs": [
    {
     "name": "stdout",
     "output_type": "stream",
     "text": [
      "5\n",
      "12\n",
      "20\n",
      "29\n",
      "39\n",
      "50\n"
     ]
    }
   ],
   "source": [
    "# 2. A block sequence in three dimensions. We can write a formula for this one:\n",
    "\n",
    "# Create a function that takes a number (step) as an argument and returns the\n",
    "# amount of blocks in that step.\n",
    "# Examples\n",
    "# blocks(1) ➞ 5\n",
    "\n",
    "def blocks(n):\n",
    "    return int(n*((n+1)/2)+3*n+2*n-1)\n",
    "\n",
    "print(blocks(1))\n",
    "print(blocks(2))\n",
    "print(blocks(3))\n",
    "print(blocks(4))\n",
    "print(blocks(5))\n",
    "print(blocks(6))"
   ]
  },
  {
   "cell_type": "code",
   "execution_count": 3,
   "id": "157954e1",
   "metadata": {},
   "outputs": [
    {
     "name": "stdout",
     "output_type": "stream",
     "text": [
      "4\n",
      "20\n",
      "0\n"
     ]
    }
   ],
   "source": [
    "# 3. Create a function that subtracts one positive integer from another, without\n",
    "# using any arithmetic operators such as -, %, /, +, etc.\n",
    "# Examples\n",
    "# my_sub(5, 9) ➞ 4\n",
    "def subtract(x, y):\n",
    "    while (y != 0):\n",
    "        borrow = (~x) & y\n",
    "        x = x ^ y\n",
    "        y = borrow << 1     \n",
    "    return x\n",
    "print(subtract(9,5))\n",
    "print(subtract(30,10))\n",
    "print(subtract(0,0))"
   ]
  },
  {
   "cell_type": "code",
   "execution_count": 12,
   "id": "3e192dab",
   "metadata": {},
   "outputs": [
    {
     "name": "stdout",
     "output_type": "stream",
     "text": [
      "70\n",
      "170\n",
      "2200\n"
     ]
    }
   ],
   "source": [
    "# 4. Create a function that takes a string containing money in dollars and\n",
    "# pounds sterling (seperated by comma) and returns the sum of dollar bills only,\n",
    "# as an integer.\n",
    "# For the input string:\n",
    "# - Each amount is prefixed by the currency symbol: $ for dollars and £ for\n",
    "# pounds.\n",
    "# - Thousands are represented by the suffix k.\n",
    "# i.e. $4k = $4,000 and £40k = £40,000\n",
    "\n",
    "def add_bill(inp):\n",
    "    curr = inp.split(',')\n",
    "    Sum=0\n",
    "    for i in curr:\n",
    "        if i[0]=='d':\n",
    "            if i[-1]=='k':\n",
    "                Sum+=int(i[1:-1])*1000\n",
    "            else:\n",
    "                Sum+=int(i[1:])\n",
    "    return Sum\n",
    "\n",
    "print(add_bill('d20,p40,p60,d50'))\n",
    "print(add_bill('p30,d20,p60,d150,p360'))\n",
    "print(add_bill('p30,d2k,p60,d200,p360'))"
   ]
  },
  {
   "cell_type": "code",
   "execution_count": 43,
   "id": "d0ca3736",
   "metadata": {},
   "outputs": [
    {
     "name": "stdout",
     "output_type": "stream",
     "text": [
      "[[1], [2], [3], [4]]\n",
      "[5, 6, 9]\n",
      "[]\n"
     ]
    }
   ],
   "source": [
    "# 5. Create a function that flips a horizontal list into a vertical list, and a vertical\n",
    "# list into a horizontal list.\n",
    "# In other words, take an 1 x n list (1 row + n columns) and flip it into a n x 1 list\n",
    "# (n rows and 1 column), and vice versa.\n",
    "# Examples\n",
    "# flip_list([1, 2, 3, 4]) ➞ [[1], [2], [3], [4]]\n",
    "# Take a horizontal list and flip it vertical.\n",
    "def flip_list(inp):\n",
    "    if any(isinstance(i,list) for i in inp):\n",
    "        return [j for i in inp for j in i]       \n",
    "    else:\n",
    "        return [[i] for i in inp ]\n",
    "        \n",
    "\n",
    "print(flip_list([1,2,3,4]))\n",
    "print(flip_list([[5],[6],[9]]))\n",
    "print(flip_list([]))"
   ]
  }
 ],
 "metadata": {
  "kernelspec": {
   "display_name": "Python 3",
   "language": "python",
   "name": "python3"
  },
  "language_info": {
   "codemirror_mode": {
    "name": "ipython",
    "version": 3
   },
   "file_extension": ".py",
   "mimetype": "text/x-python",
   "name": "python",
   "nbconvert_exporter": "python",
   "pygments_lexer": "ipython3",
   "version": "3.7.3"
  }
 },
 "nbformat": 4,
 "nbformat_minor": 5
}
