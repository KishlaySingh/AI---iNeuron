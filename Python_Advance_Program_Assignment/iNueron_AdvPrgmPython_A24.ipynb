{
 "cells": [
  {
   "cell_type": "markdown",
   "id": "ccf12966",
   "metadata": {},
   "source": [
    "1. Implement a class iterator to flatten a nested list of lists of integers. Each\n",
    "list element is either an integer or a list. There can be many levels of nested\n",
    "lists in lists.\n",
    "The class initializes with a nested list. It also has two methods:\n",
    "    1. next() returns an integer in the order of appearance.\n",
    "    2. hasNext() returns True / False regarding if all integers have been\n",
    "retrieved or not.\n",
    "Write the Class implementation for three required methods."
   ]
  },
  {
   "cell_type": "code",
   "execution_count": 54,
   "id": "6e7e2c22",
   "metadata": {},
   "outputs": [
    {
     "name": "stdout",
     "output_type": "stream",
     "text": [
      "[1, 1, 2, 1, 1]\n",
      "True\n",
      "[1, 4, 6]\n",
      "True\n",
      "[]\n",
      "True\n"
     ]
    }
   ],
   "source": [
    "class Iterator:\n",
    "    def __init__(self,nested_lst):\n",
    "        self.nested_lst = nested_lst\n",
    "        \n",
    "    def next(self):\n",
    "        n = self.nested_lst\n",
    "        flatten = lambda *n : (e for a in n for e in (flatten(*a) if isinstance(a,list) else (a,)))\n",
    "        return [i for i in list(flatten(n)) if isinstance(i,int)]\n",
    "    \n",
    "    def hasNext(self):\n",
    "        n = self.nested_lst\n",
    "        next_out = self.next()\n",
    "        flatten = lambda *n : (e for a in n for e in (flatten(*a) if isinstance(a,list) else (a,)))\n",
    "        return True if len(list(flatten(n)))== len((next_out)) else False\n",
    "    \n",
    "it = Iterator([[1, 1], 2, [1, 1]])\n",
    "print(it.next())\n",
    "print(it.hasNext())\n",
    "\n",
    "it = Iterator([1, [4, [6]]])\n",
    "print(it.next())\n",
    "print(it.hasNext())\n",
    "\n",
    "it = Iterator([[[]], []])\n",
    "print(it.next())\n",
    "print(it.hasNext())"
   ]
  },
  {
   "cell_type": "markdown",
   "id": "3cd62f64",
   "metadata": {},
   "source": [
    "2. Implement the class Shape that receives perimeter and density function\n",
    "into __init__ method. The list of consecutive corners defines shape of a 2-\n",
    "dimensional object. The density function defines the mass distribution inside\n",
    "the shape. To compute mass in a certain point m(x, y) = small_square *\n",
    "density(x, y). The __init__ method calls other internal methods that compute\n",
    "three characteristics of the shape:\n",
    "- area\n",
    "- total mass\n",
    "- center of mass (xc, yc)\n",
    "The computational grid has distance between two neighboring points as 2 *\n",
    "delta, the distance between a grid point and the perimeter wall is delta."
   ]
  },
  {
   "cell_type": "code",
   "execution_count": null,
   "id": "61650de6",
   "metadata": {},
   "outputs": [],
   "source": [
    "# Don't understand the ques 2"
   ]
  },
  {
   "cell_type": "markdown",
   "id": "6ca9c937",
   "metadata": {},
   "source": [
    "3. Given a 3x3 matrix of a completed tic-tac-toe game, create a function that\n",
    "returns whether the game is a win for 'X', 'O', or a 'Draw', where 'X' and 'O'\n",
    "represent themselves on the matrix, and 'E' represents an empty spot."
   ]
  },
  {
   "cell_type": "code",
   "execution_count": 70,
   "id": "f4ab43f7",
   "metadata": {},
   "outputs": [
    {
     "name": "stdout",
     "output_type": "stream",
     "text": [
      "X\n",
      "O\n",
      "Draw\n"
     ]
    }
   ],
   "source": [
    "positions_groups = (\n",
    "    [[(x, y) for y in range(3)] for x in range(3)] + # horizontals\n",
    "    [[(x, y) for x in range(3)] for y in range(3)] + # verticals\n",
    "    [[(d, d) for d in range(3)]] + # diagonal from top-left to bottom-right\n",
    "    [[(2-d, d) for d in range(3)]] # diagonal from top-right to bottom-left\n",
    ")\n",
    "\n",
    "def tic_tac_toe(board):\n",
    "    \"\"\"Return winner piece in board (None if no winner).\"\"\"\n",
    "    for positions in positions_groups:\n",
    "        values = [board[x][y] for (x, y) in positions]\n",
    "        if len(set(values)) == 1 and values[0]:\n",
    "            return values[0]\n",
    "    return 'Draw'\n",
    "\n",
    "print(tic_tac_toe([\n",
    "['X', 'O', 'X'],\n",
    "['O', 'X', 'O'],\n",
    "['O', 'X', 'X']\n",
    "]))\n",
    "\n",
    "print(tic_tac_toe([\n",
    "['O', 'O', 'O'],\n",
    "['O', 'X', 'X'],\n",
    "['E', 'X', 'X']\n",
    "]))\n",
    "\n",
    "print(tic_tac_toe([\n",
    "['X', 'X', 'O'],\n",
    "['O', 'O', 'X'],\n",
    "['X', 'X', 'O']\n",
    "]))"
   ]
  },
  {
   "cell_type": "markdown",
   "id": "df71df71",
   "metadata": {},
   "source": [
    "4. Your computer might have been infected by a virus! Create a function that\n",
    "finds the viruses in files and removes them from your computer."
   ]
  },
  {
   "cell_type": "code",
   "execution_count": 123,
   "id": "ce780c86",
   "metadata": {},
   "outputs": [
    {
     "name": "stdout",
     "output_type": "stream",
     "text": [
      "PC Files: spotifysetup.exe, dog.jpg\n",
      "PC Files: antivirus.exe, cat.pdf\n",
      "PC Files: notvirus.exe, funnycat.gif\n"
     ]
    }
   ],
   "source": [
    "def remove_virus(inp):\n",
    "    var = ['antivirus.exe','notvirus.exe']\n",
    "    res = inp.split(':')\n",
    "    temp = res[1].split(',')\n",
    "    for i in temp:\n",
    "        if i.strip() not in var and ('virus' in i or 'malware' in i):\n",
    "            inp = inp.replace(i+\",\",\"\") if i+\",\" in inp else inp.replace(i,\"\")\n",
    "    return inp.rstrip(',')\n",
    "\n",
    "print(remove_virus('PC Files: spotifysetup.exe, virus.exe, dog.jpg'))\n",
    "print(remove_virus('PC Files: antivirus.exe, cat.pdf, lethalmalware.exe,dangerousvirus.exe '))\n",
    "print(remove_virus('PC Files: notvirus.exe, funnycat.gif'))"
   ]
  },
  {
   "cell_type": "markdown",
   "id": "0b2c4462",
   "metadata": {},
   "source": [
    "5. In a video game, a meteor will fall toward the main character's home\n",
    "planet. Given the meteor's trajectory as a string in the form y = mx + b and\n",
    "the character's position as a tuple of (x, y), return True if the meteor will hit\n",
    "the character and False if it will not."
   ]
  },
  {
   "cell_type": "code",
   "execution_count": 176,
   "id": "ccdae13a",
   "metadata": {},
   "outputs": [
    {
     "name": "stdout",
     "output_type": "stream",
     "text": [
      "False\n",
      "True\n",
      "False\n"
     ]
    }
   ],
   "source": [
    "def will_hit(lst,cord):\n",
    "    return eval(b[0].replace('y',str(cord[1]))) == eval(b[1].replace('x','*'+str(cord[0])))\n",
    "\n",
    "print(will_hit('y=2x-5',(0,0)))\n",
    "print(will_hit(\"y = -4x+6\",(1,2)))\n",
    "print(will_hit('y=2x+6',(3,2)))"
   ]
  }
 ],
 "metadata": {
  "kernelspec": {
   "display_name": "Python 3",
   "language": "python",
   "name": "python3"
  },
  "language_info": {
   "codemirror_mode": {
    "name": "ipython",
    "version": 3
   },
   "file_extension": ".py",
   "mimetype": "text/x-python",
   "name": "python",
   "nbconvert_exporter": "python",
   "pygments_lexer": "ipython3",
   "version": "3.8.8"
  }
 },
 "nbformat": 4,
 "nbformat_minor": 5
}
