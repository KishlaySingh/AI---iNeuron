{
 "cells": [
  {
   "cell_type": "code",
   "execution_count": null,
   "id": "0fdf1ea4",
   "metadata": {},
   "outputs": [],
   "source": [
    "# 1. Write a function that counts how many concentric layers a rug.\n",
    "\n"
   ]
  },
  {
   "cell_type": "code",
   "execution_count": null,
   "id": "c84955ab",
   "metadata": {},
   "outputs": [],
   "source": [
    "# 2. There are many different styles of music and many albums exhibit multiple\n",
    "# styles. Create a function that takes a list of musical styles from albums and\n",
    "# returns how many styles are unique.\n",
    "\n",
    "def unique_styles(n):\n",
    "    return len(set([b for a in [i.split(',') for i in n ] for b in a]))\n",
    "\n",
    "print(unique_styles(['Dub,Dancehall',\n",
    "'Industrial,Heavy Metal',\n",
    "'Techno,Dubstep',\n",
    "'Synth-pop,Euro-Disco',\n",
    "'Industrial,Techno,Minimal']))\n",
    "\n",
    "print(unique_styles(['Soul',\n",
    "'House,Folk',\n",
    "'Trance,Downtempo,Big Beat,House',\n",
    "'Deep House',\n",
    "'Soul']))"
   ]
  },
  {
   "cell_type": "code",
   "execution_count": 4,
   "id": "667eb1bf",
   "metadata": {},
   "outputs": [
    {
     "name": "stdout",
     "output_type": "stream",
     "text": [
      "Yes\n",
      "No\n",
      "Yes\n",
      "No\n"
     ]
    }
   ],
   "source": [
    "# 3. Create a function that finds a target number in a list of prime numbers.\n",
    "# Implement a binary search algorithm in your function. The target number will\n",
    "# be from 2 through 97. If the target is prime then return &quot;yes&quot; else return &quot;no&quot;.\n",
    "\n",
    "def is_prime(inp,n):\n",
    "    low=0\n",
    "    high = len(inp)-1\n",
    "    mid =0\n",
    "    res=\"No\"\n",
    "    while low<=high:\n",
    "        mid = (low+high)//2\n",
    "        if inp[mid]<n:\n",
    "            low = mid+1\n",
    "        elif inp[mid]>n:\n",
    "            high = mid-1\n",
    "        else:\n",
    "            res = \"Yes\"\n",
    "            break\n",
    "    return res\n",
    "\n",
    "primes = [2, 3, 5, 7, 11, 13, 17, 19, 23, 29, 31, 37, 41, 43, 47, 53, 59, 61, 67,\n",
    "71, 73, 79, 83, 89, 97]\n",
    "print(is_prime(primes,3))\n",
    "print(is_prime(primes,4))\n",
    "print(is_prime(primes,67))\n",
    "print(is_prime(primes,36))"
   ]
  },
  {
   "cell_type": "code",
   "execution_count": null,
   "id": "c666031a",
   "metadata": {},
   "outputs": [],
   "source": [
    "# 4. Create a function that takes in n, a, b and returns the number of positive\n",
    "# values raised to the nth power that lie in the range [a, b], inclusive.\n",
    "def power_ranger(n,a,b):\n",
    "    a1 = round(a**(1/n))\n",
    "    b1 = round(b**(1/n))\n",
    "    return len([i for i in range(a1,b1+1)])\n",
    "\n",
    "print(power_ranger(2,49,65))\n",
    "print(power_ranger(3,1,27))\n",
    "print(power_ranger(10,1,15))\n",
    "print(power_ranger(5,31,33))\n",
    "print(power_ranger(4,250,1300))"
   ]
  }
 ],
 "metadata": {
  "kernelspec": {
   "display_name": "Python 3",
   "language": "python",
   "name": "python3"
  },
  "language_info": {
   "codemirror_mode": {
    "name": "ipython",
    "version": 3
   },
   "file_extension": ".py",
   "mimetype": "text/x-python",
   "name": "python",
   "nbconvert_exporter": "python",
   "pygments_lexer": "ipython3",
   "version": "3.7.3"
  }
 },
 "nbformat": 4,
 "nbformat_minor": 5
}
